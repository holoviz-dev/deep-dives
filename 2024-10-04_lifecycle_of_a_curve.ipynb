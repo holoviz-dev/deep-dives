{
 "cells": [
  {
   "cell_type": "markdown",
   "id": "2a32afca-d697-4ced-93a5-7bfaec8c16d9",
   "metadata": {},
   "source": [
    "# Lifecycle of a Curve"
   ]
  },
  {
   "cell_type": "code",
   "execution_count": 1,
   "id": "1cbdb34b-92f5-4261-ab1c-5b74f86bdedb",
   "metadata": {},
   "outputs": [
    {
     "data": {
      "text/html": [
       "<script type=\"esms-options\">{\"shimMode\": true}</script><style>*[data-root-id],\n",
       "*[data-root-id] > * {\n",
       "  box-sizing: border-box;\n",
       "  font-family: var(--jp-ui-font-family);\n",
       "  font-size: var(--jp-ui-font-size1);\n",
       "  color: var(--vscode-editor-foreground, var(--jp-ui-font-color1));\n",
       "}\n",
       "\n",
       "/* Override VSCode background color */\n",
       ".cell-output-ipywidget-background:has(\n",
       "    > .cell-output-ipywidget-background > .lm-Widget > *[data-root-id]\n",
       "  ),\n",
       ".cell-output-ipywidget-background:has(> .lm-Widget > *[data-root-id]) {\n",
       "  background-color: transparent !important;\n",
       "}\n",
       "</style>"
      ]
     },
     "metadata": {},
     "output_type": "display_data"
    },
    {
     "data": {
      "application/javascript": [
       "(function(root) {\n",
       "  function now() {\n",
       "    return new Date();\n",
       "  }\n",
       "\n",
       "  const force = true;\n",
       "  const py_version = '3.6.0'.replace('rc', '-rc.').replace('.dev', '-dev.');\n",
       "  const reloading = false;\n",
       "  const Bokeh = root.Bokeh;\n",
       "\n",
       "  // Set a timeout for this load but only if we are not already initializing\n",
       "  if (typeof (root._bokeh_timeout) === \"undefined\" || (force || !root._bokeh_is_initializing)) {\n",
       "    root._bokeh_timeout = Date.now() + 5000;\n",
       "    root._bokeh_failed_load = false;\n",
       "  }\n",
       "\n",
       "  function run_callbacks() {\n",
       "    try {\n",
       "      root._bokeh_onload_callbacks.forEach(function(callback) {\n",
       "        if (callback != null)\n",
       "          callback();\n",
       "      });\n",
       "    } finally {\n",
       "      delete root._bokeh_onload_callbacks;\n",
       "    }\n",
       "    console.debug(\"Bokeh: all callbacks have finished\");\n",
       "  }\n",
       "\n",
       "  function load_libs(css_urls, js_urls, js_modules, js_exports, callback) {\n",
       "    if (css_urls == null) css_urls = [];\n",
       "    if (js_urls == null) js_urls = [];\n",
       "    if (js_modules == null) js_modules = [];\n",
       "    if (js_exports == null) js_exports = {};\n",
       "\n",
       "    root._bokeh_onload_callbacks.push(callback);\n",
       "\n",
       "    if (root._bokeh_is_loading > 0) {\n",
       "      // Don't load bokeh if it is still initializing\n",
       "      console.debug(\"Bokeh: BokehJS is being loaded, scheduling callback at\", now());\n",
       "      return null;\n",
       "    } else if (js_urls.length === 0 && js_modules.length === 0 && Object.keys(js_exports).length === 0) {\n",
       "      // There is nothing to load\n",
       "      run_callbacks();\n",
       "      return null;\n",
       "    }\n",
       "\n",
       "    function on_load() {\n",
       "      root._bokeh_is_loading--;\n",
       "      if (root._bokeh_is_loading === 0) {\n",
       "        console.debug(\"Bokeh: all BokehJS libraries/stylesheets loaded\");\n",
       "        run_callbacks()\n",
       "      }\n",
       "    }\n",
       "    window._bokeh_on_load = on_load\n",
       "\n",
       "    function on_error(e) {\n",
       "      const src_el = e.srcElement\n",
       "      console.error(\"failed to load \" + (src_el.href || src_el.src));\n",
       "    }\n",
       "\n",
       "    const skip = [];\n",
       "    if (window.requirejs) {\n",
       "      window.requirejs.config({'packages': {}, 'paths': {}, 'shim': {}});\n",
       "      root._bokeh_is_loading = css_urls.length + 0;\n",
       "    } else {\n",
       "      root._bokeh_is_loading = css_urls.length + js_urls.length + js_modules.length + Object.keys(js_exports).length;\n",
       "    }\n",
       "\n",
       "    const existing_stylesheets = []\n",
       "    const links = document.getElementsByTagName('link')\n",
       "    for (let i = 0; i < links.length; i++) {\n",
       "      const link = links[i]\n",
       "      if (link.href != null) {\n",
       "        existing_stylesheets.push(link.href)\n",
       "      }\n",
       "    }\n",
       "    for (let i = 0; i < css_urls.length; i++) {\n",
       "      const url = css_urls[i];\n",
       "      const escaped = encodeURI(url)\n",
       "      if (existing_stylesheets.indexOf(escaped) !== -1) {\n",
       "        on_load()\n",
       "        continue;\n",
       "      }\n",
       "      const element = document.createElement(\"link\");\n",
       "      element.onload = on_load;\n",
       "      element.onerror = on_error;\n",
       "      element.rel = \"stylesheet\";\n",
       "      element.type = \"text/css\";\n",
       "      element.href = url;\n",
       "      console.debug(\"Bokeh: injecting link tag for BokehJS stylesheet: \", url);\n",
       "      document.body.appendChild(element);\n",
       "    }    var existing_scripts = []\n",
       "    const scripts = document.getElementsByTagName('script')\n",
       "    for (let i = 0; i < scripts.length; i++) {\n",
       "      var script = scripts[i]\n",
       "      if (script.src != null) {\n",
       "        existing_scripts.push(script.src)\n",
       "      }\n",
       "    }\n",
       "    for (let i = 0; i < js_urls.length; i++) {\n",
       "      const url = js_urls[i];\n",
       "      const escaped = encodeURI(url)\n",
       "      if (skip.indexOf(escaped) !== -1 || existing_scripts.indexOf(escaped) !== -1) {\n",
       "        if (!window.requirejs) {\n",
       "          on_load();\n",
       "        }\n",
       "        continue;\n",
       "      }\n",
       "      const element = document.createElement('script');\n",
       "      element.onload = on_load;\n",
       "      element.onerror = on_error;\n",
       "      element.async = false;\n",
       "      element.src = url;\n",
       "      console.debug(\"Bokeh: injecting script tag for BokehJS library: \", url);\n",
       "      document.head.appendChild(element);\n",
       "    }\n",
       "    for (let i = 0; i < js_modules.length; i++) {\n",
       "      const url = js_modules[i];\n",
       "      const escaped = encodeURI(url)\n",
       "      if (skip.indexOf(escaped) !== -1 || existing_scripts.indexOf(escaped) !== -1) {\n",
       "        if (!window.requirejs) {\n",
       "          on_load();\n",
       "        }\n",
       "        continue;\n",
       "      }\n",
       "      var element = document.createElement('script');\n",
       "      element.onload = on_load;\n",
       "      element.onerror = on_error;\n",
       "      element.async = false;\n",
       "      element.src = url;\n",
       "      element.type = \"module\";\n",
       "      console.debug(\"Bokeh: injecting script tag for BokehJS library: \", url);\n",
       "      document.head.appendChild(element);\n",
       "    }\n",
       "    for (const name in js_exports) {\n",
       "      const url = js_exports[name];\n",
       "      const escaped = encodeURI(url)\n",
       "      if (skip.indexOf(escaped) >= 0 || root[name] != null) {\n",
       "        if (!window.requirejs) {\n",
       "          on_load();\n",
       "        }\n",
       "        continue;\n",
       "      }\n",
       "      var element = document.createElement('script');\n",
       "      element.onerror = on_error;\n",
       "      element.async = false;\n",
       "      element.type = \"module\";\n",
       "      console.debug(\"Bokeh: injecting script tag for BokehJS library: \", url);\n",
       "      element.textContent = `\n",
       "      import ${name} from \"${url}\"\n",
       "      window.${name} = ${name}\n",
       "      window._bokeh_on_load()\n",
       "      `\n",
       "      document.head.appendChild(element);\n",
       "    }\n",
       "    if (!js_urls.length && !js_modules.length) {\n",
       "      on_load()\n",
       "    }\n",
       "  };\n",
       "\n",
       "  function inject_raw_css(css) {\n",
       "    const element = document.createElement(\"style\");\n",
       "    element.appendChild(document.createTextNode(css));\n",
       "    document.body.appendChild(element);\n",
       "  }\n",
       "\n",
       "  const js_urls = [\"https://cdn.holoviz.org/panel/1.5.2/dist/bundled/reactiveesm/es-module-shims@^1.10.0/dist/es-module-shims.min.js\", \"https://cdn.bokeh.org/bokeh/release/bokeh-3.6.0.min.js\", \"https://cdn.bokeh.org/bokeh/release/bokeh-gl-3.6.0.min.js\", \"https://cdn.bokeh.org/bokeh/release/bokeh-widgets-3.6.0.min.js\", \"https://cdn.bokeh.org/bokeh/release/bokeh-tables-3.6.0.min.js\", \"https://cdn.holoviz.org/panel/1.5.2/dist/panel.min.js\"];\n",
       "  const js_modules = [];\n",
       "  const js_exports = {};\n",
       "  const css_urls = [];\n",
       "  const inline_js = [    function(Bokeh) {\n",
       "      Bokeh.set_log_level(\"info\");\n",
       "    },\n",
       "function(Bokeh) {} // ensure no trailing comma for IE\n",
       "  ];\n",
       "\n",
       "  function run_inline_js() {\n",
       "    if ((root.Bokeh !== undefined) || (force === true)) {\n",
       "      for (let i = 0; i < inline_js.length; i++) {\n",
       "        try {\n",
       "          inline_js[i].call(root, root.Bokeh);\n",
       "        } catch(e) {\n",
       "          if (!reloading) {\n",
       "            throw e;\n",
       "          }\n",
       "        }\n",
       "      }\n",
       "      // Cache old bokeh versions\n",
       "      if (Bokeh != undefined && !reloading) {\n",
       "        var NewBokeh = root.Bokeh;\n",
       "        if (Bokeh.versions === undefined) {\n",
       "          Bokeh.versions = new Map();\n",
       "        }\n",
       "        if (NewBokeh.version !== Bokeh.version) {\n",
       "          Bokeh.versions.set(NewBokeh.version, NewBokeh)\n",
       "        }\n",
       "        root.Bokeh = Bokeh;\n",
       "      }\n",
       "    } else if (Date.now() < root._bokeh_timeout) {\n",
       "      setTimeout(run_inline_js, 100);\n",
       "    } else if (!root._bokeh_failed_load) {\n",
       "      console.log(\"Bokeh: BokehJS failed to load within specified timeout.\");\n",
       "      root._bokeh_failed_load = true;\n",
       "    }\n",
       "    root._bokeh_is_initializing = false\n",
       "  }\n",
       "\n",
       "  function load_or_wait() {\n",
       "    // Implement a backoff loop that tries to ensure we do not load multiple\n",
       "    // versions of Bokeh and its dependencies at the same time.\n",
       "    // In recent versions we use the root._bokeh_is_initializing flag\n",
       "    // to determine whether there is an ongoing attempt to initialize\n",
       "    // bokeh, however for backward compatibility we also try to ensure\n",
       "    // that we do not start loading a newer (Panel>=1.0 and Bokeh>3) version\n",
       "    // before older versions are fully initialized.\n",
       "    if (root._bokeh_is_initializing && Date.now() > root._bokeh_timeout) {\n",
       "      // If the timeout and bokeh was not successfully loaded we reset\n",
       "      // everything and try loading again\n",
       "      root._bokeh_timeout = Date.now() + 5000;\n",
       "      root._bokeh_is_initializing = false;\n",
       "      root._bokeh_onload_callbacks = undefined;\n",
       "      root._bokeh_is_loading = 0\n",
       "      console.log(\"Bokeh: BokehJS was loaded multiple times but one version failed to initialize.\");\n",
       "      load_or_wait();\n",
       "    } else if (root._bokeh_is_initializing || (typeof root._bokeh_is_initializing === \"undefined\" && root._bokeh_onload_callbacks !== undefined)) {\n",
       "      setTimeout(load_or_wait, 100);\n",
       "    } else {\n",
       "      root._bokeh_is_initializing = true\n",
       "      root._bokeh_onload_callbacks = []\n",
       "      const bokeh_loaded = root.Bokeh != null && (root.Bokeh.version === py_version || (root.Bokeh.versions !== undefined && root.Bokeh.versions.has(py_version)));\n",
       "      if (!reloading && !bokeh_loaded) {\n",
       "        if (root.Bokeh) {\n",
       "          root.Bokeh = undefined;\n",
       "        }\n",
       "        console.debug(\"Bokeh: BokehJS not loaded, scheduling load and callback at\", now());\n",
       "      }\n",
       "      load_libs(css_urls, js_urls, js_modules, js_exports, function() {\n",
       "        console.debug(\"Bokeh: BokehJS plotting callback run at\", now());\n",
       "        run_inline_js();\n",
       "      });\n",
       "    }\n",
       "  }\n",
       "  // Give older versions of the autoload script a head-start to ensure\n",
       "  // they initialize before we start loading newer version.\n",
       "  setTimeout(load_or_wait, 100)\n",
       "}(window));"
      ],
      "application/vnd.holoviews_load.v0+json": "(function(root) {\n  function now() {\n    return new Date();\n  }\n\n  const force = true;\n  const py_version = '3.6.0'.replace('rc', '-rc.').replace('.dev', '-dev.');\n  const reloading = false;\n  const Bokeh = root.Bokeh;\n\n  // Set a timeout for this load but only if we are not already initializing\n  if (typeof (root._bokeh_timeout) === \"undefined\" || (force || !root._bokeh_is_initializing)) {\n    root._bokeh_timeout = Date.now() + 5000;\n    root._bokeh_failed_load = false;\n  }\n\n  function run_callbacks() {\n    try {\n      root._bokeh_onload_callbacks.forEach(function(callback) {\n        if (callback != null)\n          callback();\n      });\n    } finally {\n      delete root._bokeh_onload_callbacks;\n    }\n    console.debug(\"Bokeh: all callbacks have finished\");\n  }\n\n  function load_libs(css_urls, js_urls, js_modules, js_exports, callback) {\n    if (css_urls == null) css_urls = [];\n    if (js_urls == null) js_urls = [];\n    if (js_modules == null) js_modules = [];\n    if (js_exports == null) js_exports = {};\n\n    root._bokeh_onload_callbacks.push(callback);\n\n    if (root._bokeh_is_loading > 0) {\n      // Don't load bokeh if it is still initializing\n      console.debug(\"Bokeh: BokehJS is being loaded, scheduling callback at\", now());\n      return null;\n    } else if (js_urls.length === 0 && js_modules.length === 0 && Object.keys(js_exports).length === 0) {\n      // There is nothing to load\n      run_callbacks();\n      return null;\n    }\n\n    function on_load() {\n      root._bokeh_is_loading--;\n      if (root._bokeh_is_loading === 0) {\n        console.debug(\"Bokeh: all BokehJS libraries/stylesheets loaded\");\n        run_callbacks()\n      }\n    }\n    window._bokeh_on_load = on_load\n\n    function on_error(e) {\n      const src_el = e.srcElement\n      console.error(\"failed to load \" + (src_el.href || src_el.src));\n    }\n\n    const skip = [];\n    if (window.requirejs) {\n      window.requirejs.config({'packages': {}, 'paths': {}, 'shim': {}});\n      root._bokeh_is_loading = css_urls.length + 0;\n    } else {\n      root._bokeh_is_loading = css_urls.length + js_urls.length + js_modules.length + Object.keys(js_exports).length;\n    }\n\n    const existing_stylesheets = []\n    const links = document.getElementsByTagName('link')\n    for (let i = 0; i < links.length; i++) {\n      const link = links[i]\n      if (link.href != null) {\n        existing_stylesheets.push(link.href)\n      }\n    }\n    for (let i = 0; i < css_urls.length; i++) {\n      const url = css_urls[i];\n      const escaped = encodeURI(url)\n      if (existing_stylesheets.indexOf(escaped) !== -1) {\n        on_load()\n        continue;\n      }\n      const element = document.createElement(\"link\");\n      element.onload = on_load;\n      element.onerror = on_error;\n      element.rel = \"stylesheet\";\n      element.type = \"text/css\";\n      element.href = url;\n      console.debug(\"Bokeh: injecting link tag for BokehJS stylesheet: \", url);\n      document.body.appendChild(element);\n    }    var existing_scripts = []\n    const scripts = document.getElementsByTagName('script')\n    for (let i = 0; i < scripts.length; i++) {\n      var script = scripts[i]\n      if (script.src != null) {\n        existing_scripts.push(script.src)\n      }\n    }\n    for (let i = 0; i < js_urls.length; i++) {\n      const url = js_urls[i];\n      const escaped = encodeURI(url)\n      if (skip.indexOf(escaped) !== -1 || existing_scripts.indexOf(escaped) !== -1) {\n        if (!window.requirejs) {\n          on_load();\n        }\n        continue;\n      }\n      const element = document.createElement('script');\n      element.onload = on_load;\n      element.onerror = on_error;\n      element.async = false;\n      element.src = url;\n      console.debug(\"Bokeh: injecting script tag for BokehJS library: \", url);\n      document.head.appendChild(element);\n    }\n    for (let i = 0; i < js_modules.length; i++) {\n      const url = js_modules[i];\n      const escaped = encodeURI(url)\n      if (skip.indexOf(escaped) !== -1 || existing_scripts.indexOf(escaped) !== -1) {\n        if (!window.requirejs) {\n          on_load();\n        }\n        continue;\n      }\n      var element = document.createElement('script');\n      element.onload = on_load;\n      element.onerror = on_error;\n      element.async = false;\n      element.src = url;\n      element.type = \"module\";\n      console.debug(\"Bokeh: injecting script tag for BokehJS library: \", url);\n      document.head.appendChild(element);\n    }\n    for (const name in js_exports) {\n      const url = js_exports[name];\n      const escaped = encodeURI(url)\n      if (skip.indexOf(escaped) >= 0 || root[name] != null) {\n        if (!window.requirejs) {\n          on_load();\n        }\n        continue;\n      }\n      var element = document.createElement('script');\n      element.onerror = on_error;\n      element.async = false;\n      element.type = \"module\";\n      console.debug(\"Bokeh: injecting script tag for BokehJS library: \", url);\n      element.textContent = `\n      import ${name} from \"${url}\"\n      window.${name} = ${name}\n      window._bokeh_on_load()\n      `\n      document.head.appendChild(element);\n    }\n    if (!js_urls.length && !js_modules.length) {\n      on_load()\n    }\n  };\n\n  function inject_raw_css(css) {\n    const element = document.createElement(\"style\");\n    element.appendChild(document.createTextNode(css));\n    document.body.appendChild(element);\n  }\n\n  const js_urls = [\"https://cdn.holoviz.org/panel/1.5.2/dist/bundled/reactiveesm/es-module-shims@^1.10.0/dist/es-module-shims.min.js\", \"https://cdn.bokeh.org/bokeh/release/bokeh-3.6.0.min.js\", \"https://cdn.bokeh.org/bokeh/release/bokeh-gl-3.6.0.min.js\", \"https://cdn.bokeh.org/bokeh/release/bokeh-widgets-3.6.0.min.js\", \"https://cdn.bokeh.org/bokeh/release/bokeh-tables-3.6.0.min.js\", \"https://cdn.holoviz.org/panel/1.5.2/dist/panel.min.js\"];\n  const js_modules = [];\n  const js_exports = {};\n  const css_urls = [];\n  const inline_js = [    function(Bokeh) {\n      Bokeh.set_log_level(\"info\");\n    },\nfunction(Bokeh) {} // ensure no trailing comma for IE\n  ];\n\n  function run_inline_js() {\n    if ((root.Bokeh !== undefined) || (force === true)) {\n      for (let i = 0; i < inline_js.length; i++) {\n        try {\n          inline_js[i].call(root, root.Bokeh);\n        } catch(e) {\n          if (!reloading) {\n            throw e;\n          }\n        }\n      }\n      // Cache old bokeh versions\n      if (Bokeh != undefined && !reloading) {\n        var NewBokeh = root.Bokeh;\n        if (Bokeh.versions === undefined) {\n          Bokeh.versions = new Map();\n        }\n        if (NewBokeh.version !== Bokeh.version) {\n          Bokeh.versions.set(NewBokeh.version, NewBokeh)\n        }\n        root.Bokeh = Bokeh;\n      }\n    } else if (Date.now() < root._bokeh_timeout) {\n      setTimeout(run_inline_js, 100);\n    } else if (!root._bokeh_failed_load) {\n      console.log(\"Bokeh: BokehJS failed to load within specified timeout.\");\n      root._bokeh_failed_load = true;\n    }\n    root._bokeh_is_initializing = false\n  }\n\n  function load_or_wait() {\n    // Implement a backoff loop that tries to ensure we do not load multiple\n    // versions of Bokeh and its dependencies at the same time.\n    // In recent versions we use the root._bokeh_is_initializing flag\n    // to determine whether there is an ongoing attempt to initialize\n    // bokeh, however for backward compatibility we also try to ensure\n    // that we do not start loading a newer (Panel>=1.0 and Bokeh>3) version\n    // before older versions are fully initialized.\n    if (root._bokeh_is_initializing && Date.now() > root._bokeh_timeout) {\n      // If the timeout and bokeh was not successfully loaded we reset\n      // everything and try loading again\n      root._bokeh_timeout = Date.now() + 5000;\n      root._bokeh_is_initializing = false;\n      root._bokeh_onload_callbacks = undefined;\n      root._bokeh_is_loading = 0\n      console.log(\"Bokeh: BokehJS was loaded multiple times but one version failed to initialize.\");\n      load_or_wait();\n    } else if (root._bokeh_is_initializing || (typeof root._bokeh_is_initializing === \"undefined\" && root._bokeh_onload_callbacks !== undefined)) {\n      setTimeout(load_or_wait, 100);\n    } else {\n      root._bokeh_is_initializing = true\n      root._bokeh_onload_callbacks = []\n      const bokeh_loaded = root.Bokeh != null && (root.Bokeh.version === py_version || (root.Bokeh.versions !== undefined && root.Bokeh.versions.has(py_version)));\n      if (!reloading && !bokeh_loaded) {\n        if (root.Bokeh) {\n          root.Bokeh = undefined;\n        }\n        console.debug(\"Bokeh: BokehJS not loaded, scheduling load and callback at\", now());\n      }\n      load_libs(css_urls, js_urls, js_modules, js_exports, function() {\n        console.debug(\"Bokeh: BokehJS plotting callback run at\", now());\n        run_inline_js();\n      });\n    }\n  }\n  // Give older versions of the autoload script a head-start to ensure\n  // they initialize before we start loading newer version.\n  setTimeout(load_or_wait, 100)\n}(window));"
     },
     "metadata": {},
     "output_type": "display_data"
    },
    {
     "data": {
      "application/javascript": [
       "\n",
       "if ((window.PyViz === undefined) || (window.PyViz instanceof HTMLElement)) {\n",
       "  window.PyViz = {comms: {}, comm_status:{}, kernels:{}, receivers: {}, plot_index: []}\n",
       "}\n",
       "\n",
       "\n",
       "    function JupyterCommManager() {\n",
       "    }\n",
       "\n",
       "    JupyterCommManager.prototype.register_target = function(plot_id, comm_id, msg_handler) {\n",
       "      if (window.comm_manager || ((window.Jupyter !== undefined) && (Jupyter.notebook.kernel != null))) {\n",
       "        var comm_manager = window.comm_manager || Jupyter.notebook.kernel.comm_manager;\n",
       "        comm_manager.register_target(comm_id, function(comm) {\n",
       "          comm.on_msg(msg_handler);\n",
       "        });\n",
       "      } else if ((plot_id in window.PyViz.kernels) && (window.PyViz.kernels[plot_id])) {\n",
       "        window.PyViz.kernels[plot_id].registerCommTarget(comm_id, function(comm) {\n",
       "          comm.onMsg = msg_handler;\n",
       "        });\n",
       "      } else if (typeof google != 'undefined' && google.colab.kernel != null) {\n",
       "        google.colab.kernel.comms.registerTarget(comm_id, (comm) => {\n",
       "          var messages = comm.messages[Symbol.asyncIterator]();\n",
       "          function processIteratorResult(result) {\n",
       "            var message = result.value;\n",
       "            console.log(message)\n",
       "            var content = {data: message.data, comm_id};\n",
       "            var buffers = []\n",
       "            for (var buffer of message.buffers || []) {\n",
       "              buffers.push(new DataView(buffer))\n",
       "            }\n",
       "            var metadata = message.metadata || {};\n",
       "            var msg = {content, buffers, metadata}\n",
       "            msg_handler(msg);\n",
       "            return messages.next().then(processIteratorResult);\n",
       "          }\n",
       "          return messages.next().then(processIteratorResult);\n",
       "        })\n",
       "      }\n",
       "    }\n",
       "\n",
       "    JupyterCommManager.prototype.get_client_comm = function(plot_id, comm_id, msg_handler) {\n",
       "      if (comm_id in window.PyViz.comms) {\n",
       "        return window.PyViz.comms[comm_id];\n",
       "      } else if (window.comm_manager || ((window.Jupyter !== undefined) && (Jupyter.notebook.kernel != null))) {\n",
       "        var comm_manager = window.comm_manager || Jupyter.notebook.kernel.comm_manager;\n",
       "        var comm = comm_manager.new_comm(comm_id, {}, {}, {}, comm_id);\n",
       "        if (msg_handler) {\n",
       "          comm.on_msg(msg_handler);\n",
       "        }\n",
       "      } else if ((plot_id in window.PyViz.kernels) && (window.PyViz.kernels[plot_id])) {\n",
       "        var comm = window.PyViz.kernels[plot_id].connectToComm(comm_id);\n",
       "        comm.open();\n",
       "        if (msg_handler) {\n",
       "          comm.onMsg = msg_handler;\n",
       "        }\n",
       "      } else if (typeof google != 'undefined' && google.colab.kernel != null) {\n",
       "        var comm_promise = google.colab.kernel.comms.open(comm_id)\n",
       "        comm_promise.then((comm) => {\n",
       "          window.PyViz.comms[comm_id] = comm;\n",
       "          if (msg_handler) {\n",
       "            var messages = comm.messages[Symbol.asyncIterator]();\n",
       "            function processIteratorResult(result) {\n",
       "              var message = result.value;\n",
       "              var content = {data: message.data};\n",
       "              var metadata = message.metadata || {comm_id};\n",
       "              var msg = {content, metadata}\n",
       "              msg_handler(msg);\n",
       "              return messages.next().then(processIteratorResult);\n",
       "            }\n",
       "            return messages.next().then(processIteratorResult);\n",
       "          }\n",
       "        }) \n",
       "        var sendClosure = (data, metadata, buffers, disposeOnDone) => {\n",
       "          return comm_promise.then((comm) => {\n",
       "            comm.send(data, metadata, buffers, disposeOnDone);\n",
       "          });\n",
       "        };\n",
       "        var comm = {\n",
       "          send: sendClosure\n",
       "        };\n",
       "      }\n",
       "      window.PyViz.comms[comm_id] = comm;\n",
       "      return comm;\n",
       "    }\n",
       "    window.PyViz.comm_manager = new JupyterCommManager();\n",
       "    \n",
       "\n",
       "\n",
       "var JS_MIME_TYPE = 'application/javascript';\n",
       "var HTML_MIME_TYPE = 'text/html';\n",
       "var EXEC_MIME_TYPE = 'application/vnd.holoviews_exec.v0+json';\n",
       "var CLASS_NAME = 'output';\n",
       "\n",
       "/**\n",
       " * Render data to the DOM node\n",
       " */\n",
       "function render(props, node) {\n",
       "  var div = document.createElement(\"div\");\n",
       "  var script = document.createElement(\"script\");\n",
       "  node.appendChild(div);\n",
       "  node.appendChild(script);\n",
       "}\n",
       "\n",
       "/**\n",
       " * Handle when a new output is added\n",
       " */\n",
       "function handle_add_output(event, handle) {\n",
       "  var output_area = handle.output_area;\n",
       "  var output = handle.output;\n",
       "  if ((output.data == undefined) || (!output.data.hasOwnProperty(EXEC_MIME_TYPE))) {\n",
       "    return\n",
       "  }\n",
       "  var id = output.metadata[EXEC_MIME_TYPE][\"id\"];\n",
       "  var toinsert = output_area.element.find(\".\" + CLASS_NAME.split(' ')[0]);\n",
       "  if (id !== undefined) {\n",
       "    var nchildren = toinsert.length;\n",
       "    var html_node = toinsert[nchildren-1].children[0];\n",
       "    html_node.innerHTML = output.data[HTML_MIME_TYPE];\n",
       "    var scripts = [];\n",
       "    var nodelist = html_node.querySelectorAll(\"script\");\n",
       "    for (var i in nodelist) {\n",
       "      if (nodelist.hasOwnProperty(i)) {\n",
       "        scripts.push(nodelist[i])\n",
       "      }\n",
       "    }\n",
       "\n",
       "    scripts.forEach( function (oldScript) {\n",
       "      var newScript = document.createElement(\"script\");\n",
       "      var attrs = [];\n",
       "      var nodemap = oldScript.attributes;\n",
       "      for (var j in nodemap) {\n",
       "        if (nodemap.hasOwnProperty(j)) {\n",
       "          attrs.push(nodemap[j])\n",
       "        }\n",
       "      }\n",
       "      attrs.forEach(function(attr) { newScript.setAttribute(attr.name, attr.value) });\n",
       "      newScript.appendChild(document.createTextNode(oldScript.innerHTML));\n",
       "      oldScript.parentNode.replaceChild(newScript, oldScript);\n",
       "    });\n",
       "    if (JS_MIME_TYPE in output.data) {\n",
       "      toinsert[nchildren-1].children[1].textContent = output.data[JS_MIME_TYPE];\n",
       "    }\n",
       "    output_area._hv_plot_id = id;\n",
       "    if ((window.Bokeh !== undefined) && (id in Bokeh.index)) {\n",
       "      window.PyViz.plot_index[id] = Bokeh.index[id];\n",
       "    } else {\n",
       "      window.PyViz.plot_index[id] = null;\n",
       "    }\n",
       "  } else if (output.metadata[EXEC_MIME_TYPE][\"server_id\"] !== undefined) {\n",
       "    var bk_div = document.createElement(\"div\");\n",
       "    bk_div.innerHTML = output.data[HTML_MIME_TYPE];\n",
       "    var script_attrs = bk_div.children[0].attributes;\n",
       "    for (var i = 0; i < script_attrs.length; i++) {\n",
       "      toinsert[toinsert.length - 1].childNodes[1].setAttribute(script_attrs[i].name, script_attrs[i].value);\n",
       "    }\n",
       "    // store reference to server id on output_area\n",
       "    output_area._bokeh_server_id = output.metadata[EXEC_MIME_TYPE][\"server_id\"];\n",
       "  }\n",
       "}\n",
       "\n",
       "/**\n",
       " * Handle when an output is cleared or removed\n",
       " */\n",
       "function handle_clear_output(event, handle) {\n",
       "  var id = handle.cell.output_area._hv_plot_id;\n",
       "  var server_id = handle.cell.output_area._bokeh_server_id;\n",
       "  if (((id === undefined) || !(id in PyViz.plot_index)) && (server_id !== undefined)) { return; }\n",
       "  var comm = window.PyViz.comm_manager.get_client_comm(\"hv-extension-comm\", \"hv-extension-comm\", function () {});\n",
       "  if (server_id !== null) {\n",
       "    comm.send({event_type: 'server_delete', 'id': server_id});\n",
       "    return;\n",
       "  } else if (comm !== null) {\n",
       "    comm.send({event_type: 'delete', 'id': id});\n",
       "  }\n",
       "  delete PyViz.plot_index[id];\n",
       "  if ((window.Bokeh !== undefined) & (id in window.Bokeh.index)) {\n",
       "    var doc = window.Bokeh.index[id].model.document\n",
       "    doc.clear();\n",
       "    const i = window.Bokeh.documents.indexOf(doc);\n",
       "    if (i > -1) {\n",
       "      window.Bokeh.documents.splice(i, 1);\n",
       "    }\n",
       "  }\n",
       "}\n",
       "\n",
       "/**\n",
       " * Handle kernel restart event\n",
       " */\n",
       "function handle_kernel_cleanup(event, handle) {\n",
       "  delete PyViz.comms[\"hv-extension-comm\"];\n",
       "  window.PyViz.plot_index = {}\n",
       "}\n",
       "\n",
       "/**\n",
       " * Handle update_display_data messages\n",
       " */\n",
       "function handle_update_output(event, handle) {\n",
       "  handle_clear_output(event, {cell: {output_area: handle.output_area}})\n",
       "  handle_add_output(event, handle)\n",
       "}\n",
       "\n",
       "function register_renderer(events, OutputArea) {\n",
       "  function append_mime(data, metadata, element) {\n",
       "    // create a DOM node to render to\n",
       "    var toinsert = this.create_output_subarea(\n",
       "    metadata,\n",
       "    CLASS_NAME,\n",
       "    EXEC_MIME_TYPE\n",
       "    );\n",
       "    this.keyboard_manager.register_events(toinsert);\n",
       "    // Render to node\n",
       "    var props = {data: data, metadata: metadata[EXEC_MIME_TYPE]};\n",
       "    render(props, toinsert[0]);\n",
       "    element.append(toinsert);\n",
       "    return toinsert\n",
       "  }\n",
       "\n",
       "  events.on('output_added.OutputArea', handle_add_output);\n",
       "  events.on('output_updated.OutputArea', handle_update_output);\n",
       "  events.on('clear_output.CodeCell', handle_clear_output);\n",
       "  events.on('delete.Cell', handle_clear_output);\n",
       "  events.on('kernel_ready.Kernel', handle_kernel_cleanup);\n",
       "\n",
       "  OutputArea.prototype.register_mime_type(EXEC_MIME_TYPE, append_mime, {\n",
       "    safe: true,\n",
       "    index: 0\n",
       "  });\n",
       "}\n",
       "\n",
       "if (window.Jupyter !== undefined) {\n",
       "  try {\n",
       "    var events = require('base/js/events');\n",
       "    var OutputArea = require('notebook/js/outputarea').OutputArea;\n",
       "    if (OutputArea.prototype.mime_types().indexOf(EXEC_MIME_TYPE) == -1) {\n",
       "      register_renderer(events, OutputArea);\n",
       "    }\n",
       "  } catch(err) {\n",
       "  }\n",
       "}\n"
      ],
      "application/vnd.holoviews_load.v0+json": "\nif ((window.PyViz === undefined) || (window.PyViz instanceof HTMLElement)) {\n  window.PyViz = {comms: {}, comm_status:{}, kernels:{}, receivers: {}, plot_index: []}\n}\n\n\n    function JupyterCommManager() {\n    }\n\n    JupyterCommManager.prototype.register_target = function(plot_id, comm_id, msg_handler) {\n      if (window.comm_manager || ((window.Jupyter !== undefined) && (Jupyter.notebook.kernel != null))) {\n        var comm_manager = window.comm_manager || Jupyter.notebook.kernel.comm_manager;\n        comm_manager.register_target(comm_id, function(comm) {\n          comm.on_msg(msg_handler);\n        });\n      } else if ((plot_id in window.PyViz.kernels) && (window.PyViz.kernels[plot_id])) {\n        window.PyViz.kernels[plot_id].registerCommTarget(comm_id, function(comm) {\n          comm.onMsg = msg_handler;\n        });\n      } else if (typeof google != 'undefined' && google.colab.kernel != null) {\n        google.colab.kernel.comms.registerTarget(comm_id, (comm) => {\n          var messages = comm.messages[Symbol.asyncIterator]();\n          function processIteratorResult(result) {\n            var message = result.value;\n            console.log(message)\n            var content = {data: message.data, comm_id};\n            var buffers = []\n            for (var buffer of message.buffers || []) {\n              buffers.push(new DataView(buffer))\n            }\n            var metadata = message.metadata || {};\n            var msg = {content, buffers, metadata}\n            msg_handler(msg);\n            return messages.next().then(processIteratorResult);\n          }\n          return messages.next().then(processIteratorResult);\n        })\n      }\n    }\n\n    JupyterCommManager.prototype.get_client_comm = function(plot_id, comm_id, msg_handler) {\n      if (comm_id in window.PyViz.comms) {\n        return window.PyViz.comms[comm_id];\n      } else if (window.comm_manager || ((window.Jupyter !== undefined) && (Jupyter.notebook.kernel != null))) {\n        var comm_manager = window.comm_manager || Jupyter.notebook.kernel.comm_manager;\n        var comm = comm_manager.new_comm(comm_id, {}, {}, {}, comm_id);\n        if (msg_handler) {\n          comm.on_msg(msg_handler);\n        }\n      } else if ((plot_id in window.PyViz.kernels) && (window.PyViz.kernels[plot_id])) {\n        var comm = window.PyViz.kernels[plot_id].connectToComm(comm_id);\n        comm.open();\n        if (msg_handler) {\n          comm.onMsg = msg_handler;\n        }\n      } else if (typeof google != 'undefined' && google.colab.kernel != null) {\n        var comm_promise = google.colab.kernel.comms.open(comm_id)\n        comm_promise.then((comm) => {\n          window.PyViz.comms[comm_id] = comm;\n          if (msg_handler) {\n            var messages = comm.messages[Symbol.asyncIterator]();\n            function processIteratorResult(result) {\n              var message = result.value;\n              var content = {data: message.data};\n              var metadata = message.metadata || {comm_id};\n              var msg = {content, metadata}\n              msg_handler(msg);\n              return messages.next().then(processIteratorResult);\n            }\n            return messages.next().then(processIteratorResult);\n          }\n        }) \n        var sendClosure = (data, metadata, buffers, disposeOnDone) => {\n          return comm_promise.then((comm) => {\n            comm.send(data, metadata, buffers, disposeOnDone);\n          });\n        };\n        var comm = {\n          send: sendClosure\n        };\n      }\n      window.PyViz.comms[comm_id] = comm;\n      return comm;\n    }\n    window.PyViz.comm_manager = new JupyterCommManager();\n    \n\n\nvar JS_MIME_TYPE = 'application/javascript';\nvar HTML_MIME_TYPE = 'text/html';\nvar EXEC_MIME_TYPE = 'application/vnd.holoviews_exec.v0+json';\nvar CLASS_NAME = 'output';\n\n/**\n * Render data to the DOM node\n */\nfunction render(props, node) {\n  var div = document.createElement(\"div\");\n  var script = document.createElement(\"script\");\n  node.appendChild(div);\n  node.appendChild(script);\n}\n\n/**\n * Handle when a new output is added\n */\nfunction handle_add_output(event, handle) {\n  var output_area = handle.output_area;\n  var output = handle.output;\n  if ((output.data == undefined) || (!output.data.hasOwnProperty(EXEC_MIME_TYPE))) {\n    return\n  }\n  var id = output.metadata[EXEC_MIME_TYPE][\"id\"];\n  var toinsert = output_area.element.find(\".\" + CLASS_NAME.split(' ')[0]);\n  if (id !== undefined) {\n    var nchildren = toinsert.length;\n    var html_node = toinsert[nchildren-1].children[0];\n    html_node.innerHTML = output.data[HTML_MIME_TYPE];\n    var scripts = [];\n    var nodelist = html_node.querySelectorAll(\"script\");\n    for (var i in nodelist) {\n      if (nodelist.hasOwnProperty(i)) {\n        scripts.push(nodelist[i])\n      }\n    }\n\n    scripts.forEach( function (oldScript) {\n      var newScript = document.createElement(\"script\");\n      var attrs = [];\n      var nodemap = oldScript.attributes;\n      for (var j in nodemap) {\n        if (nodemap.hasOwnProperty(j)) {\n          attrs.push(nodemap[j])\n        }\n      }\n      attrs.forEach(function(attr) { newScript.setAttribute(attr.name, attr.value) });\n      newScript.appendChild(document.createTextNode(oldScript.innerHTML));\n      oldScript.parentNode.replaceChild(newScript, oldScript);\n    });\n    if (JS_MIME_TYPE in output.data) {\n      toinsert[nchildren-1].children[1].textContent = output.data[JS_MIME_TYPE];\n    }\n    output_area._hv_plot_id = id;\n    if ((window.Bokeh !== undefined) && (id in Bokeh.index)) {\n      window.PyViz.plot_index[id] = Bokeh.index[id];\n    } else {\n      window.PyViz.plot_index[id] = null;\n    }\n  } else if (output.metadata[EXEC_MIME_TYPE][\"server_id\"] !== undefined) {\n    var bk_div = document.createElement(\"div\");\n    bk_div.innerHTML = output.data[HTML_MIME_TYPE];\n    var script_attrs = bk_div.children[0].attributes;\n    for (var i = 0; i < script_attrs.length; i++) {\n      toinsert[toinsert.length - 1].childNodes[1].setAttribute(script_attrs[i].name, script_attrs[i].value);\n    }\n    // store reference to server id on output_area\n    output_area._bokeh_server_id = output.metadata[EXEC_MIME_TYPE][\"server_id\"];\n  }\n}\n\n/**\n * Handle when an output is cleared or removed\n */\nfunction handle_clear_output(event, handle) {\n  var id = handle.cell.output_area._hv_plot_id;\n  var server_id = handle.cell.output_area._bokeh_server_id;\n  if (((id === undefined) || !(id in PyViz.plot_index)) && (server_id !== undefined)) { return; }\n  var comm = window.PyViz.comm_manager.get_client_comm(\"hv-extension-comm\", \"hv-extension-comm\", function () {});\n  if (server_id !== null) {\n    comm.send({event_type: 'server_delete', 'id': server_id});\n    return;\n  } else if (comm !== null) {\n    comm.send({event_type: 'delete', 'id': id});\n  }\n  delete PyViz.plot_index[id];\n  if ((window.Bokeh !== undefined) & (id in window.Bokeh.index)) {\n    var doc = window.Bokeh.index[id].model.document\n    doc.clear();\n    const i = window.Bokeh.documents.indexOf(doc);\n    if (i > -1) {\n      window.Bokeh.documents.splice(i, 1);\n    }\n  }\n}\n\n/**\n * Handle kernel restart event\n */\nfunction handle_kernel_cleanup(event, handle) {\n  delete PyViz.comms[\"hv-extension-comm\"];\n  window.PyViz.plot_index = {}\n}\n\n/**\n * Handle update_display_data messages\n */\nfunction handle_update_output(event, handle) {\n  handle_clear_output(event, {cell: {output_area: handle.output_area}})\n  handle_add_output(event, handle)\n}\n\nfunction register_renderer(events, OutputArea) {\n  function append_mime(data, metadata, element) {\n    // create a DOM node to render to\n    var toinsert = this.create_output_subarea(\n    metadata,\n    CLASS_NAME,\n    EXEC_MIME_TYPE\n    );\n    this.keyboard_manager.register_events(toinsert);\n    // Render to node\n    var props = {data: data, metadata: metadata[EXEC_MIME_TYPE]};\n    render(props, toinsert[0]);\n    element.append(toinsert);\n    return toinsert\n  }\n\n  events.on('output_added.OutputArea', handle_add_output);\n  events.on('output_updated.OutputArea', handle_update_output);\n  events.on('clear_output.CodeCell', handle_clear_output);\n  events.on('delete.Cell', handle_clear_output);\n  events.on('kernel_ready.Kernel', handle_kernel_cleanup);\n\n  OutputArea.prototype.register_mime_type(EXEC_MIME_TYPE, append_mime, {\n    safe: true,\n    index: 0\n  });\n}\n\nif (window.Jupyter !== undefined) {\n  try {\n    var events = require('base/js/events');\n    var OutputArea = require('notebook/js/outputarea').OutputArea;\n    if (OutputArea.prototype.mime_types().indexOf(EXEC_MIME_TYPE) == -1) {\n      register_renderer(events, OutputArea);\n    }\n  } catch(err) {\n  }\n}\n"
     },
     "metadata": {},
     "output_type": "display_data"
    },
    {
     "data": {
      "application/vnd.holoviews_exec.v0+json": "",
      "text/html": [
       "<div id='e0a5a0a4-cf57-4f3d-a9d9-9a48fc0342f9'>\n",
       "  <div id=\"a0a4e026-75e9-4725-b279-4fa57ec2c6a8\" data-root-id=\"e0a5a0a4-cf57-4f3d-a9d9-9a48fc0342f9\" style=\"display: contents;\"></div>\n",
       "</div>\n",
       "<script type=\"application/javascript\">(function(root) {\n",
       "  var docs_json = {\"0cd3f413-6a4b-40b7-b2cd-adb86e78c4e1\":{\"version\":\"3.6.0\",\"title\":\"Bokeh Application\",\"roots\":[{\"type\":\"object\",\"name\":\"panel.models.browser.BrowserInfo\",\"id\":\"e0a5a0a4-cf57-4f3d-a9d9-9a48fc0342f9\"},{\"type\":\"object\",\"name\":\"panel.models.comm_manager.CommManager\",\"id\":\"3f073f38-22f3-440f-a4d9-f6be8cc05216\",\"attributes\":{\"plot_id\":\"e0a5a0a4-cf57-4f3d-a9d9-9a48fc0342f9\",\"comm_id\":\"9d133c31694f43288c5abbaf5a271d26\",\"client_comm_id\":\"b0337062d6cd42f3a2165bd0cbb45b20\"}}],\"defs\":[{\"type\":\"model\",\"name\":\"ReactiveHTML1\"},{\"type\":\"model\",\"name\":\"FlexBox1\",\"properties\":[{\"name\":\"align_content\",\"kind\":\"Any\",\"default\":\"flex-start\"},{\"name\":\"align_items\",\"kind\":\"Any\",\"default\":\"flex-start\"},{\"name\":\"flex_direction\",\"kind\":\"Any\",\"default\":\"row\"},{\"name\":\"flex_wrap\",\"kind\":\"Any\",\"default\":\"wrap\"},{\"name\":\"gap\",\"kind\":\"Any\",\"default\":\"\"},{\"name\":\"justify_content\",\"kind\":\"Any\",\"default\":\"flex-start\"}]},{\"type\":\"model\",\"name\":\"FloatPanel1\",\"properties\":[{\"name\":\"config\",\"kind\":\"Any\",\"default\":{\"type\":\"map\"}},{\"name\":\"contained\",\"kind\":\"Any\",\"default\":true},{\"name\":\"position\",\"kind\":\"Any\",\"default\":\"right-top\"},{\"name\":\"offsetx\",\"kind\":\"Any\",\"default\":null},{\"name\":\"offsety\",\"kind\":\"Any\",\"default\":null},{\"name\":\"theme\",\"kind\":\"Any\",\"default\":\"primary\"},{\"name\":\"status\",\"kind\":\"Any\",\"default\":\"normalized\"}]},{\"type\":\"model\",\"name\":\"GridStack1\",\"properties\":[{\"name\":\"mode\",\"kind\":\"Any\",\"default\":\"warn\"},{\"name\":\"ncols\",\"kind\":\"Any\",\"default\":null},{\"name\":\"nrows\",\"kind\":\"Any\",\"default\":null},{\"name\":\"allow_resize\",\"kind\":\"Any\",\"default\":true},{\"name\":\"allow_drag\",\"kind\":\"Any\",\"default\":true},{\"name\":\"state\",\"kind\":\"Any\",\"default\":[]}]},{\"type\":\"model\",\"name\":\"drag1\",\"properties\":[{\"name\":\"slider_width\",\"kind\":\"Any\",\"default\":5},{\"name\":\"slider_color\",\"kind\":\"Any\",\"default\":\"black\"},{\"name\":\"value\",\"kind\":\"Any\",\"default\":50}]},{\"type\":\"model\",\"name\":\"click1\",\"properties\":[{\"name\":\"terminal_output\",\"kind\":\"Any\",\"default\":\"\"},{\"name\":\"debug_name\",\"kind\":\"Any\",\"default\":\"\"},{\"name\":\"clears\",\"kind\":\"Any\",\"default\":0}]},{\"type\":\"model\",\"name\":\"FastWrapper1\",\"properties\":[{\"name\":\"object\",\"kind\":\"Any\",\"default\":null},{\"name\":\"style\",\"kind\":\"Any\",\"default\":null}]},{\"type\":\"model\",\"name\":\"NotificationAreaBase1\",\"properties\":[{\"name\":\"js_events\",\"kind\":\"Any\",\"default\":{\"type\":\"map\"}},{\"name\":\"position\",\"kind\":\"Any\",\"default\":\"bottom-right\"},{\"name\":\"_clear\",\"kind\":\"Any\",\"default\":0}]},{\"type\":\"model\",\"name\":\"NotificationArea1\",\"properties\":[{\"name\":\"js_events\",\"kind\":\"Any\",\"default\":{\"type\":\"map\"}},{\"name\":\"notifications\",\"kind\":\"Any\",\"default\":[]},{\"name\":\"position\",\"kind\":\"Any\",\"default\":\"bottom-right\"},{\"name\":\"_clear\",\"kind\":\"Any\",\"default\":0},{\"name\":\"types\",\"kind\":\"Any\",\"default\":[{\"type\":\"map\",\"entries\":[[\"type\",\"warning\"],[\"background\",\"#ffc107\"],[\"icon\",{\"type\":\"map\",\"entries\":[[\"className\",\"fas fa-exclamation-triangle\"],[\"tagName\",\"i\"],[\"color\",\"white\"]]}]]},{\"type\":\"map\",\"entries\":[[\"type\",\"info\"],[\"background\",\"#007bff\"],[\"icon\",{\"type\":\"map\",\"entries\":[[\"className\",\"fas fa-info-circle\"],[\"tagName\",\"i\"],[\"color\",\"white\"]]}]]}]}]},{\"type\":\"model\",\"name\":\"Notification\",\"properties\":[{\"name\":\"background\",\"kind\":\"Any\",\"default\":null},{\"name\":\"duration\",\"kind\":\"Any\",\"default\":3000},{\"name\":\"icon\",\"kind\":\"Any\",\"default\":null},{\"name\":\"message\",\"kind\":\"Any\",\"default\":\"\"},{\"name\":\"notification_type\",\"kind\":\"Any\",\"default\":null},{\"name\":\"_destroyed\",\"kind\":\"Any\",\"default\":false}]},{\"type\":\"model\",\"name\":\"TemplateActions1\",\"properties\":[{\"name\":\"open_modal\",\"kind\":\"Any\",\"default\":0},{\"name\":\"close_modal\",\"kind\":\"Any\",\"default\":0}]},{\"type\":\"model\",\"name\":\"BootstrapTemplateActions1\",\"properties\":[{\"name\":\"open_modal\",\"kind\":\"Any\",\"default\":0},{\"name\":\"close_modal\",\"kind\":\"Any\",\"default\":0}]},{\"type\":\"model\",\"name\":\"TemplateEditor1\",\"properties\":[{\"name\":\"layout\",\"kind\":\"Any\",\"default\":[]}]},{\"type\":\"model\",\"name\":\"MaterialTemplateActions1\",\"properties\":[{\"name\":\"open_modal\",\"kind\":\"Any\",\"default\":0},{\"name\":\"close_modal\",\"kind\":\"Any\",\"default\":0}]},{\"type\":\"model\",\"name\":\"ReactiveESM1\"},{\"type\":\"model\",\"name\":\"JSComponent1\"},{\"type\":\"model\",\"name\":\"ReactComponent1\"},{\"type\":\"model\",\"name\":\"AnyWidgetComponent1\"},{\"type\":\"model\",\"name\":\"request_value1\",\"properties\":[{\"name\":\"fill\",\"kind\":\"Any\",\"default\":\"none\"},{\"name\":\"_synced\",\"kind\":\"Any\",\"default\":null},{\"name\":\"_request_sync\",\"kind\":\"Any\",\"default\":0}]}]}};\n",
       "  var render_items = [{\"docid\":\"0cd3f413-6a4b-40b7-b2cd-adb86e78c4e1\",\"roots\":{\"e0a5a0a4-cf57-4f3d-a9d9-9a48fc0342f9\":\"a0a4e026-75e9-4725-b279-4fa57ec2c6a8\"},\"root_ids\":[\"e0a5a0a4-cf57-4f3d-a9d9-9a48fc0342f9\"]}];\n",
       "  var docs = Object.values(docs_json)\n",
       "  if (!docs) {\n",
       "    return\n",
       "  }\n",
       "  const py_version = docs[0].version.replace('rc', '-rc.').replace('.dev', '-dev.')\n",
       "  async function embed_document(root) {\n",
       "    var Bokeh = get_bokeh(root)\n",
       "    await Bokeh.embed.embed_items_notebook(docs_json, render_items);\n",
       "    for (const render_item of render_items) {\n",
       "      for (const root_id of render_item.root_ids) {\n",
       "\tconst id_el = document.getElementById(root_id)\n",
       "\tif (id_el.children.length && id_el.children[0].hasAttribute('data-root-id')) {\n",
       "\t  const root_el = id_el.children[0]\n",
       "\t  root_el.id = root_el.id + '-rendered'\n",
       "\t  for (const child of root_el.children) {\n",
       "            // Ensure JupyterLab does not capture keyboard shortcuts\n",
       "            // see: https://jupyterlab.readthedocs.io/en/4.1.x/extension/notebook.html#keyboard-interaction-model\n",
       "\t    child.setAttribute('data-lm-suppress-shortcuts', 'true')\n",
       "\t  }\n",
       "\t}\n",
       "      }\n",
       "    }\n",
       "  }\n",
       "  function get_bokeh(root) {\n",
       "    if (root.Bokeh === undefined) {\n",
       "      return null\n",
       "    } else if (root.Bokeh.version !== py_version) {\n",
       "      if (root.Bokeh.versions === undefined || !root.Bokeh.versions.has(py_version)) {\n",
       "\treturn null\n",
       "      }\n",
       "      return root.Bokeh.versions.get(py_version);\n",
       "    } else if (root.Bokeh.version === py_version) {\n",
       "      return root.Bokeh\n",
       "    }\n",
       "    return null\n",
       "  }\n",
       "  function is_loaded(root) {\n",
       "    var Bokeh = get_bokeh(root)\n",
       "    return (Bokeh != null && Bokeh.Panel !== undefined)\n",
       "  }\n",
       "  if (is_loaded(root)) {\n",
       "    embed_document(root);\n",
       "  } else {\n",
       "    var attempts = 0;\n",
       "    var timer = setInterval(function(root) {\n",
       "      if (is_loaded(root)) {\n",
       "        clearInterval(timer);\n",
       "        embed_document(root);\n",
       "      } else if (document.readyState == \"complete\") {\n",
       "        attempts++;\n",
       "        if (attempts > 200) {\n",
       "          clearInterval(timer);\n",
       "\t  var Bokeh = get_bokeh(root)\n",
       "\t  if (Bokeh == null || Bokeh.Panel == null) {\n",
       "            console.warn(\"Panel: ERROR: Unable to run Panel code because Bokeh or Panel library is missing\");\n",
       "\t  } else {\n",
       "\t    console.warn(\"Panel: WARNING: Attempting to render but not all required libraries could be resolved.\")\n",
       "\t    embed_document(root)\n",
       "\t  }\n",
       "        }\n",
       "      }\n",
       "    }, 25, root)\n",
       "  }\n",
       "})(window);</script>"
      ]
     },
     "metadata": {
      "application/vnd.holoviews_exec.v0+json": {
       "id": "e0a5a0a4-cf57-4f3d-a9d9-9a48fc0342f9"
      }
     },
     "output_type": "display_data"
    }
   ],
   "source": [
    "import hvplot.pandas\n",
    "import pandas as pd"
   ]
  },
  {
   "cell_type": "code",
   "execution_count": 63,
   "id": "7784caff-0a5e-476b-9349-40fb05899eef",
   "metadata": {},
   "outputs": [
    {
     "data": {},
     "metadata": {},
     "output_type": "display_data"
    },
    {
     "data": {
      "application/vnd.holoviews_exec.v0+json": "",
      "text/html": [
       "<div id='891d1e70-6cef-44f2-adb4-4a4f00ddb382'>\n",
       "  <div id=\"e78c3de4-0e99-4690-b36c-b75e8f982b1f\" data-root-id=\"891d1e70-6cef-44f2-adb4-4a4f00ddb382\" style=\"display: contents;\"></div>\n",
       "</div>\n",
       "<script type=\"application/javascript\">(function(root) {\n",
       "  var docs_json = {\"5771dff1-0487-4a9a-8907-61390b305fe0\":{\"version\":\"3.6.0\",\"title\":\"Bokeh Application\",\"roots\":[{\"type\":\"object\",\"name\":\"Row\",\"id\":\"891d1e70-6cef-44f2-adb4-4a4f00ddb382\",\"attributes\":{\"name\":\"Row01029\",\"tags\":[\"embedded\"],\"stylesheets\":[\"\\n:host(.pn-loading):before, .pn-loading:before {\\n  background-color: #c3c3c3;\\n  mask-size: auto calc(min(50%, 400px));\\n  -webkit-mask-size: auto calc(min(50%, 400px));\\n}\",{\"type\":\"object\",\"name\":\"ImportedStyleSheet\",\"id\":\"3360d26c-4ff7-4df7-893d-fc0994a8557f\",\"attributes\":{\"url\":\"https://cdn.holoviz.org/panel/1.5.2/dist/css/loading.css\"}},{\"type\":\"object\",\"name\":\"ImportedStyleSheet\",\"id\":\"505469c0-c39d-4ea7-b808-819c65c1d9c0\",\"attributes\":{\"url\":\"https://cdn.holoviz.org/panel/1.5.2/dist/css/listpanel.css\"}},{\"type\":\"object\",\"name\":\"ImportedStyleSheet\",\"id\":\"73254b06-8576-4fdc-abaf-d3fdb9a2a5df\",\"attributes\":{\"url\":\"https://cdn.holoviz.org/panel/1.5.2/dist/bundled/theme/default.css\"}},{\"type\":\"object\",\"name\":\"ImportedStyleSheet\",\"id\":\"b3e48ea9-2ca1-4171-986c-d37b849eaf74\",\"attributes\":{\"url\":\"https://cdn.holoviz.org/panel/1.5.2/dist/bundled/theme/native.css\"}}],\"min_width\":700,\"margin\":0,\"sizing_mode\":\"stretch_width\",\"align\":\"start\",\"children\":[{\"type\":\"object\",\"name\":\"Spacer\",\"id\":\"e39b5536-95d1-4497-a398-cf9b787cd603\",\"attributes\":{\"name\":\"HSpacer01033\",\"stylesheets\":[\"\\n:host(.pn-loading):before, .pn-loading:before {\\n  background-color: #c3c3c3;\\n  mask-size: auto calc(min(50%, 400px));\\n  -webkit-mask-size: auto calc(min(50%, 400px));\\n}\",{\"id\":\"3360d26c-4ff7-4df7-893d-fc0994a8557f\"},{\"id\":\"73254b06-8576-4fdc-abaf-d3fdb9a2a5df\"},{\"id\":\"b3e48ea9-2ca1-4171-986c-d37b849eaf74\"}],\"margin\":0,\"sizing_mode\":\"stretch_width\",\"align\":\"start\"}},{\"type\":\"object\",\"name\":\"Figure\",\"id\":\"790b9a6f-06a4-4129-bc24-47341df1445a\",\"attributes\":{\"width\":700,\"height\":300,\"margin\":[5,10],\"sizing_mode\":\"fixed\",\"align\":\"start\",\"x_range\":{\"type\":\"object\",\"name\":\"Range1d\",\"id\":\"1221b5b3-82f4-46ad-8ebe-b41dda9d6643\",\"attributes\":{\"name\":\"index\",\"tags\":[[[\"index\",null]],[]],\"end\":2.0,\"reset_start\":0.0,\"reset_end\":2.0}},\"y_range\":{\"type\":\"object\",\"name\":\"Range1d\",\"id\":\"af2a63fa-2038-4389-9405-c450048e8f8c\",\"attributes\":{\"name\":\"0\",\"tags\":[[[\"0\",null]],{\"type\":\"map\",\"entries\":[[\"invert_yaxis\",false],[\"autorange\",false]]}],\"start\":0.8,\"end\":3.2,\"reset_start\":0.8,\"reset_end\":3.2}},\"x_scale\":{\"type\":\"object\",\"name\":\"LinearScale\",\"id\":\"0242f931-3a3e-4421-9071-afe754ad0d87\"},\"y_scale\":{\"type\":\"object\",\"name\":\"LinearScale\",\"id\":\"503db6d2-0a5f-4c76-8920-8d3c552ee063\"},\"title\":{\"type\":\"object\",\"name\":\"Title\",\"id\":\"704564ee-8078-4434-8427-2822b97bc104\",\"attributes\":{\"text\":\"A Curve\",\"text_color\":\"black\",\"text_font_size\":\"12pt\"}},\"renderers\":[{\"type\":\"object\",\"name\":\"GlyphRenderer\",\"id\":\"7bb8bcb8-d6d7-4978-ada7-a8af0ae1bce9\",\"attributes\":{\"data_source\":{\"type\":\"object\",\"name\":\"ColumnDataSource\",\"id\":\"d5678325-f857-42b8-9472-29b124a56abe\",\"attributes\":{\"selected\":{\"type\":\"object\",\"name\":\"Selection\",\"id\":\"75c7db79-a899-457d-9689-0197f3ab1b07\",\"attributes\":{\"indices\":[],\"line_indices\":[]}},\"selection_policy\":{\"type\":\"object\",\"name\":\"UnionRenderers\",\"id\":\"be2f1ebd-f3da-4d5f-bea0-a4450d50dda5\"},\"data\":{\"type\":\"map\",\"entries\":[[\"index\",{\"type\":\"ndarray\",\"array\":{\"type\":\"bytes\",\"data\":\"AAAAAAEAAAACAAAA\"},\"shape\":[3],\"dtype\":\"int32\",\"order\":\"little\"}],[\"0\",{\"type\":\"ndarray\",\"array\":{\"type\":\"bytes\",\"data\":\"AQAAAAIAAAADAAAA\"},\"shape\":[3],\"dtype\":\"int32\",\"order\":\"little\"}],[\"A_0\",{\"type\":\"ndarray\",\"array\":{\"type\":\"bytes\",\"data\":\"AQAAAAIAAAADAAAA\"},\"shape\":[3],\"dtype\":\"int32\",\"order\":\"little\"}]]}}},\"view\":{\"type\":\"object\",\"name\":\"CDSView\",\"id\":\"965395a6-344a-484e-a41e-c7801cce30ae\",\"attributes\":{\"filter\":{\"type\":\"object\",\"name\":\"AllIndices\",\"id\":\"fb189523-1919-497d-9ab1-57205f4aa01a\"}}},\"glyph\":{\"type\":\"object\",\"name\":\"Line\",\"id\":\"8661cad5-a48a-4879-990d-8784c00e498c\",\"attributes\":{\"tags\":[\"apply_ranges\"],\"x\":{\"type\":\"field\",\"field\":\"index\"},\"y\":{\"type\":\"field\",\"field\":\"0\"},\"line_color\":\"#30a2da\",\"line_width\":2}},\"selection_glyph\":{\"type\":\"object\",\"name\":\"Line\",\"id\":\"959b7b69-eb88-4947-ac09-3349f1337e0b\",\"attributes\":{\"tags\":[\"apply_ranges\"],\"x\":{\"type\":\"field\",\"field\":\"index\"},\"y\":{\"type\":\"field\",\"field\":\"0\"},\"line_color\":\"#30a2da\",\"line_width\":2}},\"nonselection_glyph\":{\"type\":\"object\",\"name\":\"Line\",\"id\":\"9299ee7d-6ef6-4521-9575-5ccc074a9a54\",\"attributes\":{\"tags\":[\"apply_ranges\"],\"x\":{\"type\":\"field\",\"field\":\"index\"},\"y\":{\"type\":\"field\",\"field\":\"0\"},\"line_color\":\"#30a2da\",\"line_alpha\":0.1,\"line_width\":2}},\"muted_glyph\":{\"type\":\"object\",\"name\":\"Line\",\"id\":\"f6b854e7-2da1-4c97-882e-1d59d845e9e8\",\"attributes\":{\"tags\":[\"apply_ranges\"],\"x\":{\"type\":\"field\",\"field\":\"index\"},\"y\":{\"type\":\"field\",\"field\":\"0\"},\"line_color\":\"#30a2da\",\"line_alpha\":0.2,\"line_width\":2}}}}],\"toolbar\":{\"type\":\"object\",\"name\":\"Toolbar\",\"id\":\"fa36e90a-59ab-4dc4-853c-90b9578f3e00\",\"attributes\":{\"tools\":[{\"type\":\"object\",\"name\":\"WheelZoomTool\",\"id\":\"3a90a6e0-18e2-411d-a211-55069c7d2c64\",\"attributes\":{\"tags\":[\"hv_created\"],\"renderers\":\"auto\",\"zoom_together\":\"none\"}},{\"type\":\"object\",\"name\":\"HoverTool\",\"id\":\"032c4d88-88e2-4526-9679-1044025fa604\",\"attributes\":{\"tags\":[\"hv_created\"],\"renderers\":[{\"id\":\"7bb8bcb8-d6d7-4978-ada7-a8af0ae1bce9\"}],\"tooltips\":[[\"index\",\"@{index}\"],[\"0\",\"@{A_0}\"]]}},{\"type\":\"object\",\"name\":\"SaveTool\",\"id\":\"882a9d17-eee2-432a-b1f5-0ba3ab5322bc\"},{\"type\":\"object\",\"name\":\"PanTool\",\"id\":\"cdc61ae4-0f34-4fab-ab82-2722478dd197\"},{\"type\":\"object\",\"name\":\"BoxZoomTool\",\"id\":\"e8ed9b7f-f53a-4d6c-b3eb-80e63b18dd47\",\"attributes\":{\"overlay\":{\"type\":\"object\",\"name\":\"BoxAnnotation\",\"id\":\"88ff37b9-a196-4e60-8c31-e1ae222a7a26\",\"attributes\":{\"syncable\":false,\"line_color\":\"black\",\"line_alpha\":1.0,\"line_width\":2,\"line_dash\":[4,4],\"fill_color\":\"lightgrey\",\"fill_alpha\":0.5,\"level\":\"overlay\",\"visible\":false,\"left\":{\"type\":\"number\",\"value\":\"nan\"},\"right\":{\"type\":\"number\",\"value\":\"nan\"},\"top\":{\"type\":\"number\",\"value\":\"nan\"},\"bottom\":{\"type\":\"number\",\"value\":\"nan\"},\"left_units\":\"canvas\",\"right_units\":\"canvas\",\"top_units\":\"canvas\",\"bottom_units\":\"canvas\",\"handles\":{\"type\":\"object\",\"name\":\"BoxInteractionHandles\",\"id\":\"92ef5416-cd6e-456e-954d-dc4716a8c1f4\",\"attributes\":{\"all\":{\"type\":\"object\",\"name\":\"AreaVisuals\",\"id\":\"615e78b5-6658-4dcc-aefd-6b8d40b7c478\",\"attributes\":{\"fill_color\":\"white\",\"hover_fill_color\":\"lightgray\"}}}}}}}},{\"type\":\"object\",\"name\":\"ResetTool\",\"id\":\"094b5f13-f788-482c-97b3-1de156c5a71a\"}],\"active_drag\":{\"id\":\"cdc61ae4-0f34-4fab-ab82-2722478dd197\"},\"active_scroll\":{\"id\":\"3a90a6e0-18e2-411d-a211-55069c7d2c64\"}}},\"left\":[{\"type\":\"object\",\"name\":\"LinearAxis\",\"id\":\"da275561-4d92-4323-9c7a-47902ab853e7\",\"attributes\":{\"ticker\":{\"type\":\"object\",\"name\":\"BasicTicker\",\"id\":\"21aea9f2-f50e-4f69-bd4c-93992649be98\",\"attributes\":{\"mantissas\":[1,2,5]}},\"formatter\":{\"type\":\"object\",\"name\":\"BasicTickFormatter\",\"id\":\"a5949ca3-0cc4-4d40-a5f5-743402efacc6\"},\"axis_label\":\"0\",\"major_label_policy\":{\"type\":\"object\",\"name\":\"AllLabels\",\"id\":\"3fa33037-34f0-4975-826b-64994e773949\"}}}],\"below\":[{\"type\":\"object\",\"name\":\"LinearAxis\",\"id\":\"d1a7e9fb-60b7-4ed2-8aca-7c87d98b00cb\",\"attributes\":{\"ticker\":{\"type\":\"object\",\"name\":\"BasicTicker\",\"id\":\"2eb29cf1-ce4d-426d-9878-be3e546a53c6\",\"attributes\":{\"mantissas\":[1,2,5]}},\"formatter\":{\"type\":\"object\",\"name\":\"BasicTickFormatter\",\"id\":\"5a677a1d-5ce1-486f-a5bc-9c24f144061d\"},\"axis_label\":\"\",\"major_label_policy\":{\"type\":\"object\",\"name\":\"AllLabels\",\"id\":\"039549ef-3744-43a7-9937-e0c5ab58bb8d\"}}}],\"center\":[{\"type\":\"object\",\"name\":\"Grid\",\"id\":\"162b993f-859b-4542-8752-0d36dcaab714\",\"attributes\":{\"axis\":{\"id\":\"d1a7e9fb-60b7-4ed2-8aca-7c87d98b00cb\"},\"grid_line_color\":null}},{\"type\":\"object\",\"name\":\"Grid\",\"id\":\"99b1724c-c6b2-4cde-b72e-860571d204d8\",\"attributes\":{\"dimension\":1,\"axis\":{\"id\":\"da275561-4d92-4323-9c7a-47902ab853e7\"},\"grid_line_color\":null}}],\"min_border_top\":10,\"min_border_bottom\":10,\"min_border_left\":10,\"min_border_right\":10,\"output_backend\":\"webgl\"}},{\"type\":\"object\",\"name\":\"Spacer\",\"id\":\"20b9cd87-d1e8-4392-a43b-cd082d6977b9\",\"attributes\":{\"name\":\"HSpacer01034\",\"stylesheets\":[\"\\n:host(.pn-loading):before, .pn-loading:before {\\n  background-color: #c3c3c3;\\n  mask-size: auto calc(min(50%, 400px));\\n  -webkit-mask-size: auto calc(min(50%, 400px));\\n}\",{\"id\":\"3360d26c-4ff7-4df7-893d-fc0994a8557f\"},{\"id\":\"73254b06-8576-4fdc-abaf-d3fdb9a2a5df\"},{\"id\":\"b3e48ea9-2ca1-4171-986c-d37b849eaf74\"}],\"margin\":0,\"sizing_mode\":\"stretch_width\",\"align\":\"start\"}}]}}],\"defs\":[{\"type\":\"model\",\"name\":\"ReactiveHTML1\"},{\"type\":\"model\",\"name\":\"FlexBox1\",\"properties\":[{\"name\":\"align_content\",\"kind\":\"Any\",\"default\":\"flex-start\"},{\"name\":\"align_items\",\"kind\":\"Any\",\"default\":\"flex-start\"},{\"name\":\"flex_direction\",\"kind\":\"Any\",\"default\":\"row\"},{\"name\":\"flex_wrap\",\"kind\":\"Any\",\"default\":\"wrap\"},{\"name\":\"gap\",\"kind\":\"Any\",\"default\":\"\"},{\"name\":\"justify_content\",\"kind\":\"Any\",\"default\":\"flex-start\"}]},{\"type\":\"model\",\"name\":\"FloatPanel1\",\"properties\":[{\"name\":\"config\",\"kind\":\"Any\",\"default\":{\"type\":\"map\"}},{\"name\":\"contained\",\"kind\":\"Any\",\"default\":true},{\"name\":\"position\",\"kind\":\"Any\",\"default\":\"right-top\"},{\"name\":\"offsetx\",\"kind\":\"Any\",\"default\":null},{\"name\":\"offsety\",\"kind\":\"Any\",\"default\":null},{\"name\":\"theme\",\"kind\":\"Any\",\"default\":\"primary\"},{\"name\":\"status\",\"kind\":\"Any\",\"default\":\"normalized\"}]},{\"type\":\"model\",\"name\":\"GridStack1\",\"properties\":[{\"name\":\"mode\",\"kind\":\"Any\",\"default\":\"warn\"},{\"name\":\"ncols\",\"kind\":\"Any\",\"default\":null},{\"name\":\"nrows\",\"kind\":\"Any\",\"default\":null},{\"name\":\"allow_resize\",\"kind\":\"Any\",\"default\":true},{\"name\":\"allow_drag\",\"kind\":\"Any\",\"default\":true},{\"name\":\"state\",\"kind\":\"Any\",\"default\":[]}]},{\"type\":\"model\",\"name\":\"drag1\",\"properties\":[{\"name\":\"slider_width\",\"kind\":\"Any\",\"default\":5},{\"name\":\"slider_color\",\"kind\":\"Any\",\"default\":\"black\"},{\"name\":\"value\",\"kind\":\"Any\",\"default\":50}]},{\"type\":\"model\",\"name\":\"click1\",\"properties\":[{\"name\":\"terminal_output\",\"kind\":\"Any\",\"default\":\"\"},{\"name\":\"debug_name\",\"kind\":\"Any\",\"default\":\"\"},{\"name\":\"clears\",\"kind\":\"Any\",\"default\":0}]},{\"type\":\"model\",\"name\":\"FastWrapper1\",\"properties\":[{\"name\":\"object\",\"kind\":\"Any\",\"default\":null},{\"name\":\"style\",\"kind\":\"Any\",\"default\":null}]},{\"type\":\"model\",\"name\":\"NotificationAreaBase1\",\"properties\":[{\"name\":\"js_events\",\"kind\":\"Any\",\"default\":{\"type\":\"map\"}},{\"name\":\"position\",\"kind\":\"Any\",\"default\":\"bottom-right\"},{\"name\":\"_clear\",\"kind\":\"Any\",\"default\":0}]},{\"type\":\"model\",\"name\":\"NotificationArea1\",\"properties\":[{\"name\":\"js_events\",\"kind\":\"Any\",\"default\":{\"type\":\"map\"}},{\"name\":\"notifications\",\"kind\":\"Any\",\"default\":[]},{\"name\":\"position\",\"kind\":\"Any\",\"default\":\"bottom-right\"},{\"name\":\"_clear\",\"kind\":\"Any\",\"default\":0},{\"name\":\"types\",\"kind\":\"Any\",\"default\":[{\"type\":\"map\",\"entries\":[[\"type\",\"warning\"],[\"background\",\"#ffc107\"],[\"icon\",{\"type\":\"map\",\"entries\":[[\"className\",\"fas fa-exclamation-triangle\"],[\"tagName\",\"i\"],[\"color\",\"white\"]]}]]},{\"type\":\"map\",\"entries\":[[\"type\",\"info\"],[\"background\",\"#007bff\"],[\"icon\",{\"type\":\"map\",\"entries\":[[\"className\",\"fas fa-info-circle\"],[\"tagName\",\"i\"],[\"color\",\"white\"]]}]]}]}]},{\"type\":\"model\",\"name\":\"Notification\",\"properties\":[{\"name\":\"background\",\"kind\":\"Any\",\"default\":null},{\"name\":\"duration\",\"kind\":\"Any\",\"default\":3000},{\"name\":\"icon\",\"kind\":\"Any\",\"default\":null},{\"name\":\"message\",\"kind\":\"Any\",\"default\":\"\"},{\"name\":\"notification_type\",\"kind\":\"Any\",\"default\":null},{\"name\":\"_destroyed\",\"kind\":\"Any\",\"default\":false}]},{\"type\":\"model\",\"name\":\"TemplateActions1\",\"properties\":[{\"name\":\"open_modal\",\"kind\":\"Any\",\"default\":0},{\"name\":\"close_modal\",\"kind\":\"Any\",\"default\":0}]},{\"type\":\"model\",\"name\":\"BootstrapTemplateActions1\",\"properties\":[{\"name\":\"open_modal\",\"kind\":\"Any\",\"default\":0},{\"name\":\"close_modal\",\"kind\":\"Any\",\"default\":0}]},{\"type\":\"model\",\"name\":\"TemplateEditor1\",\"properties\":[{\"name\":\"layout\",\"kind\":\"Any\",\"default\":[]}]},{\"type\":\"model\",\"name\":\"MaterialTemplateActions1\",\"properties\":[{\"name\":\"open_modal\",\"kind\":\"Any\",\"default\":0},{\"name\":\"close_modal\",\"kind\":\"Any\",\"default\":0}]},{\"type\":\"model\",\"name\":\"ReactiveESM1\"},{\"type\":\"model\",\"name\":\"JSComponent1\"},{\"type\":\"model\",\"name\":\"ReactComponent1\"},{\"type\":\"model\",\"name\":\"AnyWidgetComponent1\"},{\"type\":\"model\",\"name\":\"request_value1\",\"properties\":[{\"name\":\"fill\",\"kind\":\"Any\",\"default\":\"none\"},{\"name\":\"_synced\",\"kind\":\"Any\",\"default\":null},{\"name\":\"_request_sync\",\"kind\":\"Any\",\"default\":0}]}]}};\n",
       "  var render_items = [{\"docid\":\"5771dff1-0487-4a9a-8907-61390b305fe0\",\"roots\":{\"891d1e70-6cef-44f2-adb4-4a4f00ddb382\":\"e78c3de4-0e99-4690-b36c-b75e8f982b1f\"},\"root_ids\":[\"891d1e70-6cef-44f2-adb4-4a4f00ddb382\"]}];\n",
       "  var docs = Object.values(docs_json)\n",
       "  if (!docs) {\n",
       "    return\n",
       "  }\n",
       "  const py_version = docs[0].version.replace('rc', '-rc.').replace('.dev', '-dev.')\n",
       "  async function embed_document(root) {\n",
       "    var Bokeh = get_bokeh(root)\n",
       "    await Bokeh.embed.embed_items_notebook(docs_json, render_items);\n",
       "    for (const render_item of render_items) {\n",
       "      for (const root_id of render_item.root_ids) {\n",
       "\tconst id_el = document.getElementById(root_id)\n",
       "\tif (id_el.children.length && id_el.children[0].hasAttribute('data-root-id')) {\n",
       "\t  const root_el = id_el.children[0]\n",
       "\t  root_el.id = root_el.id + '-rendered'\n",
       "\t  for (const child of root_el.children) {\n",
       "            // Ensure JupyterLab does not capture keyboard shortcuts\n",
       "            // see: https://jupyterlab.readthedocs.io/en/4.1.x/extension/notebook.html#keyboard-interaction-model\n",
       "\t    child.setAttribute('data-lm-suppress-shortcuts', 'true')\n",
       "\t  }\n",
       "\t}\n",
       "      }\n",
       "    }\n",
       "  }\n",
       "  function get_bokeh(root) {\n",
       "    if (root.Bokeh === undefined) {\n",
       "      return null\n",
       "    } else if (root.Bokeh.version !== py_version) {\n",
       "      if (root.Bokeh.versions === undefined || !root.Bokeh.versions.has(py_version)) {\n",
       "\treturn null\n",
       "      }\n",
       "      return root.Bokeh.versions.get(py_version);\n",
       "    } else if (root.Bokeh.version === py_version) {\n",
       "      return root.Bokeh\n",
       "    }\n",
       "    return null\n",
       "  }\n",
       "  function is_loaded(root) {\n",
       "    var Bokeh = get_bokeh(root)\n",
       "    return (Bokeh != null && Bokeh.Panel !== undefined)\n",
       "  }\n",
       "  if (is_loaded(root)) {\n",
       "    embed_document(root);\n",
       "  } else {\n",
       "    var attempts = 0;\n",
       "    var timer = setInterval(function(root) {\n",
       "      if (is_loaded(root)) {\n",
       "        clearInterval(timer);\n",
       "        embed_document(root);\n",
       "      } else if (document.readyState == \"complete\") {\n",
       "        attempts++;\n",
       "        if (attempts > 200) {\n",
       "          clearInterval(timer);\n",
       "\t  var Bokeh = get_bokeh(root)\n",
       "\t  if (Bokeh == null || Bokeh.Panel == null) {\n",
       "            console.warn(\"Panel: ERROR: Unable to run Panel code because Bokeh or Panel library is missing\");\n",
       "\t  } else {\n",
       "\t    console.warn(\"Panel: WARNING: Attempting to render but not all required libraries could be resolved.\")\n",
       "\t    embed_document(root)\n",
       "\t  }\n",
       "        }\n",
       "      }\n",
       "    }, 25, root)\n",
       "  }\n",
       "})(window);</script>"
      ],
      "text/plain": [
       ":Curve   [index]   (0)"
      ]
     },
     "execution_count": 63,
     "metadata": {
      "application/vnd.holoviews_exec.v0+json": {
       "id": "891d1e70-6cef-44f2-adb4-4a4f00ddb382"
      }
     },
     "output_type": "execute_result"
    }
   ],
   "source": [
    "data = pd.Series([1, 2, 3]).to_frame()\n",
    "\n",
    "hv_obj = data.hvplot(title='A Curve')\n",
    "\n",
    "hv_obj"
   ]
  },
  {
   "cell_type": "markdown",
   "id": "1ed3f5f0-5ccb-4075-9b2f-ab79ca3a58a8",
   "metadata": {},
   "source": [
    "## Tracing the layers of indirection\n",
    "\n",
    "1. hvPlot: Handles creation of HoloViews (and Panel) objects, translating a simple, flat API into HoloViews objects + Options\n",
    "2. HoloViews Core: Declaratively expresses the semantics of the data (the Element) + an options specification expressing plot options and style options (including how to map data to color/size/width etc.)\n",
    "3. HoloViews Plotting: Translates the component and the options into a plotted figure (matplotlib, bokeh, plotly)\n",
    "4. Panel: Translates the plotted figure into a Bokeh model that can be rendered on the frontend"
   ]
  },
  {
   "cell_type": "markdown",
   "id": "322ac793-47a5-48e7-91e8-1649e3de91a0",
   "metadata": {},
   "source": [
    "### 1. hvPlot\n",
    "\n",
    "Patched accessors on the data objects add the `hvplot` namespace, which in turn invokes the translation layer, i.e. this:"
   ]
  },
  {
   "cell_type": "code",
   "execution_count": 64,
   "id": "70505d5a-de40-4077-9a13-f915123d4200",
   "metadata": {},
   "outputs": [
    {
     "data": {},
     "metadata": {},
     "output_type": "display_data"
    },
    {
     "data": {
      "application/vnd.holoviews_exec.v0+json": "",
      "text/html": [
       "<div id='ab3dd724-91f9-4826-9329-2d07c5968f18'>\n",
       "  <div id=\"fd065178-ab06-42b9-bb77-b5dd7f60dcfc\" data-root-id=\"ab3dd724-91f9-4826-9329-2d07c5968f18\" style=\"display: contents;\"></div>\n",
       "</div>\n",
       "<script type=\"application/javascript\">(function(root) {\n",
       "  var docs_json = {\"077873dc-ad94-4868-b36e-cca082f8dc3d\":{\"version\":\"3.6.0\",\"title\":\"Bokeh Application\",\"roots\":[{\"type\":\"object\",\"name\":\"Row\",\"id\":\"ab3dd724-91f9-4826-9329-2d07c5968f18\",\"attributes\":{\"name\":\"Row01095\",\"tags\":[\"embedded\"],\"stylesheets\":[\"\\n:host(.pn-loading):before, .pn-loading:before {\\n  background-color: #c3c3c3;\\n  mask-size: auto calc(min(50%, 400px));\\n  -webkit-mask-size: auto calc(min(50%, 400px));\\n}\",{\"type\":\"object\",\"name\":\"ImportedStyleSheet\",\"id\":\"ddf07521-a55e-4ad3-9a9a-063b0d4c2a35\",\"attributes\":{\"url\":\"https://cdn.holoviz.org/panel/1.5.2/dist/css/loading.css\"}},{\"type\":\"object\",\"name\":\"ImportedStyleSheet\",\"id\":\"38de7cd1-43dc-4de5-a37e-9747db1fe479\",\"attributes\":{\"url\":\"https://cdn.holoviz.org/panel/1.5.2/dist/css/listpanel.css\"}},{\"type\":\"object\",\"name\":\"ImportedStyleSheet\",\"id\":\"e26344de-77a0-4078-a47e-5e3075b23637\",\"attributes\":{\"url\":\"https://cdn.holoviz.org/panel/1.5.2/dist/bundled/theme/default.css\"}},{\"type\":\"object\",\"name\":\"ImportedStyleSheet\",\"id\":\"cbc6902d-fcdb-4b11-8078-ed664a208da1\",\"attributes\":{\"url\":\"https://cdn.holoviz.org/panel/1.5.2/dist/bundled/theme/native.css\"}}],\"min_width\":700,\"margin\":0,\"sizing_mode\":\"stretch_width\",\"align\":\"start\",\"children\":[{\"type\":\"object\",\"name\":\"Spacer\",\"id\":\"87bbd6be-8cee-4186-aa4a-951f690de818\",\"attributes\":{\"name\":\"HSpacer01099\",\"stylesheets\":[\"\\n:host(.pn-loading):before, .pn-loading:before {\\n  background-color: #c3c3c3;\\n  mask-size: auto calc(min(50%, 400px));\\n  -webkit-mask-size: auto calc(min(50%, 400px));\\n}\",{\"id\":\"ddf07521-a55e-4ad3-9a9a-063b0d4c2a35\"},{\"id\":\"e26344de-77a0-4078-a47e-5e3075b23637\"},{\"id\":\"cbc6902d-fcdb-4b11-8078-ed664a208da1\"}],\"margin\":0,\"sizing_mode\":\"stretch_width\",\"align\":\"start\"}},{\"type\":\"object\",\"name\":\"Figure\",\"id\":\"04d256d4-22c9-4491-b86f-e81944a42d23\",\"attributes\":{\"width\":700,\"height\":300,\"margin\":[5,10],\"sizing_mode\":\"fixed\",\"align\":\"start\",\"x_range\":{\"type\":\"object\",\"name\":\"Range1d\",\"id\":\"7d86bbb6-5114-428a-b1b4-9fedb584313b\",\"attributes\":{\"name\":\"index\",\"tags\":[[[\"index\",null]],[]],\"end\":2.0,\"reset_start\":0.0,\"reset_end\":2.0}},\"y_range\":{\"type\":\"object\",\"name\":\"Range1d\",\"id\":\"0993b943-d307-4c8d-a60d-0acd2d285032\",\"attributes\":{\"name\":\"0\",\"tags\":[[[\"0\",null]],{\"type\":\"map\",\"entries\":[[\"invert_yaxis\",false],[\"autorange\",false]]}],\"start\":0.8,\"end\":3.2,\"reset_start\":0.8,\"reset_end\":3.2}},\"x_scale\":{\"type\":\"object\",\"name\":\"LinearScale\",\"id\":\"e6301251-a661-4e37-85e5-5d88f0b82fec\"},\"y_scale\":{\"type\":\"object\",\"name\":\"LinearScale\",\"id\":\"1bad6fc7-222e-435c-b3c4-245fe0cb19be\"},\"title\":{\"type\":\"object\",\"name\":\"Title\",\"id\":\"3363851a-3f0c-4736-a7e7-2f7ea36810d1\",\"attributes\":{\"text\":\"A Curve\",\"text_color\":\"black\",\"text_font_size\":\"12pt\"}},\"renderers\":[{\"type\":\"object\",\"name\":\"GlyphRenderer\",\"id\":\"2536ce81-19c5-4bca-9e8e-2ac35e07f396\",\"attributes\":{\"data_source\":{\"type\":\"object\",\"name\":\"ColumnDataSource\",\"id\":\"635dbe2e-eb13-49b6-966a-28ff10d15918\",\"attributes\":{\"selected\":{\"type\":\"object\",\"name\":\"Selection\",\"id\":\"9888bb3d-3565-4c53-8ef5-a35dae3701f2\",\"attributes\":{\"indices\":[],\"line_indices\":[]}},\"selection_policy\":{\"type\":\"object\",\"name\":\"UnionRenderers\",\"id\":\"6fc63549-b4d6-47d2-a81f-4855faabf9bd\"},\"data\":{\"type\":\"map\",\"entries\":[[\"index\",{\"type\":\"ndarray\",\"array\":{\"type\":\"bytes\",\"data\":\"AAAAAAEAAAACAAAA\"},\"shape\":[3],\"dtype\":\"int32\",\"order\":\"little\"}],[\"0\",{\"type\":\"ndarray\",\"array\":{\"type\":\"bytes\",\"data\":\"AQAAAAIAAAADAAAA\"},\"shape\":[3],\"dtype\":\"int32\",\"order\":\"little\"}],[\"A_0\",{\"type\":\"ndarray\",\"array\":{\"type\":\"bytes\",\"data\":\"AQAAAAIAAAADAAAA\"},\"shape\":[3],\"dtype\":\"int32\",\"order\":\"little\"}]]}}},\"view\":{\"type\":\"object\",\"name\":\"CDSView\",\"id\":\"13353ec5-b562-4fa1-a9a7-950d98c43bb3\",\"attributes\":{\"filter\":{\"type\":\"object\",\"name\":\"AllIndices\",\"id\":\"0a698ec7-a2c3-4111-8d61-02f87a7355f5\"}}},\"glyph\":{\"type\":\"object\",\"name\":\"Line\",\"id\":\"fc067512-639e-4c5d-bb05-5ae6e3dc31b1\",\"attributes\":{\"tags\":[\"apply_ranges\"],\"x\":{\"type\":\"field\",\"field\":\"index\"},\"y\":{\"type\":\"field\",\"field\":\"0\"},\"line_color\":\"#30a2da\",\"line_width\":2}},\"selection_glyph\":{\"type\":\"object\",\"name\":\"Line\",\"id\":\"49643f9a-670b-4f9d-9914-f781465299b4\",\"attributes\":{\"tags\":[\"apply_ranges\"],\"x\":{\"type\":\"field\",\"field\":\"index\"},\"y\":{\"type\":\"field\",\"field\":\"0\"},\"line_color\":\"#30a2da\",\"line_width\":2}},\"nonselection_glyph\":{\"type\":\"object\",\"name\":\"Line\",\"id\":\"b2886e98-7031-4727-a537-b7fd4cb2fbf7\",\"attributes\":{\"tags\":[\"apply_ranges\"],\"x\":{\"type\":\"field\",\"field\":\"index\"},\"y\":{\"type\":\"field\",\"field\":\"0\"},\"line_color\":\"#30a2da\",\"line_alpha\":0.1,\"line_width\":2}},\"muted_glyph\":{\"type\":\"object\",\"name\":\"Line\",\"id\":\"b981ea36-6e3a-4813-8b58-30424cfcb489\",\"attributes\":{\"tags\":[\"apply_ranges\"],\"x\":{\"type\":\"field\",\"field\":\"index\"},\"y\":{\"type\":\"field\",\"field\":\"0\"},\"line_color\":\"#30a2da\",\"line_alpha\":0.2,\"line_width\":2}}}}],\"toolbar\":{\"type\":\"object\",\"name\":\"Toolbar\",\"id\":\"64f3d655-f6ff-48f8-9aaa-fcb406af7c8d\",\"attributes\":{\"tools\":[{\"type\":\"object\",\"name\":\"WheelZoomTool\",\"id\":\"9a44024e-0e13-4cb8-8287-87a69c58dca5\",\"attributes\":{\"tags\":[\"hv_created\"],\"renderers\":\"auto\",\"zoom_together\":\"none\"}},{\"type\":\"object\",\"name\":\"HoverTool\",\"id\":\"4f6dc320-1e5a-431a-8ff8-2236e3baad95\",\"attributes\":{\"tags\":[\"hv_created\"],\"renderers\":[{\"id\":\"2536ce81-19c5-4bca-9e8e-2ac35e07f396\"}],\"tooltips\":[[\"index\",\"@{index}\"],[\"0\",\"@{A_0}\"]]}},{\"type\":\"object\",\"name\":\"SaveTool\",\"id\":\"f3072381-9cbd-4b78-9033-cd252247fed5\"},{\"type\":\"object\",\"name\":\"PanTool\",\"id\":\"eeefe8a2-d982-4015-8856-e6ecc4c8c24a\"},{\"type\":\"object\",\"name\":\"BoxZoomTool\",\"id\":\"ada27a50-7124-46c8-8da9-ae0864c740e8\",\"attributes\":{\"overlay\":{\"type\":\"object\",\"name\":\"BoxAnnotation\",\"id\":\"e6de6936-be2f-49ef-8982-57f0eecd7e17\",\"attributes\":{\"syncable\":false,\"line_color\":\"black\",\"line_alpha\":1.0,\"line_width\":2,\"line_dash\":[4,4],\"fill_color\":\"lightgrey\",\"fill_alpha\":0.5,\"level\":\"overlay\",\"visible\":false,\"left\":{\"type\":\"number\",\"value\":\"nan\"},\"right\":{\"type\":\"number\",\"value\":\"nan\"},\"top\":{\"type\":\"number\",\"value\":\"nan\"},\"bottom\":{\"type\":\"number\",\"value\":\"nan\"},\"left_units\":\"canvas\",\"right_units\":\"canvas\",\"top_units\":\"canvas\",\"bottom_units\":\"canvas\",\"handles\":{\"type\":\"object\",\"name\":\"BoxInteractionHandles\",\"id\":\"6ff8bce0-57c0-4faf-ace0-7fb9a946172f\",\"attributes\":{\"all\":{\"type\":\"object\",\"name\":\"AreaVisuals\",\"id\":\"a070adac-11a8-469e-95e0-a7a4cb0cba0b\",\"attributes\":{\"fill_color\":\"white\",\"hover_fill_color\":\"lightgray\"}}}}}}}},{\"type\":\"object\",\"name\":\"ResetTool\",\"id\":\"e0411722-6ec1-4bfa-8604-2f4af67a2144\"}],\"active_drag\":{\"id\":\"eeefe8a2-d982-4015-8856-e6ecc4c8c24a\"},\"active_scroll\":{\"id\":\"9a44024e-0e13-4cb8-8287-87a69c58dca5\"}}},\"left\":[{\"type\":\"object\",\"name\":\"LinearAxis\",\"id\":\"645e9a8b-23c6-4eb5-9123-63cdaff9e82d\",\"attributes\":{\"ticker\":{\"type\":\"object\",\"name\":\"BasicTicker\",\"id\":\"038f6000-8c6b-48bd-add8-44e43ca72f38\",\"attributes\":{\"mantissas\":[1,2,5]}},\"formatter\":{\"type\":\"object\",\"name\":\"BasicTickFormatter\",\"id\":\"fe992477-0a24-4245-8119-ff15c3028c9e\"},\"axis_label\":\"0\",\"major_label_policy\":{\"type\":\"object\",\"name\":\"AllLabels\",\"id\":\"0eebbd2e-5216-42cd-805e-dbcb75d8ad98\"}}}],\"below\":[{\"type\":\"object\",\"name\":\"LinearAxis\",\"id\":\"49e8a1aa-0af2-4693-b7ac-ef708d9d176b\",\"attributes\":{\"ticker\":{\"type\":\"object\",\"name\":\"BasicTicker\",\"id\":\"c7ac1284-b6e4-4169-8baa-ddde0ec68aa2\",\"attributes\":{\"mantissas\":[1,2,5]}},\"formatter\":{\"type\":\"object\",\"name\":\"BasicTickFormatter\",\"id\":\"7060762b-f650-442c-9ee3-8b33cf443df9\"},\"axis_label\":\"\",\"major_label_policy\":{\"type\":\"object\",\"name\":\"AllLabels\",\"id\":\"e18ae0c7-eb30-47fe-959b-53c067049f77\"}}}],\"center\":[{\"type\":\"object\",\"name\":\"Grid\",\"id\":\"ef3c414c-c384-4171-8a6f-1c606437987f\",\"attributes\":{\"axis\":{\"id\":\"49e8a1aa-0af2-4693-b7ac-ef708d9d176b\"},\"grid_line_color\":null}},{\"type\":\"object\",\"name\":\"Grid\",\"id\":\"2cef2e45-12ba-4534-9d3c-af64da1eb264\",\"attributes\":{\"dimension\":1,\"axis\":{\"id\":\"645e9a8b-23c6-4eb5-9123-63cdaff9e82d\"},\"grid_line_color\":null}}],\"min_border_top\":10,\"min_border_bottom\":10,\"min_border_left\":10,\"min_border_right\":10,\"output_backend\":\"webgl\"}},{\"type\":\"object\",\"name\":\"Spacer\",\"id\":\"a90bc740-ef5f-48c4-8ed6-db0994975490\",\"attributes\":{\"name\":\"HSpacer01100\",\"stylesheets\":[\"\\n:host(.pn-loading):before, .pn-loading:before {\\n  background-color: #c3c3c3;\\n  mask-size: auto calc(min(50%, 400px));\\n  -webkit-mask-size: auto calc(min(50%, 400px));\\n}\",{\"id\":\"ddf07521-a55e-4ad3-9a9a-063b0d4c2a35\"},{\"id\":\"e26344de-77a0-4078-a47e-5e3075b23637\"},{\"id\":\"cbc6902d-fcdb-4b11-8078-ed664a208da1\"}],\"margin\":0,\"sizing_mode\":\"stretch_width\",\"align\":\"start\"}}]}}],\"defs\":[{\"type\":\"model\",\"name\":\"ReactiveHTML1\"},{\"type\":\"model\",\"name\":\"FlexBox1\",\"properties\":[{\"name\":\"align_content\",\"kind\":\"Any\",\"default\":\"flex-start\"},{\"name\":\"align_items\",\"kind\":\"Any\",\"default\":\"flex-start\"},{\"name\":\"flex_direction\",\"kind\":\"Any\",\"default\":\"row\"},{\"name\":\"flex_wrap\",\"kind\":\"Any\",\"default\":\"wrap\"},{\"name\":\"gap\",\"kind\":\"Any\",\"default\":\"\"},{\"name\":\"justify_content\",\"kind\":\"Any\",\"default\":\"flex-start\"}]},{\"type\":\"model\",\"name\":\"FloatPanel1\",\"properties\":[{\"name\":\"config\",\"kind\":\"Any\",\"default\":{\"type\":\"map\"}},{\"name\":\"contained\",\"kind\":\"Any\",\"default\":true},{\"name\":\"position\",\"kind\":\"Any\",\"default\":\"right-top\"},{\"name\":\"offsetx\",\"kind\":\"Any\",\"default\":null},{\"name\":\"offsety\",\"kind\":\"Any\",\"default\":null},{\"name\":\"theme\",\"kind\":\"Any\",\"default\":\"primary\"},{\"name\":\"status\",\"kind\":\"Any\",\"default\":\"normalized\"}]},{\"type\":\"model\",\"name\":\"GridStack1\",\"properties\":[{\"name\":\"mode\",\"kind\":\"Any\",\"default\":\"warn\"},{\"name\":\"ncols\",\"kind\":\"Any\",\"default\":null},{\"name\":\"nrows\",\"kind\":\"Any\",\"default\":null},{\"name\":\"allow_resize\",\"kind\":\"Any\",\"default\":true},{\"name\":\"allow_drag\",\"kind\":\"Any\",\"default\":true},{\"name\":\"state\",\"kind\":\"Any\",\"default\":[]}]},{\"type\":\"model\",\"name\":\"drag1\",\"properties\":[{\"name\":\"slider_width\",\"kind\":\"Any\",\"default\":5},{\"name\":\"slider_color\",\"kind\":\"Any\",\"default\":\"black\"},{\"name\":\"value\",\"kind\":\"Any\",\"default\":50}]},{\"type\":\"model\",\"name\":\"click1\",\"properties\":[{\"name\":\"terminal_output\",\"kind\":\"Any\",\"default\":\"\"},{\"name\":\"debug_name\",\"kind\":\"Any\",\"default\":\"\"},{\"name\":\"clears\",\"kind\":\"Any\",\"default\":0}]},{\"type\":\"model\",\"name\":\"FastWrapper1\",\"properties\":[{\"name\":\"object\",\"kind\":\"Any\",\"default\":null},{\"name\":\"style\",\"kind\":\"Any\",\"default\":null}]},{\"type\":\"model\",\"name\":\"NotificationAreaBase1\",\"properties\":[{\"name\":\"js_events\",\"kind\":\"Any\",\"default\":{\"type\":\"map\"}},{\"name\":\"position\",\"kind\":\"Any\",\"default\":\"bottom-right\"},{\"name\":\"_clear\",\"kind\":\"Any\",\"default\":0}]},{\"type\":\"model\",\"name\":\"NotificationArea1\",\"properties\":[{\"name\":\"js_events\",\"kind\":\"Any\",\"default\":{\"type\":\"map\"}},{\"name\":\"notifications\",\"kind\":\"Any\",\"default\":[]},{\"name\":\"position\",\"kind\":\"Any\",\"default\":\"bottom-right\"},{\"name\":\"_clear\",\"kind\":\"Any\",\"default\":0},{\"name\":\"types\",\"kind\":\"Any\",\"default\":[{\"type\":\"map\",\"entries\":[[\"type\",\"warning\"],[\"background\",\"#ffc107\"],[\"icon\",{\"type\":\"map\",\"entries\":[[\"className\",\"fas fa-exclamation-triangle\"],[\"tagName\",\"i\"],[\"color\",\"white\"]]}]]},{\"type\":\"map\",\"entries\":[[\"type\",\"info\"],[\"background\",\"#007bff\"],[\"icon\",{\"type\":\"map\",\"entries\":[[\"className\",\"fas fa-info-circle\"],[\"tagName\",\"i\"],[\"color\",\"white\"]]}]]}]}]},{\"type\":\"model\",\"name\":\"Notification\",\"properties\":[{\"name\":\"background\",\"kind\":\"Any\",\"default\":null},{\"name\":\"duration\",\"kind\":\"Any\",\"default\":3000},{\"name\":\"icon\",\"kind\":\"Any\",\"default\":null},{\"name\":\"message\",\"kind\":\"Any\",\"default\":\"\"},{\"name\":\"notification_type\",\"kind\":\"Any\",\"default\":null},{\"name\":\"_destroyed\",\"kind\":\"Any\",\"default\":false}]},{\"type\":\"model\",\"name\":\"TemplateActions1\",\"properties\":[{\"name\":\"open_modal\",\"kind\":\"Any\",\"default\":0},{\"name\":\"close_modal\",\"kind\":\"Any\",\"default\":0}]},{\"type\":\"model\",\"name\":\"BootstrapTemplateActions1\",\"properties\":[{\"name\":\"open_modal\",\"kind\":\"Any\",\"default\":0},{\"name\":\"close_modal\",\"kind\":\"Any\",\"default\":0}]},{\"type\":\"model\",\"name\":\"TemplateEditor1\",\"properties\":[{\"name\":\"layout\",\"kind\":\"Any\",\"default\":[]}]},{\"type\":\"model\",\"name\":\"MaterialTemplateActions1\",\"properties\":[{\"name\":\"open_modal\",\"kind\":\"Any\",\"default\":0},{\"name\":\"close_modal\",\"kind\":\"Any\",\"default\":0}]},{\"type\":\"model\",\"name\":\"ReactiveESM1\"},{\"type\":\"model\",\"name\":\"JSComponent1\"},{\"type\":\"model\",\"name\":\"ReactComponent1\"},{\"type\":\"model\",\"name\":\"AnyWidgetComponent1\"},{\"type\":\"model\",\"name\":\"request_value1\",\"properties\":[{\"name\":\"fill\",\"kind\":\"Any\",\"default\":\"none\"},{\"name\":\"_synced\",\"kind\":\"Any\",\"default\":null},{\"name\":\"_request_sync\",\"kind\":\"Any\",\"default\":0}]}]}};\n",
       "  var render_items = [{\"docid\":\"077873dc-ad94-4868-b36e-cca082f8dc3d\",\"roots\":{\"ab3dd724-91f9-4826-9329-2d07c5968f18\":\"fd065178-ab06-42b9-bb77-b5dd7f60dcfc\"},\"root_ids\":[\"ab3dd724-91f9-4826-9329-2d07c5968f18\"]}];\n",
       "  var docs = Object.values(docs_json)\n",
       "  if (!docs) {\n",
       "    return\n",
       "  }\n",
       "  const py_version = docs[0].version.replace('rc', '-rc.').replace('.dev', '-dev.')\n",
       "  async function embed_document(root) {\n",
       "    var Bokeh = get_bokeh(root)\n",
       "    await Bokeh.embed.embed_items_notebook(docs_json, render_items);\n",
       "    for (const render_item of render_items) {\n",
       "      for (const root_id of render_item.root_ids) {\n",
       "\tconst id_el = document.getElementById(root_id)\n",
       "\tif (id_el.children.length && id_el.children[0].hasAttribute('data-root-id')) {\n",
       "\t  const root_el = id_el.children[0]\n",
       "\t  root_el.id = root_el.id + '-rendered'\n",
       "\t  for (const child of root_el.children) {\n",
       "            // Ensure JupyterLab does not capture keyboard shortcuts\n",
       "            // see: https://jupyterlab.readthedocs.io/en/4.1.x/extension/notebook.html#keyboard-interaction-model\n",
       "\t    child.setAttribute('data-lm-suppress-shortcuts', 'true')\n",
       "\t  }\n",
       "\t}\n",
       "      }\n",
       "    }\n",
       "  }\n",
       "  function get_bokeh(root) {\n",
       "    if (root.Bokeh === undefined) {\n",
       "      return null\n",
       "    } else if (root.Bokeh.version !== py_version) {\n",
       "      if (root.Bokeh.versions === undefined || !root.Bokeh.versions.has(py_version)) {\n",
       "\treturn null\n",
       "      }\n",
       "      return root.Bokeh.versions.get(py_version);\n",
       "    } else if (root.Bokeh.version === py_version) {\n",
       "      return root.Bokeh\n",
       "    }\n",
       "    return null\n",
       "  }\n",
       "  function is_loaded(root) {\n",
       "    var Bokeh = get_bokeh(root)\n",
       "    return (Bokeh != null && Bokeh.Panel !== undefined)\n",
       "  }\n",
       "  if (is_loaded(root)) {\n",
       "    embed_document(root);\n",
       "  } else {\n",
       "    var attempts = 0;\n",
       "    var timer = setInterval(function(root) {\n",
       "      if (is_loaded(root)) {\n",
       "        clearInterval(timer);\n",
       "        embed_document(root);\n",
       "      } else if (document.readyState == \"complete\") {\n",
       "        attempts++;\n",
       "        if (attempts > 200) {\n",
       "          clearInterval(timer);\n",
       "\t  var Bokeh = get_bokeh(root)\n",
       "\t  if (Bokeh == null || Bokeh.Panel == null) {\n",
       "            console.warn(\"Panel: ERROR: Unable to run Panel code because Bokeh or Panel library is missing\");\n",
       "\t  } else {\n",
       "\t    console.warn(\"Panel: WARNING: Attempting to render but not all required libraries could be resolved.\")\n",
       "\t    embed_document(root)\n",
       "\t  }\n",
       "        }\n",
       "      }\n",
       "    }, 25, root)\n",
       "  }\n",
       "})(window);</script>"
      ],
      "text/plain": [
       ":Curve   [index]   (0)"
      ]
     },
     "execution_count": 64,
     "metadata": {
      "application/vnd.holoviews_exec.v0+json": {
       "id": "ab3dd724-91f9-4826-9329-2d07c5968f18"
      }
     },
     "output_type": "execute_result"
    }
   ],
   "source": [
    "data.hvplot.line(title='A Curve')"
   ]
  },
  {
   "cell_type": "markdown",
   "id": "4457f498-812e-4fea-85e7-dd86b5868242",
   "metadata": {},
   "source": [
    "is equivalent to:"
   ]
  },
  {
   "cell_type": "code",
   "execution_count": 65,
   "id": "1e9a86bd-feb6-4c6f-a9e4-fd696f3ec6ca",
   "metadata": {},
   "outputs": [
    {
     "data": {},
     "metadata": {},
     "output_type": "display_data"
    },
    {
     "data": {
      "application/vnd.holoviews_exec.v0+json": "",
      "text/html": [
       "<div id='c61a1363-2692-471f-8d02-486de27a2a9b'>\n",
       "  <div id=\"d4ba94a7-2495-4271-8276-134277fdb394\" data-root-id=\"c61a1363-2692-471f-8d02-486de27a2a9b\" style=\"display: contents;\"></div>\n",
       "</div>\n",
       "<script type=\"application/javascript\">(function(root) {\n",
       "  var docs_json = {\"6ddb80d3-d788-49ff-a435-8cb8ae667ea8\":{\"version\":\"3.6.0\",\"title\":\"Bokeh Application\",\"roots\":[{\"type\":\"object\",\"name\":\"Row\",\"id\":\"c61a1363-2692-471f-8d02-486de27a2a9b\",\"attributes\":{\"name\":\"Row01161\",\"tags\":[\"embedded\"],\"stylesheets\":[\"\\n:host(.pn-loading):before, .pn-loading:before {\\n  background-color: #c3c3c3;\\n  mask-size: auto calc(min(50%, 400px));\\n  -webkit-mask-size: auto calc(min(50%, 400px));\\n}\",{\"type\":\"object\",\"name\":\"ImportedStyleSheet\",\"id\":\"b4771186-dde6-4c18-9830-f5bfbc68458e\",\"attributes\":{\"url\":\"https://cdn.holoviz.org/panel/1.5.2/dist/css/loading.css\"}},{\"type\":\"object\",\"name\":\"ImportedStyleSheet\",\"id\":\"1be84c71-e3ab-4b1e-9705-12cdaa1278f9\",\"attributes\":{\"url\":\"https://cdn.holoviz.org/panel/1.5.2/dist/css/listpanel.css\"}},{\"type\":\"object\",\"name\":\"ImportedStyleSheet\",\"id\":\"7d8ba30d-111b-47c5-b59c-632ce46b8843\",\"attributes\":{\"url\":\"https://cdn.holoviz.org/panel/1.5.2/dist/bundled/theme/default.css\"}},{\"type\":\"object\",\"name\":\"ImportedStyleSheet\",\"id\":\"f16d4180-64d6-4143-a097-712ff5098138\",\"attributes\":{\"url\":\"https://cdn.holoviz.org/panel/1.5.2/dist/bundled/theme/native.css\"}}],\"min_width\":700,\"margin\":0,\"sizing_mode\":\"stretch_width\",\"align\":\"start\",\"children\":[{\"type\":\"object\",\"name\":\"Spacer\",\"id\":\"5aef0479-8be6-467f-a4b7-4aeb9f68fdbe\",\"attributes\":{\"name\":\"HSpacer01165\",\"stylesheets\":[\"\\n:host(.pn-loading):before, .pn-loading:before {\\n  background-color: #c3c3c3;\\n  mask-size: auto calc(min(50%, 400px));\\n  -webkit-mask-size: auto calc(min(50%, 400px));\\n}\",{\"id\":\"b4771186-dde6-4c18-9830-f5bfbc68458e\"},{\"id\":\"7d8ba30d-111b-47c5-b59c-632ce46b8843\"},{\"id\":\"f16d4180-64d6-4143-a097-712ff5098138\"}],\"margin\":0,\"sizing_mode\":\"stretch_width\",\"align\":\"start\"}},{\"type\":\"object\",\"name\":\"Figure\",\"id\":\"cf0495aa-9b38-41c0-b8de-e72455311965\",\"attributes\":{\"width\":700,\"height\":300,\"margin\":[5,10],\"sizing_mode\":\"fixed\",\"align\":\"start\",\"x_range\":{\"type\":\"object\",\"name\":\"Range1d\",\"id\":\"e3e5b714-5312-4a57-ac75-3632088315c5\",\"attributes\":{\"name\":\"index\",\"tags\":[[[\"index\",null]],[]],\"end\":2.0,\"reset_start\":0.0,\"reset_end\":2.0}},\"y_range\":{\"type\":\"object\",\"name\":\"Range1d\",\"id\":\"4a43a6aa-47a3-4fd9-b1bd-5e37496aadb4\",\"attributes\":{\"name\":\"0\",\"tags\":[[[\"0\",null]],{\"type\":\"map\",\"entries\":[[\"invert_yaxis\",false],[\"autorange\",false]]}],\"start\":0.8,\"end\":3.2,\"reset_start\":0.8,\"reset_end\":3.2}},\"x_scale\":{\"type\":\"object\",\"name\":\"LinearScale\",\"id\":\"f9ba6818-aad2-4ce4-a90f-4f5fbd86e790\"},\"y_scale\":{\"type\":\"object\",\"name\":\"LinearScale\",\"id\":\"aa884f0f-97f2-4a88-bd72-e122447fae35\"},\"title\":{\"type\":\"object\",\"name\":\"Title\",\"id\":\"ec158596-4871-45f8-b735-9dca6240bbf0\",\"attributes\":{\"text\":\"A Curve\",\"text_color\":\"black\",\"text_font_size\":\"12pt\"}},\"renderers\":[{\"type\":\"object\",\"name\":\"GlyphRenderer\",\"id\":\"7cdfe2a2-4214-4c6d-9de9-53bd2913706e\",\"attributes\":{\"data_source\":{\"type\":\"object\",\"name\":\"ColumnDataSource\",\"id\":\"ffe29b5b-b029-41d6-8d19-ae81a14263d9\",\"attributes\":{\"selected\":{\"type\":\"object\",\"name\":\"Selection\",\"id\":\"3604addc-0e04-45e8-a74f-aaefeeed52f0\",\"attributes\":{\"indices\":[],\"line_indices\":[]}},\"selection_policy\":{\"type\":\"object\",\"name\":\"UnionRenderers\",\"id\":\"9aa84d34-36f0-45cd-9c53-8996b330d041\"},\"data\":{\"type\":\"map\",\"entries\":[[\"index\",{\"type\":\"ndarray\",\"array\":{\"type\":\"bytes\",\"data\":\"AAAAAAEAAAACAAAA\"},\"shape\":[3],\"dtype\":\"int32\",\"order\":\"little\"}],[\"0\",{\"type\":\"ndarray\",\"array\":{\"type\":\"bytes\",\"data\":\"AQAAAAIAAAADAAAA\"},\"shape\":[3],\"dtype\":\"int32\",\"order\":\"little\"}],[\"A_0\",{\"type\":\"ndarray\",\"array\":{\"type\":\"bytes\",\"data\":\"AQAAAAIAAAADAAAA\"},\"shape\":[3],\"dtype\":\"int32\",\"order\":\"little\"}]]}}},\"view\":{\"type\":\"object\",\"name\":\"CDSView\",\"id\":\"2ecea969-3e47-425c-9495-ddd97dbdc2bc\",\"attributes\":{\"filter\":{\"type\":\"object\",\"name\":\"AllIndices\",\"id\":\"e89d3876-185c-451b-92b9-ddcc8220764f\"}}},\"glyph\":{\"type\":\"object\",\"name\":\"Line\",\"id\":\"050bf5ad-78ef-4606-b570-269d1dc99a28\",\"attributes\":{\"tags\":[\"apply_ranges\"],\"x\":{\"type\":\"field\",\"field\":\"index\"},\"y\":{\"type\":\"field\",\"field\":\"0\"},\"line_color\":\"#30a2da\",\"line_width\":2}},\"selection_glyph\":{\"type\":\"object\",\"name\":\"Line\",\"id\":\"40189723-9672-4c99-bd77-680c7b164fa5\",\"attributes\":{\"tags\":[\"apply_ranges\"],\"x\":{\"type\":\"field\",\"field\":\"index\"},\"y\":{\"type\":\"field\",\"field\":\"0\"},\"line_color\":\"#30a2da\",\"line_width\":2}},\"nonselection_glyph\":{\"type\":\"object\",\"name\":\"Line\",\"id\":\"3a712301-4bf3-466e-b536-30bac93987fe\",\"attributes\":{\"tags\":[\"apply_ranges\"],\"x\":{\"type\":\"field\",\"field\":\"index\"},\"y\":{\"type\":\"field\",\"field\":\"0\"},\"line_color\":\"#30a2da\",\"line_alpha\":0.1,\"line_width\":2}},\"muted_glyph\":{\"type\":\"object\",\"name\":\"Line\",\"id\":\"a295b512-9d0e-4ee3-be83-df82b5e3133a\",\"attributes\":{\"tags\":[\"apply_ranges\"],\"x\":{\"type\":\"field\",\"field\":\"index\"},\"y\":{\"type\":\"field\",\"field\":\"0\"},\"line_color\":\"#30a2da\",\"line_alpha\":0.2,\"line_width\":2}}}}],\"toolbar\":{\"type\":\"object\",\"name\":\"Toolbar\",\"id\":\"09341908-5da0-41ea-a092-9fce71c4ccfb\",\"attributes\":{\"tools\":[{\"type\":\"object\",\"name\":\"WheelZoomTool\",\"id\":\"5d3832e3-4ac6-4904-b60c-4a7ca62b75ad\",\"attributes\":{\"tags\":[\"hv_created\"],\"renderers\":\"auto\",\"zoom_together\":\"none\"}},{\"type\":\"object\",\"name\":\"HoverTool\",\"id\":\"4a66b900-f836-43e9-88fd-005f36c23117\",\"attributes\":{\"tags\":[\"hv_created\"],\"renderers\":[{\"id\":\"7cdfe2a2-4214-4c6d-9de9-53bd2913706e\"}],\"tooltips\":[[\"index\",\"@{index}\"],[\"0\",\"@{A_0}\"]]}},{\"type\":\"object\",\"name\":\"SaveTool\",\"id\":\"17811436-aae3-4ee5-8869-f8f4e4ee3a8f\"},{\"type\":\"object\",\"name\":\"PanTool\",\"id\":\"7d96de4c-488c-4eea-8b10-03358f786d6d\"},{\"type\":\"object\",\"name\":\"BoxZoomTool\",\"id\":\"82504798-3688-4567-9aa6-b295a12050ec\",\"attributes\":{\"overlay\":{\"type\":\"object\",\"name\":\"BoxAnnotation\",\"id\":\"f9958603-41d9-46dc-96a9-9b7ac93dc0bb\",\"attributes\":{\"syncable\":false,\"line_color\":\"black\",\"line_alpha\":1.0,\"line_width\":2,\"line_dash\":[4,4],\"fill_color\":\"lightgrey\",\"fill_alpha\":0.5,\"level\":\"overlay\",\"visible\":false,\"left\":{\"type\":\"number\",\"value\":\"nan\"},\"right\":{\"type\":\"number\",\"value\":\"nan\"},\"top\":{\"type\":\"number\",\"value\":\"nan\"},\"bottom\":{\"type\":\"number\",\"value\":\"nan\"},\"left_units\":\"canvas\",\"right_units\":\"canvas\",\"top_units\":\"canvas\",\"bottom_units\":\"canvas\",\"handles\":{\"type\":\"object\",\"name\":\"BoxInteractionHandles\",\"id\":\"8d767612-cafd-4f06-a926-7337a62ce463\",\"attributes\":{\"all\":{\"type\":\"object\",\"name\":\"AreaVisuals\",\"id\":\"04496333-1a4a-4105-b8c3-20d18e2fdbbd\",\"attributes\":{\"fill_color\":\"white\",\"hover_fill_color\":\"lightgray\"}}}}}}}},{\"type\":\"object\",\"name\":\"ResetTool\",\"id\":\"733844a4-000f-4fc0-a761-d6799433a037\"}],\"active_drag\":{\"id\":\"7d96de4c-488c-4eea-8b10-03358f786d6d\"},\"active_scroll\":{\"id\":\"5d3832e3-4ac6-4904-b60c-4a7ca62b75ad\"}}},\"left\":[{\"type\":\"object\",\"name\":\"LinearAxis\",\"id\":\"642bfc80-9449-4ffc-b027-fde58bcece66\",\"attributes\":{\"ticker\":{\"type\":\"object\",\"name\":\"BasicTicker\",\"id\":\"6e5afd39-fd7b-46db-b96c-4255bde16999\",\"attributes\":{\"mantissas\":[1,2,5]}},\"formatter\":{\"type\":\"object\",\"name\":\"BasicTickFormatter\",\"id\":\"0ec7a005-e682-454e-8d4c-945f12b8d7c2\"},\"axis_label\":\"0\",\"major_label_policy\":{\"type\":\"object\",\"name\":\"AllLabels\",\"id\":\"b17a1f84-a43d-4df9-887b-a0e74676815a\"}}}],\"below\":[{\"type\":\"object\",\"name\":\"LinearAxis\",\"id\":\"c3eb971b-f7a2-442a-8c36-6779aceb90b8\",\"attributes\":{\"ticker\":{\"type\":\"object\",\"name\":\"BasicTicker\",\"id\":\"44405cf5-1435-4c54-bb1b-b91170f10858\",\"attributes\":{\"mantissas\":[1,2,5]}},\"formatter\":{\"type\":\"object\",\"name\":\"BasicTickFormatter\",\"id\":\"a8fd4d6a-5804-4b9c-9083-9fc4621b5c7d\"},\"axis_label\":\"\",\"major_label_policy\":{\"type\":\"object\",\"name\":\"AllLabels\",\"id\":\"df26fb8c-d52b-4cc9-9e2c-c3f1f049b19d\"}}}],\"center\":[{\"type\":\"object\",\"name\":\"Grid\",\"id\":\"360c5547-6b59-4b1a-a251-01b2b8713abf\",\"attributes\":{\"axis\":{\"id\":\"c3eb971b-f7a2-442a-8c36-6779aceb90b8\"},\"grid_line_color\":null}},{\"type\":\"object\",\"name\":\"Grid\",\"id\":\"4d56c7c2-bae3-48bb-9f2e-92df907c4a38\",\"attributes\":{\"dimension\":1,\"axis\":{\"id\":\"642bfc80-9449-4ffc-b027-fde58bcece66\"},\"grid_line_color\":null}}],\"min_border_top\":10,\"min_border_bottom\":10,\"min_border_left\":10,\"min_border_right\":10,\"output_backend\":\"webgl\"}},{\"type\":\"object\",\"name\":\"Spacer\",\"id\":\"f61bf1e1-f7ca-45f0-99f2-558ee61275e3\",\"attributes\":{\"name\":\"HSpacer01166\",\"stylesheets\":[\"\\n:host(.pn-loading):before, .pn-loading:before {\\n  background-color: #c3c3c3;\\n  mask-size: auto calc(min(50%, 400px));\\n  -webkit-mask-size: auto calc(min(50%, 400px));\\n}\",{\"id\":\"b4771186-dde6-4c18-9830-f5bfbc68458e\"},{\"id\":\"7d8ba30d-111b-47c5-b59c-632ce46b8843\"},{\"id\":\"f16d4180-64d6-4143-a097-712ff5098138\"}],\"margin\":0,\"sizing_mode\":\"stretch_width\",\"align\":\"start\"}}]}}],\"defs\":[{\"type\":\"model\",\"name\":\"ReactiveHTML1\"},{\"type\":\"model\",\"name\":\"FlexBox1\",\"properties\":[{\"name\":\"align_content\",\"kind\":\"Any\",\"default\":\"flex-start\"},{\"name\":\"align_items\",\"kind\":\"Any\",\"default\":\"flex-start\"},{\"name\":\"flex_direction\",\"kind\":\"Any\",\"default\":\"row\"},{\"name\":\"flex_wrap\",\"kind\":\"Any\",\"default\":\"wrap\"},{\"name\":\"gap\",\"kind\":\"Any\",\"default\":\"\"},{\"name\":\"justify_content\",\"kind\":\"Any\",\"default\":\"flex-start\"}]},{\"type\":\"model\",\"name\":\"FloatPanel1\",\"properties\":[{\"name\":\"config\",\"kind\":\"Any\",\"default\":{\"type\":\"map\"}},{\"name\":\"contained\",\"kind\":\"Any\",\"default\":true},{\"name\":\"position\",\"kind\":\"Any\",\"default\":\"right-top\"},{\"name\":\"offsetx\",\"kind\":\"Any\",\"default\":null},{\"name\":\"offsety\",\"kind\":\"Any\",\"default\":null},{\"name\":\"theme\",\"kind\":\"Any\",\"default\":\"primary\"},{\"name\":\"status\",\"kind\":\"Any\",\"default\":\"normalized\"}]},{\"type\":\"model\",\"name\":\"GridStack1\",\"properties\":[{\"name\":\"mode\",\"kind\":\"Any\",\"default\":\"warn\"},{\"name\":\"ncols\",\"kind\":\"Any\",\"default\":null},{\"name\":\"nrows\",\"kind\":\"Any\",\"default\":null},{\"name\":\"allow_resize\",\"kind\":\"Any\",\"default\":true},{\"name\":\"allow_drag\",\"kind\":\"Any\",\"default\":true},{\"name\":\"state\",\"kind\":\"Any\",\"default\":[]}]},{\"type\":\"model\",\"name\":\"drag1\",\"properties\":[{\"name\":\"slider_width\",\"kind\":\"Any\",\"default\":5},{\"name\":\"slider_color\",\"kind\":\"Any\",\"default\":\"black\"},{\"name\":\"value\",\"kind\":\"Any\",\"default\":50}]},{\"type\":\"model\",\"name\":\"click1\",\"properties\":[{\"name\":\"terminal_output\",\"kind\":\"Any\",\"default\":\"\"},{\"name\":\"debug_name\",\"kind\":\"Any\",\"default\":\"\"},{\"name\":\"clears\",\"kind\":\"Any\",\"default\":0}]},{\"type\":\"model\",\"name\":\"FastWrapper1\",\"properties\":[{\"name\":\"object\",\"kind\":\"Any\",\"default\":null},{\"name\":\"style\",\"kind\":\"Any\",\"default\":null}]},{\"type\":\"model\",\"name\":\"NotificationAreaBase1\",\"properties\":[{\"name\":\"js_events\",\"kind\":\"Any\",\"default\":{\"type\":\"map\"}},{\"name\":\"position\",\"kind\":\"Any\",\"default\":\"bottom-right\"},{\"name\":\"_clear\",\"kind\":\"Any\",\"default\":0}]},{\"type\":\"model\",\"name\":\"NotificationArea1\",\"properties\":[{\"name\":\"js_events\",\"kind\":\"Any\",\"default\":{\"type\":\"map\"}},{\"name\":\"notifications\",\"kind\":\"Any\",\"default\":[]},{\"name\":\"position\",\"kind\":\"Any\",\"default\":\"bottom-right\"},{\"name\":\"_clear\",\"kind\":\"Any\",\"default\":0},{\"name\":\"types\",\"kind\":\"Any\",\"default\":[{\"type\":\"map\",\"entries\":[[\"type\",\"warning\"],[\"background\",\"#ffc107\"],[\"icon\",{\"type\":\"map\",\"entries\":[[\"className\",\"fas fa-exclamation-triangle\"],[\"tagName\",\"i\"],[\"color\",\"white\"]]}]]},{\"type\":\"map\",\"entries\":[[\"type\",\"info\"],[\"background\",\"#007bff\"],[\"icon\",{\"type\":\"map\",\"entries\":[[\"className\",\"fas fa-info-circle\"],[\"tagName\",\"i\"],[\"color\",\"white\"]]}]]}]}]},{\"type\":\"model\",\"name\":\"Notification\",\"properties\":[{\"name\":\"background\",\"kind\":\"Any\",\"default\":null},{\"name\":\"duration\",\"kind\":\"Any\",\"default\":3000},{\"name\":\"icon\",\"kind\":\"Any\",\"default\":null},{\"name\":\"message\",\"kind\":\"Any\",\"default\":\"\"},{\"name\":\"notification_type\",\"kind\":\"Any\",\"default\":null},{\"name\":\"_destroyed\",\"kind\":\"Any\",\"default\":false}]},{\"type\":\"model\",\"name\":\"TemplateActions1\",\"properties\":[{\"name\":\"open_modal\",\"kind\":\"Any\",\"default\":0},{\"name\":\"close_modal\",\"kind\":\"Any\",\"default\":0}]},{\"type\":\"model\",\"name\":\"BootstrapTemplateActions1\",\"properties\":[{\"name\":\"open_modal\",\"kind\":\"Any\",\"default\":0},{\"name\":\"close_modal\",\"kind\":\"Any\",\"default\":0}]},{\"type\":\"model\",\"name\":\"TemplateEditor1\",\"properties\":[{\"name\":\"layout\",\"kind\":\"Any\",\"default\":[]}]},{\"type\":\"model\",\"name\":\"MaterialTemplateActions1\",\"properties\":[{\"name\":\"open_modal\",\"kind\":\"Any\",\"default\":0},{\"name\":\"close_modal\",\"kind\":\"Any\",\"default\":0}]},{\"type\":\"model\",\"name\":\"ReactiveESM1\"},{\"type\":\"model\",\"name\":\"JSComponent1\"},{\"type\":\"model\",\"name\":\"ReactComponent1\"},{\"type\":\"model\",\"name\":\"AnyWidgetComponent1\"},{\"type\":\"model\",\"name\":\"request_value1\",\"properties\":[{\"name\":\"fill\",\"kind\":\"Any\",\"default\":\"none\"},{\"name\":\"_synced\",\"kind\":\"Any\",\"default\":null},{\"name\":\"_request_sync\",\"kind\":\"Any\",\"default\":0}]}]}};\n",
       "  var render_items = [{\"docid\":\"6ddb80d3-d788-49ff-a435-8cb8ae667ea8\",\"roots\":{\"c61a1363-2692-471f-8d02-486de27a2a9b\":\"d4ba94a7-2495-4271-8276-134277fdb394\"},\"root_ids\":[\"c61a1363-2692-471f-8d02-486de27a2a9b\"]}];\n",
       "  var docs = Object.values(docs_json)\n",
       "  if (!docs) {\n",
       "    return\n",
       "  }\n",
       "  const py_version = docs[0].version.replace('rc', '-rc.').replace('.dev', '-dev.')\n",
       "  async function embed_document(root) {\n",
       "    var Bokeh = get_bokeh(root)\n",
       "    await Bokeh.embed.embed_items_notebook(docs_json, render_items);\n",
       "    for (const render_item of render_items) {\n",
       "      for (const root_id of render_item.root_ids) {\n",
       "\tconst id_el = document.getElementById(root_id)\n",
       "\tif (id_el.children.length && id_el.children[0].hasAttribute('data-root-id')) {\n",
       "\t  const root_el = id_el.children[0]\n",
       "\t  root_el.id = root_el.id + '-rendered'\n",
       "\t  for (const child of root_el.children) {\n",
       "            // Ensure JupyterLab does not capture keyboard shortcuts\n",
       "            // see: https://jupyterlab.readthedocs.io/en/4.1.x/extension/notebook.html#keyboard-interaction-model\n",
       "\t    child.setAttribute('data-lm-suppress-shortcuts', 'true')\n",
       "\t  }\n",
       "\t}\n",
       "      }\n",
       "    }\n",
       "  }\n",
       "  function get_bokeh(root) {\n",
       "    if (root.Bokeh === undefined) {\n",
       "      return null\n",
       "    } else if (root.Bokeh.version !== py_version) {\n",
       "      if (root.Bokeh.versions === undefined || !root.Bokeh.versions.has(py_version)) {\n",
       "\treturn null\n",
       "      }\n",
       "      return root.Bokeh.versions.get(py_version);\n",
       "    } else if (root.Bokeh.version === py_version) {\n",
       "      return root.Bokeh\n",
       "    }\n",
       "    return null\n",
       "  }\n",
       "  function is_loaded(root) {\n",
       "    var Bokeh = get_bokeh(root)\n",
       "    return (Bokeh != null && Bokeh.Panel !== undefined)\n",
       "  }\n",
       "  if (is_loaded(root)) {\n",
       "    embed_document(root);\n",
       "  } else {\n",
       "    var attempts = 0;\n",
       "    var timer = setInterval(function(root) {\n",
       "      if (is_loaded(root)) {\n",
       "        clearInterval(timer);\n",
       "        embed_document(root);\n",
       "      } else if (document.readyState == \"complete\") {\n",
       "        attempts++;\n",
       "        if (attempts > 200) {\n",
       "          clearInterval(timer);\n",
       "\t  var Bokeh = get_bokeh(root)\n",
       "\t  if (Bokeh == null || Bokeh.Panel == null) {\n",
       "            console.warn(\"Panel: ERROR: Unable to run Panel code because Bokeh or Panel library is missing\");\n",
       "\t  } else {\n",
       "\t    console.warn(\"Panel: WARNING: Attempting to render but not all required libraries could be resolved.\")\n",
       "\t    embed_document(root)\n",
       "\t  }\n",
       "        }\n",
       "      }\n",
       "    }, 25, root)\n",
       "  }\n",
       "})(window);</script>"
      ],
      "text/plain": [
       ":Curve   [index]   (0)"
      ]
     },
     "execution_count": 65,
     "metadata": {
      "application/vnd.holoviews_exec.v0+json": {
       "id": "c61a1363-2692-471f-8d02-486de27a2a9b"
      }
     },
     "output_type": "execute_result"
    }
   ],
   "source": [
    "from hvplot.plotting import hvPlotTabular\n",
    "\n",
    "translation_layer = hvPlotTabular(data)\n",
    "\n",
    "translation_layer.line(title='A Curve')"
   ]
  },
  {
   "cell_type": "markdown",
   "id": "5693dcfa-484d-4de7-8ab1-6ef87e3d93e0",
   "metadata": {},
   "source": [
    "Internally the translation layer does a few things:\n",
    "\n",
    "1. Determine the appropriate `kind` (if not provided) and dispatches to the appropriate method (e.g. `.line` which holds certain defaults)\n",
    "2. Determine the dimensions and indexes of the data and either infer the requested `x`, `y`, `by`, `groupby` options if needed.\n",
    "3. Determine if the plot is facetted, e.g. because the user provided `groupby` or `grid` options and then group the dataset appropriately.\n",
    "4. Create the plot layers, i.e. determine if we are plotting a single curve or multiple curves (e.g. if the user provided `by`) and then reshape the data, e.g. going from wide to tidy data if needed\n",
    "5. Apply any required operations, e.g. `resample`, `rasterize` or `datashade`.\n",
    "6. Apply plot and styling to the resulting component.\n",
    "7. Add any ancilliary components such as tile sources or coastlines.\n",
    "\n",
    "The result we end up with is a HoloViews component, i.e. and `Element`, `NdOverlay`, `Overlay`, `HoloMap`, `DynamicMap`, `NdLayout` or `GridSpace`."
   ]
  },
  {
   "cell_type": "markdown",
   "id": "c986d742-a3f4-4c6d-aacd-6d9a9ed83f2f",
   "metadata": {},
   "source": [
    "### 2. HoloViews Core"
   ]
  },
  {
   "cell_type": "markdown",
   "id": "3eed4f2f-311a-4aa1-a192-65367a75f0c4",
   "metadata": {},
   "source": [
    "When hvPlot creates the HoloViews objects a few things happen, at the lowest level of the hierarchy are `Element`s."
   ]
  },
  {
   "cell_type": "markdown",
   "id": "b4ee6cec-996d-4ee0-aa9a-c93090e29bbb",
   "metadata": {},
   "source": [
    "#### `Element`\n",
    "\n",
    "An `Element` is a light wrapper around data, in most cases data can be wrapped without converting it at all but the `DataInterface` layer in HoloViews."
   ]
  },
  {
   "cell_type": "code",
   "execution_count": 69,
   "id": "1f766b6d-eb56-4b33-a46a-fb24df0c7eb2",
   "metadata": {},
   "outputs": [
    {
     "data": {
      "text/plain": [
       "holoviews.core.data.pandas.PandasInterface"
      ]
     },
     "execution_count": 69,
     "metadata": {},
     "output_type": "execute_result"
    }
   ],
   "source": [
    "hv_obj.interface"
   ]
  },
  {
   "cell_type": "markdown",
   "id": "98d76e9b-3dfc-453e-b29e-7e0f836b4d59",
   "metadata": {},
   "source": [
    "The interface does a number of things:\n",
    "\n",
    "- Validate that the data has the dimension(s) specified OR infer the dimensions based on the dimensionality of the data and the columns/indexes/coordinates of the data.\n",
    "- Provide an abstraction to compute the types of the data, return the values of the data as arrays and perform certain operations such as computing the range, grouping by some dimension and much more."
   ]
  },
  {
   "cell_type": "code",
   "execution_count": 80,
   "id": "e1832c86-b9ab-44c2-bef7-8d2498a7b528",
   "metadata": {},
   "outputs": [
    {
     "data": {
      "text/plain": [
       "array([1, 2, 3])"
      ]
     },
     "execution_count": 80,
     "metadata": {},
     "output_type": "execute_result"
    }
   ],
   "source": [
    "hv_obj.interface.values(hv_obj, '0')"
   ]
  },
  {
   "cell_type": "code",
   "execution_count": 81,
   "id": "c73e2bb9-4b5c-4438-993c-f8b6c4af0d14",
   "metadata": {},
   "outputs": [
    {
     "data": {
      "text/plain": [
       "(0, 2)"
      ]
     },
     "execution_count": 81,
     "metadata": {},
     "output_type": "execute_result"
    }
   ],
   "source": [
    "hv_obj.interface.range(hv_obj, 'index')"
   ]
  },
  {
   "cell_type": "markdown",
   "id": "f7c0d0e2-46dc-45fd-9a25-9474fc3d65a9",
   "metadata": {},
   "source": [
    "During instantiation the interface is resolved based on the valid datatype(s):"
   ]
  },
  {
   "cell_type": "code",
   "execution_count": 89,
   "id": "b7cbb821-197a-497a-ac7f-a2d352f0fb5c",
   "metadata": {},
   "outputs": [
    {
     "data": {
      "text/plain": [
       "array([[0, 1],\n",
       "       [0, 1]])"
      ]
     },
     "execution_count": 89,
     "metadata": {},
     "output_type": "execute_result"
    }
   ],
   "source": [
    "hv.Curve([(0, 1), (0, 1)], datatype=['array', 'dictionary', 'dataframe']).data"
   ]
  },
  {
   "cell_type": "code",
   "execution_count": 96,
   "id": "b14208ea-df80-4212-b7db-0f1c174a1ef5",
   "metadata": {},
   "outputs": [
    {
     "data": {
      "text/plain": [
       "[Dimension('y')]"
      ]
     },
     "execution_count": 96,
     "metadata": {},
     "output_type": "execute_result"
    }
   ],
   "source": [
    "hv.Curve.param.vdims.default"
   ]
  },
  {
   "cell_type": "code",
   "execution_count": 99,
   "id": "5581754a-6363-4971-bdb3-6f7483c329a1",
   "metadata": {},
   "outputs": [],
   "source": [
    "from xarray import load_dataset, tutorial"
   ]
  },
  {
   "cell_type": "code",
   "execution_count": null,
   "id": "4fb71b18-c49e-46c6-bfb8-b82b96cb7a8d",
   "metadata": {},
   "outputs": [],
   "source": [
    "tutorial.air"
   ]
  },
  {
   "cell_type": "code",
   "execution_count": 82,
   "id": "6b2ebe64-4c13-491a-813f-bf3509d4f061",
   "metadata": {},
   "outputs": [
    {
     "data": {
      "text/plain": [
       "['dataframe',\n",
       " 'dictionary',\n",
       " 'grid',\n",
       " 'xarray',\n",
       " 'multitabular',\n",
       " 'spatialpandas',\n",
       " 'dask_spatialpandas',\n",
       " 'dask',\n",
       " 'cuDF',\n",
       " 'array',\n",
       " 'ibis']"
      ]
     },
     "execution_count": 82,
     "metadata": {},
     "output_type": "execute_result"
    }
   ],
   "source": [
    "hv_obj.datatype"
   ]
  },
  {
   "cell_type": "markdown",
   "id": "79329966-9020-470a-ab74-5a67fd7e0d53",
   "metadata": {},
   "source": [
    "Resolution checks if the `data` matches one of the datatypes first and then goes through the datatypes in order to see if they can coerce the data into that format."
   ]
  },
  {
   "cell_type": "markdown",
   "id": "490ab87a-1f65-4b41-9733-f8aa7a2552b0",
   "metadata": {},
   "source": [
    "#### Options\n",
    "\n",
    "One of the core design principles of HoloViews was that the semantic information about the data such as what it is and what the units are would be separate from \"plotting\" or \"display\" concerns. This is where the options system comes in. Options therefore are not stored on the components themselves but rather on the `Store`:"
   ]
  },
  {
   "cell_type": "code",
   "execution_count": null,
   "id": "af6d2916-db03-457d-b613-80d3e6095ef3",
   "metadata": {},
   "outputs": [],
   "source": [
    "hv.Curve([]).opts(width=300, color='red')"
   ]
  },
  {
   "cell_type": "code",
   "execution_count": 106,
   "id": "1ceec189-35e3-4326-8990-0d98e3350e5f",
   "metadata": {},
   "outputs": [
    {
     "data": {
      "text/plain": [
       "OptionTree(groups=dict_keys(['style', 'plot', 'norm', 'output']),\n",
       "   style={\n",
       "            Area         : dict(alpha=1, color=<Cycle Cycle00229>, line_color=black, muted_alpha=0.2),\n",
       "            Arrow        : dict(arrow_size=10),\n",
       "            Bars         : dict(bar_width=0.8, color=<Cycle Cycle00228>, line_color=black, muted_alpha=0.2),\n",
       "            Bounds       : dict(color=black),\n",
       "            Box          : dict(color=black),\n",
       "            BoxWhisker   : dict(box_fill_color=<Cycle Cycle00223>, box_line_color=black, outlier_color=black, whisker_color=black),\n",
       "            Chord        : dict(edge_hover_line_color=limegreen, edge_line_color=black, edge_line_width=1, edge_nonselection_alpha=0.1, edge_nonselection_line_color=black, edge_selection_line_color=limegreen, label_text_font_size=8pt, node_color=<Cycle Cycle00245>, node_hover_fill_color=limegreen, node_hover_line_color=black, node_line_color=black, node_nonselection_alpha=0.2, node_nonselection_fill_color=<Cycle Cycle00246>, node_nonselection_line_color=black, node_selection_fill_color=limegreen, node_selection_line_color=black, node_size=15),\n",
       "            Contours     : dict(cmap=kbc_r, color=<Cycle Cycle00230>),\n",
       "            Curve        : dict(color=<Cycle Cycle00222>, line_width=2, muted_alpha=0.2),\n",
       "            Distribution : dict(color=<Cycle Cycle00249>, fill_alpha=0.5, line_color=black, muted_alpha=0.2),\n",
       "            EdgePaths    : dict(color=black, hover_line_color=indianred, line_width=2, nonselection_alpha=0.2, selection_color=limegreen),\n",
       "            Ellipse      : dict(color=black),\n",
       "            ErrorBars    : dict(color=black),\n",
       "            Graph        : dict(edge_color=black, edge_hover_line_color=limegreen, edge_line_width=2, edge_nonselection_alpha=0.2, edge_nonselection_line_color=black, node_color=<Cycle Cycle00243>, node_hover_fill_color=limegreen, node_hover_line_color=black, node_line_color=black, node_nonselection_alpha=0.2, node_nonselection_fill_color=<Cycle Cycle00244>, node_nonselection_line_color=black, node_size=15),\n",
       "            HLine        : dict(alpha=1, color=<Cycle Cycle00233>, line_width=3),\n",
       "            HLines       : dict(alpha=1, color=<Cycle Cycle00238>, line_width=3, muted_alpha=0.2),\n",
       "            HSpan        : dict(alpha=0.5, color=<Cycle Cycle00237>),\n",
       "            HSpans       : dict(alpha=0.5, color=<Cycle Cycle00241>, muted_alpha=0.2),\n",
       "            HeatMap      : dict(annular_line_alpha=0, cmap=kbc_r, xmarks_line_color=#FFFFFF, xmarks_line_width=3, ymarks_line_color=#FFFFFF, ymarks_line_width=3),\n",
       "            HexTiles     : dict(muted_alpha=0.2),\n",
       "            Histogram    : dict(color=<Cycle Cycle00226>, line_color=black, muted_alpha=0.2),\n",
       "            Image        : dict(cmap=kbc_r),\n",
       "            Labels       : dict(text_align=center, text_baseline=middle, text_color=<Cycle Cycle00242>),\n",
       "            NdOverlay    : dict(click_policy=mute),\n",
       "            Nodes        : dict(color=<Cycle Cycle00247>, hover_fill_color=indianred, line_color=black, nonselection_fill_color=<Cycle Cycle00248>, selection_fill_color=limegreen, size=20),\n",
       "            Overlay      : dict(click_policy=mute),\n",
       "            Path         : dict(cmap=kbc_r, color=<Cycle Cycle00231>, muted_alpha=0.2),\n",
       "            Points       : dict(cmap=kbc_r, color=<Cycle Cycle00225>, muted_alpha=0.2, size=2.449489742783178),\n",
       "            Polygons     : dict(cmap=kbc_r, color=<Cycle Cycle00232>, line_color=black, muted_alpha=0.2),\n",
       "            QuadMesh     : dict(cmap=kbc_r, line_alpha=0),\n",
       "            Raster       : dict(cmap=kbc_r),\n",
       "            Rectangles   : dict(cmap=kbc_r, line_color=black),\n",
       "            Sankey       : dict(cmap=Category20, edge_fill_alpha=0.6, edge_hover_alpha=0.9, edge_nonselection_alpha=0.2, label_text_font_size=8pt, node_hover_alpha=1, node_line_color=black, node_nonselection_alpha=0.2, node_selection_line_color=black, node_size=10),\n",
       "            Scatter      : dict(cmap=kbc_r, color=<Cycle Cycle00224>, muted_alpha=0.2, size=2.449489742783178),\n",
       "            Segments     : dict(cmap=kbc_r),\n",
       "            Slope        : dict(alpha=1, color=<Cycle Cycle00235>, line_width=3),\n",
       "            Spikes       : dict(cmap=kbc_r, color=black, muted_alpha=0.2),\n",
       "            Spread       : dict(alpha=0.6, color=<Cycle Cycle00227>, line_color=black, muted_alpha=0.2),\n",
       "            TriMesh      : dict(cmap=kbc_r, edge_hover_line_color=limegreen, edge_line_color=black, edge_line_width=1, edge_nonselection_alpha=0.2, edge_nonselection_line_color=black, node_color=white, node_hover_fill_color=limegreen, node_line_color=black, node_nonselection_alpha=0.2, node_size=5),\n",
       "            VLine        : dict(alpha=1, color=<Cycle Cycle00234>, line_width=3),\n",
       "            VLines       : dict(alpha=1, color=<Cycle Cycle00239>, line_width=3, muted_alpha=0.2),\n",
       "            VSpan        : dict(alpha=0.5, color=<Cycle Cycle00236>),\n",
       "            VSpans       : dict(alpha=0.5, color=<Cycle Cycle00240>, muted_alpha=0.2),\n",
       "            VectorField  : dict(color=black, muted_alpha=0.2),\n",
       "            Violin       : dict(box_color=black, cmap=Category10, median_color=white, stats_color=black, violin_fill_alpha=0.5, violin_fill_color=<Cycle Cycle00250>, violin_line_color=black)},\n",
       "\n",
       "   plot={\n",
       "            Chord      : dict(xaxis=None, yaxis=None),\n",
       "            Contours   : dict(show_legend=True),\n",
       "            EdgePaths  : dict(tools=['hover', 'tap']),\n",
       "            GridMatrix : dict(shared_xaxis=True, shared_yaxis=True, xaxis=None, yaxis=None),\n",
       "            Nodes      : dict(tools=['hover', 'tap']),\n",
       "            Points     : dict(show_frame=True),\n",
       "            Sankey     : dict(height=600, inspection_policy=edges, selection_policy=nodes, show_frame=False, width=1000, xaxis=None, yaxis=None),\n",
       "            TriMesh    : dict(tools=[])}\n",
       ")"
      ]
     },
     "execution_count": 106,
     "metadata": {},
     "output_type": "execute_result"
    }
   ],
   "source": [
    "import holoviews as hv\n",
    "\n",
    "hv.Store.options(backend='bokeh')"
   ]
  },
  {
   "cell_type": "code",
   "execution_count": 112,
   "id": "14d989ba-e67d-4b8e-990a-c1225f440505",
   "metadata": {},
   "outputs": [
    {
     "data": {},
     "metadata": {},
     "output_type": "display_data"
    },
    {
     "data": {
      "application/vnd.holoviews_exec.v0+json": "",
      "text/html": [
       "<div id='ab20d240-e59f-48c7-bf99-d603cc928a0e'>\n",
       "  <div id=\"baa93e8e-b39d-4f8e-900b-1a7d97773004\" data-root-id=\"ab20d240-e59f-48c7-bf99-d603cc928a0e\" style=\"display: contents;\"></div>\n",
       "</div>\n",
       "<script type=\"application/javascript\">(function(root) {\n",
       "  var docs_json = {\"3e9f8fce-9602-4da6-85c8-86dd556ae779\":{\"version\":\"3.6.0\",\"title\":\"Bokeh Application\",\"roots\":[{\"type\":\"object\",\"name\":\"Row\",\"id\":\"ab20d240-e59f-48c7-bf99-d603cc928a0e\",\"attributes\":{\"name\":\"Row01282\",\"tags\":[\"embedded\"],\"stylesheets\":[\"\\n:host(.pn-loading):before, .pn-loading:before {\\n  background-color: #c3c3c3;\\n  mask-size: auto calc(min(50%, 400px));\\n  -webkit-mask-size: auto calc(min(50%, 400px));\\n}\",{\"type\":\"object\",\"name\":\"ImportedStyleSheet\",\"id\":\"8aecf15d-9210-4ebe-87ec-d91bac7f4441\",\"attributes\":{\"url\":\"https://cdn.holoviz.org/panel/1.5.2/dist/css/loading.css\"}},{\"type\":\"object\",\"name\":\"ImportedStyleSheet\",\"id\":\"f97b4d9a-1537-47d7-a889-9dc2f64cfb08\",\"attributes\":{\"url\":\"https://cdn.holoviz.org/panel/1.5.2/dist/css/listpanel.css\"}},{\"type\":\"object\",\"name\":\"ImportedStyleSheet\",\"id\":\"d9761b9f-ee47-491f-a25f-519b46f90275\",\"attributes\":{\"url\":\"https://cdn.holoviz.org/panel/1.5.2/dist/bundled/theme/default.css\"}},{\"type\":\"object\",\"name\":\"ImportedStyleSheet\",\"id\":\"5c9edbcf-9819-4cea-89a2-03d497544447\",\"attributes\":{\"url\":\"https://cdn.holoviz.org/panel/1.5.2/dist/bundled/theme/native.css\"}}],\"min_width\":300,\"margin\":0,\"sizing_mode\":\"stretch_width\",\"align\":\"start\",\"children\":[{\"type\":\"object\",\"name\":\"Spacer\",\"id\":\"3d752ab6-a303-4bf2-834e-3d8b1474a262\",\"attributes\":{\"name\":\"HSpacer01286\",\"stylesheets\":[\"\\n:host(.pn-loading):before, .pn-loading:before {\\n  background-color: #c3c3c3;\\n  mask-size: auto calc(min(50%, 400px));\\n  -webkit-mask-size: auto calc(min(50%, 400px));\\n}\",{\"id\":\"8aecf15d-9210-4ebe-87ec-d91bac7f4441\"},{\"id\":\"d9761b9f-ee47-491f-a25f-519b46f90275\"},{\"id\":\"5c9edbcf-9819-4cea-89a2-03d497544447\"}],\"margin\":0,\"sizing_mode\":\"stretch_width\",\"align\":\"start\"}},{\"type\":\"object\",\"name\":\"Figure\",\"id\":\"1ca19a0f-4023-43f1-a6df-b1f3acbcf862\",\"attributes\":{\"width\":300,\"height\":300,\"margin\":[5,10],\"sizing_mode\":\"fixed\",\"align\":\"start\",\"x_range\":{\"type\":\"object\",\"name\":\"Range1d\",\"id\":\"3f383dd7-3e3f-4913-804c-25ab481422c1\",\"attributes\":{\"name\":\"x\",\"tags\":[[[\"x\",null]],[]],\"end\":2.0,\"reset_start\":0.0,\"reset_end\":2.0}},\"y_range\":{\"type\":\"object\",\"name\":\"Range1d\",\"id\":\"621193f3-0822-46b4-bc45-a145a7f09080\",\"attributes\":{\"name\":\"y\",\"tags\":[[[\"y\",null]],{\"type\":\"map\",\"entries\":[[\"invert_yaxis\",false],[\"autorange\",false]]}],\"start\":0.8,\"end\":3.2,\"reset_start\":0.8,\"reset_end\":3.2}},\"x_scale\":{\"type\":\"object\",\"name\":\"LinearScale\",\"id\":\"60caa613-a6fb-436b-bfb8-605bbb89d694\"},\"y_scale\":{\"type\":\"object\",\"name\":\"LinearScale\",\"id\":\"bdc6f8bf-39e2-49ae-9a2e-5532fc6f5c11\"},\"title\":{\"type\":\"object\",\"name\":\"Title\",\"id\":\"702abd0c-1f22-4a43-ae6d-8b259b6716af\",\"attributes\":{\"text\":\"stocks\",\"text_color\":\"black\",\"text_font_size\":\"12pt\"}},\"renderers\":[{\"type\":\"object\",\"name\":\"GlyphRenderer\",\"id\":\"969726f2-1f49-4c09-b7c4-30160728f5ae\",\"attributes\":{\"data_source\":{\"type\":\"object\",\"name\":\"ColumnDataSource\",\"id\":\"9831f6a2-daf4-4624-b52b-8a6fb1ba9c6a\",\"attributes\":{\"selected\":{\"type\":\"object\",\"name\":\"Selection\",\"id\":\"b029add8-d992-48f2-906a-0e17d2a0cb25\",\"attributes\":{\"indices\":[],\"line_indices\":[]}},\"selection_policy\":{\"type\":\"object\",\"name\":\"UnionRenderers\",\"id\":\"ffc049c9-ed4e-474e-8307-a6aff4127fc5\"},\"data\":{\"type\":\"map\",\"entries\":[[\"x\",{\"type\":\"ndarray\",\"array\":{\"type\":\"bytes\",\"data\":\"AAAAAAEAAAACAAAA\"},\"shape\":[3],\"dtype\":\"int32\",\"order\":\"little\"}],[\"y\",{\"type\":\"ndarray\",\"array\":{\"type\":\"bytes\",\"data\":\"AQAAAAIAAAADAAAA\"},\"shape\":[3],\"dtype\":\"int32\",\"order\":\"little\"}]]}}},\"view\":{\"type\":\"object\",\"name\":\"CDSView\",\"id\":\"8965f00c-be9d-42e1-a89e-97b3a7a77e7a\",\"attributes\":{\"filter\":{\"type\":\"object\",\"name\":\"AllIndices\",\"id\":\"af9dcf6a-b67e-4e5e-b265-37a3e8e7de7f\"}}},\"glyph\":{\"type\":\"object\",\"name\":\"Line\",\"id\":\"f828718c-dc5e-4e64-8d28-6e9d250e339f\",\"attributes\":{\"tags\":[\"apply_ranges\"],\"x\":{\"type\":\"field\",\"field\":\"x\"},\"y\":{\"type\":\"field\",\"field\":\"y\"},\"line_color\":\"#30a2da\",\"line_width\":2}},\"selection_glyph\":{\"type\":\"object\",\"name\":\"Line\",\"id\":\"add2c439-82ae-4db6-ab5a-b1197c9dfc4e\",\"attributes\":{\"tags\":[\"apply_ranges\"],\"x\":{\"type\":\"field\",\"field\":\"x\"},\"y\":{\"type\":\"field\",\"field\":\"y\"},\"line_color\":\"#30a2da\",\"line_width\":2}},\"nonselection_glyph\":{\"type\":\"object\",\"name\":\"Line\",\"id\":\"914bd503-eba8-40be-9bb7-b143942901c0\",\"attributes\":{\"tags\":[\"apply_ranges\"],\"x\":{\"type\":\"field\",\"field\":\"x\"},\"y\":{\"type\":\"field\",\"field\":\"y\"},\"line_color\":\"#30a2da\",\"line_alpha\":0.1,\"line_width\":2}},\"muted_glyph\":{\"type\":\"object\",\"name\":\"Line\",\"id\":\"f2a7919d-5fe0-438e-83a9-0f71d472c3a1\",\"attributes\":{\"tags\":[\"apply_ranges\"],\"x\":{\"type\":\"field\",\"field\":\"x\"},\"y\":{\"type\":\"field\",\"field\":\"y\"},\"line_color\":\"#30a2da\",\"line_alpha\":0.2,\"line_width\":2}}}}],\"toolbar\":{\"type\":\"object\",\"name\":\"Toolbar\",\"id\":\"08efd0f8-49e3-4bfd-a471-c92f25d8a27c\",\"attributes\":{\"tools\":[{\"type\":\"object\",\"name\":\"WheelZoomTool\",\"id\":\"1994e8da-89fd-45b3-8a5a-aa7d2047e1bc\",\"attributes\":{\"tags\":[\"hv_created\"],\"renderers\":\"auto\",\"zoom_together\":\"none\"}},{\"type\":\"object\",\"name\":\"SaveTool\",\"id\":\"c7340208-3427-4fd6-be48-0a6ac8f25778\"},{\"type\":\"object\",\"name\":\"PanTool\",\"id\":\"c936d6bb-ac40-4e0a-8859-7ad1d0e8d328\"},{\"type\":\"object\",\"name\":\"BoxZoomTool\",\"id\":\"3008675d-6be5-492d-98d0-2f50fd68b912\",\"attributes\":{\"overlay\":{\"type\":\"object\",\"name\":\"BoxAnnotation\",\"id\":\"2eebad9f-5eb2-424c-8952-f5f655f609e8\",\"attributes\":{\"syncable\":false,\"line_color\":\"black\",\"line_alpha\":1.0,\"line_width\":2,\"line_dash\":[4,4],\"fill_color\":\"lightgrey\",\"fill_alpha\":0.5,\"level\":\"overlay\",\"visible\":false,\"left\":{\"type\":\"number\",\"value\":\"nan\"},\"right\":{\"type\":\"number\",\"value\":\"nan\"},\"top\":{\"type\":\"number\",\"value\":\"nan\"},\"bottom\":{\"type\":\"number\",\"value\":\"nan\"},\"left_units\":\"canvas\",\"right_units\":\"canvas\",\"top_units\":\"canvas\",\"bottom_units\":\"canvas\",\"handles\":{\"type\":\"object\",\"name\":\"BoxInteractionHandles\",\"id\":\"50ac1638-4f69-47fb-a5c3-d4019622a3fe\",\"attributes\":{\"all\":{\"type\":\"object\",\"name\":\"AreaVisuals\",\"id\":\"dafb8db0-eb13-4afc-ab87-3ca9d9586335\",\"attributes\":{\"fill_color\":\"white\",\"hover_fill_color\":\"lightgray\"}}}}}}}},{\"type\":\"object\",\"name\":\"ResetTool\",\"id\":\"3d83cb2f-b383-4bf6-b474-ec7dddc44f10\"}],\"active_drag\":{\"id\":\"c936d6bb-ac40-4e0a-8859-7ad1d0e8d328\"},\"active_scroll\":{\"id\":\"1994e8da-89fd-45b3-8a5a-aa7d2047e1bc\"}}},\"left\":[{\"type\":\"object\",\"name\":\"LinearAxis\",\"id\":\"05e78853-4e61-4ce5-b2fe-d588e33cb69d\",\"attributes\":{\"ticker\":{\"type\":\"object\",\"name\":\"BasicTicker\",\"id\":\"14246799-9870-491e-9e0e-2faa5fb9b79d\",\"attributes\":{\"mantissas\":[1,2,5]}},\"formatter\":{\"type\":\"object\",\"name\":\"BasicTickFormatter\",\"id\":\"8153a4e7-6ff4-4d14-bb09-bed426141046\"},\"axis_label\":\"y\",\"major_label_policy\":{\"type\":\"object\",\"name\":\"AllLabels\",\"id\":\"dadd02fc-c38d-4b9e-9996-4515a0ae6a67\"}}}],\"below\":[{\"type\":\"object\",\"name\":\"LinearAxis\",\"id\":\"bbaab7c9-16c6-4fb0-8540-3e89bfc9afa7\",\"attributes\":{\"ticker\":{\"type\":\"object\",\"name\":\"BasicTicker\",\"id\":\"af48c146-0b55-407f-9eb7-69fe52bc5c78\",\"attributes\":{\"mantissas\":[1,2,5]}},\"formatter\":{\"type\":\"object\",\"name\":\"BasicTickFormatter\",\"id\":\"b64e15a8-867f-45bb-aa75-489ad1aa89e9\"},\"axis_label\":\"x\",\"major_label_policy\":{\"type\":\"object\",\"name\":\"AllLabels\",\"id\":\"995758d1-8b80-400d-a892-8c10b682093a\"}}}],\"center\":[{\"type\":\"object\",\"name\":\"Grid\",\"id\":\"bd578fa1-e35e-42ec-ba8d-47c94456def7\",\"attributes\":{\"axis\":{\"id\":\"bbaab7c9-16c6-4fb0-8540-3e89bfc9afa7\"},\"grid_line_color\":null}},{\"type\":\"object\",\"name\":\"Grid\",\"id\":\"c9f2a42f-1507-4a28-96a4-219857656afb\",\"attributes\":{\"dimension\":1,\"axis\":{\"id\":\"05e78853-4e61-4ce5-b2fe-d588e33cb69d\"},\"grid_line_color\":null}}],\"min_border_top\":10,\"min_border_bottom\":10,\"min_border_left\":10,\"min_border_right\":10,\"output_backend\":\"webgl\"}},{\"type\":\"object\",\"name\":\"Spacer\",\"id\":\"af4e628a-f26e-4df5-a9d4-1a11aae80e6f\",\"attributes\":{\"name\":\"HSpacer01287\",\"stylesheets\":[\"\\n:host(.pn-loading):before, .pn-loading:before {\\n  background-color: #c3c3c3;\\n  mask-size: auto calc(min(50%, 400px));\\n  -webkit-mask-size: auto calc(min(50%, 400px));\\n}\",{\"id\":\"8aecf15d-9210-4ebe-87ec-d91bac7f4441\"},{\"id\":\"d9761b9f-ee47-491f-a25f-519b46f90275\"},{\"id\":\"5c9edbcf-9819-4cea-89a2-03d497544447\"}],\"margin\":0,\"sizing_mode\":\"stretch_width\",\"align\":\"start\"}}]}}],\"defs\":[{\"type\":\"model\",\"name\":\"ReactiveHTML1\"},{\"type\":\"model\",\"name\":\"FlexBox1\",\"properties\":[{\"name\":\"align_content\",\"kind\":\"Any\",\"default\":\"flex-start\"},{\"name\":\"align_items\",\"kind\":\"Any\",\"default\":\"flex-start\"},{\"name\":\"flex_direction\",\"kind\":\"Any\",\"default\":\"row\"},{\"name\":\"flex_wrap\",\"kind\":\"Any\",\"default\":\"wrap\"},{\"name\":\"gap\",\"kind\":\"Any\",\"default\":\"\"},{\"name\":\"justify_content\",\"kind\":\"Any\",\"default\":\"flex-start\"}]},{\"type\":\"model\",\"name\":\"FloatPanel1\",\"properties\":[{\"name\":\"config\",\"kind\":\"Any\",\"default\":{\"type\":\"map\"}},{\"name\":\"contained\",\"kind\":\"Any\",\"default\":true},{\"name\":\"position\",\"kind\":\"Any\",\"default\":\"right-top\"},{\"name\":\"offsetx\",\"kind\":\"Any\",\"default\":null},{\"name\":\"offsety\",\"kind\":\"Any\",\"default\":null},{\"name\":\"theme\",\"kind\":\"Any\",\"default\":\"primary\"},{\"name\":\"status\",\"kind\":\"Any\",\"default\":\"normalized\"}]},{\"type\":\"model\",\"name\":\"GridStack1\",\"properties\":[{\"name\":\"mode\",\"kind\":\"Any\",\"default\":\"warn\"},{\"name\":\"ncols\",\"kind\":\"Any\",\"default\":null},{\"name\":\"nrows\",\"kind\":\"Any\",\"default\":null},{\"name\":\"allow_resize\",\"kind\":\"Any\",\"default\":true},{\"name\":\"allow_drag\",\"kind\":\"Any\",\"default\":true},{\"name\":\"state\",\"kind\":\"Any\",\"default\":[]}]},{\"type\":\"model\",\"name\":\"drag1\",\"properties\":[{\"name\":\"slider_width\",\"kind\":\"Any\",\"default\":5},{\"name\":\"slider_color\",\"kind\":\"Any\",\"default\":\"black\"},{\"name\":\"value\",\"kind\":\"Any\",\"default\":50}]},{\"type\":\"model\",\"name\":\"click1\",\"properties\":[{\"name\":\"terminal_output\",\"kind\":\"Any\",\"default\":\"\"},{\"name\":\"debug_name\",\"kind\":\"Any\",\"default\":\"\"},{\"name\":\"clears\",\"kind\":\"Any\",\"default\":0}]},{\"type\":\"model\",\"name\":\"FastWrapper1\",\"properties\":[{\"name\":\"object\",\"kind\":\"Any\",\"default\":null},{\"name\":\"style\",\"kind\":\"Any\",\"default\":null}]},{\"type\":\"model\",\"name\":\"NotificationAreaBase1\",\"properties\":[{\"name\":\"js_events\",\"kind\":\"Any\",\"default\":{\"type\":\"map\"}},{\"name\":\"position\",\"kind\":\"Any\",\"default\":\"bottom-right\"},{\"name\":\"_clear\",\"kind\":\"Any\",\"default\":0}]},{\"type\":\"model\",\"name\":\"NotificationArea1\",\"properties\":[{\"name\":\"js_events\",\"kind\":\"Any\",\"default\":{\"type\":\"map\"}},{\"name\":\"notifications\",\"kind\":\"Any\",\"default\":[]},{\"name\":\"position\",\"kind\":\"Any\",\"default\":\"bottom-right\"},{\"name\":\"_clear\",\"kind\":\"Any\",\"default\":0},{\"name\":\"types\",\"kind\":\"Any\",\"default\":[{\"type\":\"map\",\"entries\":[[\"type\",\"warning\"],[\"background\",\"#ffc107\"],[\"icon\",{\"type\":\"map\",\"entries\":[[\"className\",\"fas fa-exclamation-triangle\"],[\"tagName\",\"i\"],[\"color\",\"white\"]]}]]},{\"type\":\"map\",\"entries\":[[\"type\",\"info\"],[\"background\",\"#007bff\"],[\"icon\",{\"type\":\"map\",\"entries\":[[\"className\",\"fas fa-info-circle\"],[\"tagName\",\"i\"],[\"color\",\"white\"]]}]]}]}]},{\"type\":\"model\",\"name\":\"Notification\",\"properties\":[{\"name\":\"background\",\"kind\":\"Any\",\"default\":null},{\"name\":\"duration\",\"kind\":\"Any\",\"default\":3000},{\"name\":\"icon\",\"kind\":\"Any\",\"default\":null},{\"name\":\"message\",\"kind\":\"Any\",\"default\":\"\"},{\"name\":\"notification_type\",\"kind\":\"Any\",\"default\":null},{\"name\":\"_destroyed\",\"kind\":\"Any\",\"default\":false}]},{\"type\":\"model\",\"name\":\"TemplateActions1\",\"properties\":[{\"name\":\"open_modal\",\"kind\":\"Any\",\"default\":0},{\"name\":\"close_modal\",\"kind\":\"Any\",\"default\":0}]},{\"type\":\"model\",\"name\":\"BootstrapTemplateActions1\",\"properties\":[{\"name\":\"open_modal\",\"kind\":\"Any\",\"default\":0},{\"name\":\"close_modal\",\"kind\":\"Any\",\"default\":0}]},{\"type\":\"model\",\"name\":\"TemplateEditor1\",\"properties\":[{\"name\":\"layout\",\"kind\":\"Any\",\"default\":[]}]},{\"type\":\"model\",\"name\":\"MaterialTemplateActions1\",\"properties\":[{\"name\":\"open_modal\",\"kind\":\"Any\",\"default\":0},{\"name\":\"close_modal\",\"kind\":\"Any\",\"default\":0}]},{\"type\":\"model\",\"name\":\"ReactiveESM1\"},{\"type\":\"model\",\"name\":\"JSComponent1\"},{\"type\":\"model\",\"name\":\"ReactComponent1\"},{\"type\":\"model\",\"name\":\"AnyWidgetComponent1\"},{\"type\":\"model\",\"name\":\"request_value1\",\"properties\":[{\"name\":\"fill\",\"kind\":\"Any\",\"default\":\"none\"},{\"name\":\"_synced\",\"kind\":\"Any\",\"default\":null},{\"name\":\"_request_sync\",\"kind\":\"Any\",\"default\":0}]}]}};\n",
       "  var render_items = [{\"docid\":\"3e9f8fce-9602-4da6-85c8-86dd556ae779\",\"roots\":{\"ab20d240-e59f-48c7-bf99-d603cc928a0e\":\"baa93e8e-b39d-4f8e-900b-1a7d97773004\"},\"root_ids\":[\"ab20d240-e59f-48c7-bf99-d603cc928a0e\"]}];\n",
       "  var docs = Object.values(docs_json)\n",
       "  if (!docs) {\n",
       "    return\n",
       "  }\n",
       "  const py_version = docs[0].version.replace('rc', '-rc.').replace('.dev', '-dev.')\n",
       "  async function embed_document(root) {\n",
       "    var Bokeh = get_bokeh(root)\n",
       "    await Bokeh.embed.embed_items_notebook(docs_json, render_items);\n",
       "    for (const render_item of render_items) {\n",
       "      for (const root_id of render_item.root_ids) {\n",
       "\tconst id_el = document.getElementById(root_id)\n",
       "\tif (id_el.children.length && id_el.children[0].hasAttribute('data-root-id')) {\n",
       "\t  const root_el = id_el.children[0]\n",
       "\t  root_el.id = root_el.id + '-rendered'\n",
       "\t  for (const child of root_el.children) {\n",
       "            // Ensure JupyterLab does not capture keyboard shortcuts\n",
       "            // see: https://jupyterlab.readthedocs.io/en/4.1.x/extension/notebook.html#keyboard-interaction-model\n",
       "\t    child.setAttribute('data-lm-suppress-shortcuts', 'true')\n",
       "\t  }\n",
       "\t}\n",
       "      }\n",
       "    }\n",
       "  }\n",
       "  function get_bokeh(root) {\n",
       "    if (root.Bokeh === undefined) {\n",
       "      return null\n",
       "    } else if (root.Bokeh.version !== py_version) {\n",
       "      if (root.Bokeh.versions === undefined || !root.Bokeh.versions.has(py_version)) {\n",
       "\treturn null\n",
       "      }\n",
       "      return root.Bokeh.versions.get(py_version);\n",
       "    } else if (root.Bokeh.version === py_version) {\n",
       "      return root.Bokeh\n",
       "    }\n",
       "    return null\n",
       "  }\n",
       "  function is_loaded(root) {\n",
       "    var Bokeh = get_bokeh(root)\n",
       "    return (Bokeh != null && Bokeh.Panel !== undefined)\n",
       "  }\n",
       "  if (is_loaded(root)) {\n",
       "    embed_document(root);\n",
       "  } else {\n",
       "    var attempts = 0;\n",
       "    var timer = setInterval(function(root) {\n",
       "      if (is_loaded(root)) {\n",
       "        clearInterval(timer);\n",
       "        embed_document(root);\n",
       "      } else if (document.readyState == \"complete\") {\n",
       "        attempts++;\n",
       "        if (attempts > 200) {\n",
       "          clearInterval(timer);\n",
       "\t  var Bokeh = get_bokeh(root)\n",
       "\t  if (Bokeh == null || Bokeh.Panel == null) {\n",
       "            console.warn(\"Panel: ERROR: Unable to run Panel code because Bokeh or Panel library is missing\");\n",
       "\t  } else {\n",
       "\t    console.warn(\"Panel: WARNING: Attempting to render but not all required libraries could be resolved.\")\n",
       "\t    embed_document(root)\n",
       "\t  }\n",
       "        }\n",
       "      }\n",
       "    }, 25, root)\n",
       "  }\n",
       "})(window);</script>"
      ],
      "text/plain": [
       ":Curve   [x]   (y)"
      ]
     },
     "execution_count": 112,
     "metadata": {
      "application/vnd.holoviews_exec.v0+json": {
       "id": "ab20d240-e59f-48c7-bf99-d603cc928a0e"
      }
     },
     "output_type": "execute_result"
    }
   ],
   "source": [
    "hv.Curve([1, 2, 3], group='stocks')"
   ]
  },
  {
   "cell_type": "markdown",
   "id": "75d5cdb2-b9ae-4b7b-985a-ef57d25aeba7",
   "metadata": {},
   "source": [
    "The base tree holds the various defaults while applying `.opts()` will create a custom tree. Think of this something like CSS, where the DOM nodes are the elements and the CSS stylesheets are the option trees.\n",
    "\n",
    "Calling `.opts` will create a new `OptionTree` on the Store, which is resolved together with the default options when the plot is rendered:"
   ]
  },
  {
   "cell_type": "code",
   "execution_count": 113,
   "id": "5a16dcee-e5e9-457a-89f5-74f3c01ee233",
   "metadata": {},
   "outputs": [
    {
     "data": {
      "text/plain": [
       "{2: OptionTree(groups=dict_keys(['style', 'plot', 'norm', 'output']),\n",
       "    style={Curve : dict(line_width=2, muted_alpha=0.2)},\n",
       " \n",
       "    plot={\n",
       "             Curve     : dict(height=300, labelled=[], logx=False, logy=False, responsive=False, shared_axes=True, show_grid=False, show_legend=True, title=A Curve, tools=['hover'], width=700),\n",
       "             NdOverlay : dict(batched=False, height=300, legend_position=right, logx=False, logy=False, responsive=False, shared_axes=True, show_grid=False, show_legend=True, title=A Curve, tools=['hover'], width=700)},\n",
       " \n",
       "    norm={Curve : dict(axiswise=False, framewise=True)}\n",
       " ),\n",
       " 8: OptionTree(groups=dict_keys(['style', 'plot', 'norm', 'output']),\n",
       "    style={Curve : dict(line_width=2, muted_alpha=0.2)},\n",
       " \n",
       "    plot={\n",
       "             Curve     : dict(height=300, labelled=[], logx=False, logy=False, responsive=False, shared_axes=True, show_grid=False, show_legend=True, title=A Curve, tools=['hover'], width=700),\n",
       "             NdOverlay : dict(batched=False, height=300, legend_position=right, logx=False, logy=False, responsive=False, shared_axes=True, show_grid=False, show_legend=True, title=A Curve, tools=['hover'], width=700)},\n",
       " \n",
       "    norm={Curve : dict(axiswise=False, framewise=True)}\n",
       " ),\n",
       " 20: OptionTree(groups=dict_keys(['style', 'plot', 'norm', 'output']),\n",
       "    style={Curve : dict(line_width=2, muted_alpha=0.2)},\n",
       " \n",
       "    plot={\n",
       "             Curve     : dict(height=300, labelled=[], logx=False, logy=False, responsive=False, shared_axes=True, show_grid=False, show_legend=True, title=A Curve, tools=['hover'], width=700),\n",
       "             NdOverlay : dict(batched=False, height=300, legend_position=right, logx=False, logy=False, responsive=False, shared_axes=True, show_grid=False, show_legend=True, title=A Curve, tools=['hover'], width=700)},\n",
       " \n",
       "    norm={Curve : dict(axiswise=False, framewise=True)}\n",
       " ),\n",
       " 44: OptionTree(groups=dict_keys(['style', 'plot', 'norm', 'output']),\n",
       "    style={Curve : dict(line_width=2, muted_alpha=0.2)},\n",
       " \n",
       "    plot={\n",
       "             Curve     : dict(height=300, labelled=[], logx=False, logy=False, responsive=False, shared_axes=True, show_grid=False, show_legend=True, title=A Curve, tools=['hover'], width=700),\n",
       "             NdOverlay : dict(batched=False, height=300, legend_position=right, logx=False, logy=False, responsive=False, shared_axes=True, show_grid=False, show_legend=True, title=A Curve, tools=['hover'], width=700)},\n",
       " \n",
       "    norm={Curve : dict(axiswise=False, framewise=True)}\n",
       " ),\n",
       " 92: OptionTree(groups=dict_keys(['style', 'plot', 'norm', 'output']),\n",
       "    style={Curve : dict(line_width=2, muted_alpha=0.2)},\n",
       " \n",
       "    plot={\n",
       "             Curve     : dict(height=300, labelled=[], logx=False, logy=False, responsive=False, shared_axes=True, show_grid=False, show_legend=True, title=A Curve, tools=['hover'], width=700),\n",
       "             NdOverlay : dict(batched=False, height=300, legend_position=right, logx=False, logy=False, responsive=False, shared_axes=True, show_grid=False, show_legend=True, title=A Curve, tools=['hover'], width=700)},\n",
       " \n",
       "    norm={Curve : dict(axiswise=False, framewise=True)}\n",
       " ),\n",
       " 188: OptionTree(groups=dict_keys(['style', 'plot', 'norm', 'output']),\n",
       "    style={Curve : dict(line_width=2, muted_alpha=0.2)},\n",
       " \n",
       "    plot={\n",
       "             Curve     : dict(height=300, labelled=[], logx=False, logy=False, responsive=False, shared_axes=True, show_grid=False, show_legend=True, title=A Curve, tools=['hover'], width=700),\n",
       "             NdOverlay : dict(batched=False, height=300, legend_position=right, logx=False, logy=False, responsive=False, shared_axes=True, show_grid=False, show_legend=True, title=A Curve, tools=['hover'], width=700)},\n",
       " \n",
       "    norm={Curve : dict(axiswise=False, framewise=True)}\n",
       " ),\n",
       " 380: OptionTree(groups=dict_keys(['style', 'plot', 'norm', 'output']),\n",
       "    style={Curve : dict(line_width=2, muted_alpha=0.2)},\n",
       " \n",
       "    plot={\n",
       "             Curve     : dict(height=300, labelled=[], logx=False, logy=False, responsive=False, shared_axes=True, show_grid=False, show_legend=True, title=A Curve, tools=['hover'], width=700),\n",
       "             NdOverlay : dict(batched=False, height=300, legend_position=right, logx=False, logy=False, responsive=False, shared_axes=True, show_grid=False, show_legend=True, title=A Curve, tools=['hover'], width=700)},\n",
       " \n",
       "    norm={Curve : dict(axiswise=False, framewise=True)}\n",
       " ),\n",
       " 764: OptionTree(groups=dict_keys(['style', 'plot', 'norm', 'output']),\n",
       "    style={Curve : dict(line_width=2, muted_alpha=0.2)},\n",
       " \n",
       "    plot={\n",
       "             Curve     : dict(height=300, labelled=[], logx=False, logy=False, responsive=False, shared_axes=True, show_grid=False, show_legend=True, title=A Curve, tools=['hover'], width=700),\n",
       "             NdOverlay : dict(batched=False, height=300, legend_position=right, logx=False, logy=False, responsive=False, shared_axes=True, show_grid=False, show_legend=True, title=A Curve, tools=['hover'], width=700)},\n",
       " \n",
       "    norm={Curve : dict(axiswise=False, framewise=True)}\n",
       " ),\n",
       " 1532: OptionTree(groups=dict_keys(['style', 'plot', 'norm', 'output']),\n",
       "    style={Curve : dict(line_width=2, muted_alpha=0.2)},\n",
       " \n",
       "    plot={\n",
       "             Curve     : dict(height=300, labelled=['y'], logx=False, logy=False, responsive=False, shared_axes=True, show_grid=False, show_legend=True, title=A Curve, tools=['hover'], width=700),\n",
       "             NdOverlay : dict(batched=False, height=300, legend_position=right, logx=False, logy=False, responsive=False, shared_axes=True, show_grid=False, show_legend=True, title=A Curve, tools=['hover'], width=700)},\n",
       " \n",
       "    norm={Curve : dict(axiswise=False, framewise=True)}\n",
       " ),\n",
       " 3068: OptionTree(groups=dict_keys(['style', 'plot', 'norm', 'output']),\n",
       "    style={Curve : dict(line_width=2, muted_alpha=0.2)},\n",
       " \n",
       "    plot={\n",
       "             Curve     : dict(height=300, labelled=['y'], logx=False, logy=False, responsive=False, shared_axes=True, show_grid=False, show_legend=True, title=A Curve, tools=['hover'], width=700),\n",
       "             NdOverlay : dict(batched=False, height=300, legend_position=right, logx=False, logy=False, responsive=False, shared_axes=True, show_grid=False, show_legend=True, title=A Curve, tools=['hover'], width=700)},\n",
       " \n",
       "    norm={Curve : dict(axiswise=False, framewise=True)}\n",
       " ),\n",
       " 6140: OptionTree(groups=dict_keys(['style', 'plot', 'norm', 'output']),\n",
       "    style={Curve : dict(line_width=2, muted_alpha=0.2)},\n",
       " \n",
       "    plot={\n",
       "             Curve     : dict(height=300, labelled=['y'], logx=False, logy=False, responsive=False, shared_axes=True, show_grid=False, show_legend=True, title=A Curve, tools=['hover'], width=700),\n",
       "             NdOverlay : dict(batched=False, height=300, legend_position=right, logx=False, logy=False, responsive=False, shared_axes=True, show_grid=False, show_legend=True, title=A Curve, tools=['hover'], width=700)},\n",
       " \n",
       "    norm={Curve : dict(axiswise=False, framewise=True)}\n",
       " )}"
      ]
     },
     "execution_count": 113,
     "metadata": {},
     "output_type": "execute_result"
    }
   ],
   "source": [
    "hv.Store.custom_options()"
   ]
  },
  {
   "cell_type": "markdown",
   "id": "4f9c247a-38db-4a23-b10f-ee42549e4669",
   "metadata": {},
   "source": [
    "### 3. HoloViews Plotting\n",
    "\n",
    "The plan was to keep the core datastructures of HoloViews entirely separate from the implementation of the plotting backends, so that new backends could be written as extensions to HoloViews. While this vision never fully materialized it is still true. \n",
    "\n",
    "The plotting system in HoloViews can be invoked directly, via the `repr` system of notebook environments or via Panel. The entrypoint to the plotting system are the `Renderer` classes, these are \n",
    "responsible for taking a HoloViews object and creating a corresponding `Plot`.\n",
    "\n",
    "#### Renderer\n",
    "\n",
    "By default a global `Renderer` instance is invoked which has a variety of options on how to render the object:"
   ]
  },
  {
   "cell_type": "code",
   "execution_count": 114,
   "id": "0cf894e7-47eb-4267-bfc9-b9544b627ce8",
   "metadata": {},
   "outputs": [
    {
     "data": {
      "text/plain": [
       "BokehRenderer(backend='bokeh', center=True, css={}, dpi=None, fig='auto', fps=20, holomap='auto', info_fn=None, key_fn=None, mode='default', name='BokehRenderer00221', post_render_hooks={'svg': [], 'png': []}, size=100, theme=<bokeh.themes.theme.Theme object at 0x16a823550>, webgl=True, widget_location=None, widget_mode='embed')"
      ]
     },
     "execution_count": 114,
     "metadata": {},
     "output_type": "execute_result"
    }
   ],
   "source": [
    "renderer = hv.renderer('bokeh')\n",
    "\n",
    "renderer"
   ]
  },
  {
   "cell_type": "markdown",
   "id": "cb97bf77-4eea-4d58-a192-446e1c266e54",
   "metadata": {},
   "source": [
    "The usual entrypoint of taking an object and turning it to a plot is the `get_plot` method:"
   ]
  },
  {
   "cell_type": "code",
   "execution_count": 122,
   "id": "592d8cba-022c-4e9d-b1fe-47d56f5c0034",
   "metadata": {},
   "outputs": [
    {
     "data": {
      "text/plain": [
       "CurvePlot(active_tools=None, align='start', apply_extents=True, apply_hard_bounds=False, apply_ranges=True, aspect=None, autorange=None, backend_opts={}, bgcolor=None, border=10, data_aspect=None, default_span=2.0, default_tools=['save', 'pan', 'wheel_zoom', 'box_zoom', 'reset'], fontscale=None, fontsize={'title': '12pt'}, frame_height=None, frame_width=None, gridstyle={}, height=300, hooks=[], hover_formatters=None, hover_mode='mouse', hover_tooltips=None, interpolation='linear', invert_axes=False, invert_xaxis=False, invert_yaxis=False, labelled=['y'], lod={'factor': 10, 'interval': 300, 'threshold': 2000, 'timeout': 500}, logx=False, logy=False, margin=None, max_height=None, max_width=None, min_height=None, min_width=None, multi_y=False, name='CurvePlot01365', normalize=True, padding=(0, 0.1), projection=None, responsive=False, scalebar=False, scalebar_label='@{value} @{unit}', scalebar_location='bottom_right', scalebar_opts={}, scalebar_range='x', scalebar_tool=True, scalebar_unit=None, shared_axes=True, shared_datasource=True, show_frame=True, show_grid=False, show_legend=True, show_title=True, subcoordinate_scale=1, subcoordinate_y=False, title='A Curve', title_format=None, toolbar='right', tools=['hover'], width=700, xaxis='bottom', xformatter=None, xlabel=None, xlim=(nan, nan), xrotation=None, xticks=None, yaxis='left', yformatter=None, ylabel=None, ylim=(nan, nan), yrotation=None, yticks=None, zlim=(nan, nan))"
      ]
     },
     "execution_count": 122,
     "metadata": {},
     "output_type": "execute_result"
    }
   ],
   "source": [
    "plot = renderer.get_plot(hv_obj)\n",
    "\n",
    "plot"
   ]
  },
  {
   "cell_type": "markdown",
   "id": "ce8bf926-e660-4329-8ca7-908b701dcfcd",
   "metadata": {},
   "source": [
    "The `Renderer` resolves the correct plot type for a given object using the plot registry:"
   ]
  },
  {
   "cell_type": "code",
   "execution_count": 124,
   "id": "e7114861-f4ee-43c7-adcf-41b3af4130fc",
   "metadata": {},
   "outputs": [
    {
     "data": {
      "text/plain": [
       "{holoviews.core.overlay.Overlay: holoviews.plotting.bokeh.element.OverlayPlot,\n",
       " holoviews.core.overlay.NdOverlay: holoviews.plotting.bokeh.element.OverlayPlot,\n",
       " holoviews.core.spaces.GridSpace: holoviews.plotting.bokeh.plot.GridPlot,\n",
       " holoviews.core.spaces.GridMatrix: holoviews.plotting.bokeh.plot.GridPlot,\n",
       " holoviews.core.layout.AdjointLayout: holoviews.plotting.bokeh.plot.AdjointLayoutPlot,\n",
       " holoviews.core.layout.Layout: holoviews.plotting.bokeh.plot.LayoutPlot,\n",
       " holoviews.core.layout.NdLayout: holoviews.plotting.bokeh.plot.LayoutPlot,\n",
       " holoviews.element.chart.Curve: holoviews.plotting.bokeh.chart.CurvePlot,\n",
       " holoviews.element.chart.Bars: holoviews.plotting.bokeh.chart.BarPlot,\n",
       " holoviews.element.geom.Points: holoviews.plotting.bokeh.chart.PointPlot,\n",
       " holoviews.element.chart.Scatter: holoviews.plotting.bokeh.chart.PointPlot,\n",
       " holoviews.element.chart.ErrorBars: holoviews.plotting.bokeh.chart.ErrorPlot,\n",
       " holoviews.element.chart.Spread: holoviews.plotting.bokeh.chart.SpreadPlot,\n",
       " holoviews.element.chart.Spikes: holoviews.plotting.bokeh.chart.SpikesPlot,\n",
       " holoviews.element.chart.Area: holoviews.plotting.bokeh.chart.AreaPlot,\n",
       " holoviews.element.geom.VectorField: holoviews.plotting.bokeh.chart.VectorFieldPlot,\n",
       " holoviews.element.chart.Histogram: holoviews.plotting.bokeh.chart.HistogramPlot,\n",
       " holoviews.element.raster.Image: holoviews.plotting.bokeh.raster.RasterPlot,\n",
       " holoviews.element.raster.RGB: holoviews.plotting.bokeh.raster.RGBPlot,\n",
       " holoviews.element.raster.HSV: holoviews.plotting.bokeh.raster.HSVPlot,\n",
       " holoviews.element.raster.Raster: holoviews.plotting.bokeh.raster.RasterPlot,\n",
       " holoviews.element.raster.HeatMap: <holoviews.plotting.plot.PlotSelector at 0x16b0453d0>,\n",
       " holoviews.element.raster.QuadMesh: holoviews.plotting.bokeh.raster.QuadMeshPlot,\n",
       " holoviews.element.raster.ImageStack: holoviews.plotting.bokeh.raster.ImageStackPlot,\n",
       " holoviews.element.path.Path: holoviews.plotting.bokeh.path.PathPlot,\n",
       " holoviews.element.path.Contours: holoviews.plotting.bokeh.path.ContourPlot,\n",
       " holoviews.element.path.Box: holoviews.plotting.bokeh.path.PathPlot,\n",
       " holoviews.element.path.Bounds: holoviews.plotting.bokeh.path.PathPlot,\n",
       " holoviews.element.path.Ellipse: holoviews.plotting.bokeh.path.PathPlot,\n",
       " holoviews.element.path.Polygons: holoviews.plotting.bokeh.path.PolygonPlot,\n",
       " holoviews.element.geom.Rectangles: holoviews.plotting.bokeh.geometry.RectanglesPlot,\n",
       " holoviews.element.geom.Segments: holoviews.plotting.bokeh.geometry.SegmentPlot,\n",
       " holoviews.element.annotation.VLines: holoviews.plotting.bokeh.annotation.VLinesAnnotationPlot,\n",
       " holoviews.element.annotation.HLines: holoviews.plotting.bokeh.annotation.HLinesAnnotationPlot,\n",
       " holoviews.element.annotation.HSpans: holoviews.plotting.bokeh.annotation.HSpansAnnotationPlot,\n",
       " holoviews.element.annotation.VSpans: holoviews.plotting.bokeh.annotation.VSpansAnnotationPlot,\n",
       " holoviews.element.annotation.HLine: holoviews.plotting.bokeh.annotation.LineAnnotationPlot,\n",
       " holoviews.element.annotation.VLine: holoviews.plotting.bokeh.annotation.LineAnnotationPlot,\n",
       " holoviews.element.annotation.HSpan: holoviews.plotting.bokeh.annotation.BoxAnnotationPlot,\n",
       " holoviews.element.annotation.VSpan: holoviews.plotting.bokeh.annotation.BoxAnnotationPlot,\n",
       " holoviews.element.annotation.Slope: holoviews.plotting.bokeh.annotation.SlopePlot,\n",
       " holoviews.element.annotation.Text: holoviews.plotting.bokeh.annotation.TextPlot,\n",
       " holoviews.element.annotation.Labels: holoviews.plotting.bokeh.annotation.LabelsPlot,\n",
       " holoviews.element.annotation.Spline: holoviews.plotting.bokeh.annotation.SplinePlot,\n",
       " holoviews.element.annotation.Arrow: holoviews.plotting.bokeh.annotation.ArrowPlot,\n",
       " holoviews.element.annotation.Div: holoviews.plotting.bokeh.annotation.DivPlot,\n",
       " holoviews.element.tiles.Tiles: holoviews.plotting.bokeh.tiles.TilePlot,\n",
       " holoviews.element.graphs.Graph: holoviews.plotting.bokeh.graphs.GraphPlot,\n",
       " holoviews.element.graphs.Chord: holoviews.plotting.bokeh.graphs.ChordPlot,\n",
       " holoviews.element.graphs.Nodes: holoviews.plotting.bokeh.graphs.NodePlot,\n",
       " holoviews.element.graphs.EdgePaths: holoviews.plotting.bokeh.path.PathPlot,\n",
       " holoviews.element.graphs.TriMesh: holoviews.plotting.bokeh.graphs.TriMeshPlot,\n",
       " holoviews.element.sankey.Sankey: holoviews.plotting.bokeh.sankey.SankeyPlot,\n",
       " holoviews.element.tabular.Table: holoviews.plotting.bokeh.tabular.TablePlot,\n",
       " holoviews.element.tabular.ItemTable: holoviews.plotting.bokeh.tabular.TablePlot,\n",
       " holoviews.element.stats.Distribution: holoviews.plotting.bokeh.stats.DistributionPlot,\n",
       " holoviews.element.stats.Bivariate: holoviews.plotting.bokeh.stats.BivariatePlot,\n",
       " holoviews.element.stats.BoxWhisker: holoviews.plotting.bokeh.stats.BoxWhiskerPlot,\n",
       " holoviews.element.stats.Violin: holoviews.plotting.bokeh.stats.ViolinPlot,\n",
       " holoviews.element.stats.HexTiles: holoviews.plotting.bokeh.hex_tiles.HexTilesPlot}"
      ]
     },
     "execution_count": 124,
     "metadata": {},
     "output_type": "execute_result"
    }
   ],
   "source": [
    "hv.Store.registry['bokeh']"
   ]
  },
  {
   "cell_type": "markdown",
   "id": "bed0098a-4b50-44f8-b68f-5caf35c5d668",
   "metadata": {},
   "source": [
    "Internally the plotting classes corresponding to composite objects such as the `OverlayPlot` will recreate a similarly hierarchy as the components themselves, e.g. and overlay of curves will result in a `OverlayPlot`:"
   ]
  },
  {
   "cell_type": "code",
   "execution_count": 125,
   "id": "1babcc8d-8f38-47bb-9db1-7e3e11568733",
   "metadata": {},
   "outputs": [
    {
     "data": {
      "text/plain": [
       "OverlayPlot(active_tools=None, align='start', apply_extents=True, apply_hard_bounds=False, apply_ranges=True, aspect=None, autorange=None, backend_opts={}, batched=False, bgcolor=None, border=10, data_aspect=None, default_span=2.0, default_tools=['save', 'pan', 'wheel_zoom', 'box_zoom', 'reset'], fontscale=None, fontsize={'title': '12pt'}, frame_height=None, frame_width=None, gridstyle={}, height=300, hooks=[], hover_formatters=None, hover_mode='mouse', hover_tooltips=None, invert_axes=False, invert_xaxis=False, invert_yaxis=False, labelled=['x', 'y'], legend_cols=0, legend_labels=None, legend_limit=25, legend_muted=False, legend_offset=(0, 0), legend_opts={}, legend_position='top_right', lod={'factor': 10, 'interval': 300, 'threshold': 2000, 'timeout': 500}, logx=False, logy=False, margin=None, max_height=None, max_width=None, min_height=None, min_width=None, multi_y=False, multiple_legends=False, name='OverlayPlot01385', normalize=True, padding=0.1, projection=None, responsive=False, scalebar=False, scalebar_label='@{value} @{unit}', scalebar_location='bottom_right', scalebar_opts={}, scalebar_range='x', scalebar_tool=True, scalebar_unit=None, shared_axes=True, shared_datasource=True, show_frame=True, show_grid=False, show_legend=True, show_title=True, style_grouping=2, subcoordinate_scale=1, subcoordinate_y=False, tabs=False, title='{label} {group} {dimensions}', title_format=None, toolbar='right', tools=[], width=300, xaxis='bottom', xformatter=None, xlabel=None, xlim=(nan, nan), xrotation=None, xticks=None, yaxis='left', yformatter=None, ylabel=None, ylim=(nan, nan), yrotation=None, yticks=None, zlim=(nan, nan))"
      ]
     },
     "execution_count": 125,
     "metadata": {},
     "output_type": "execute_result"
    }
   ],
   "source": [
    "oplot = renderer.get_plot(hv.Curve([]) * hv.Curve([]))\n",
    "\n",
    "oplot"
   ]
  },
  {
   "cell_type": "markdown",
   "id": "2fa08b06-36b0-426e-86b1-3f687a599e3c",
   "metadata": {},
   "source": [
    "containing individual `CurvePlot` subplots:"
   ]
  },
  {
   "cell_type": "code",
   "execution_count": 126,
   "id": "f4115ddc-8a58-4bf4-9f45-48ed0b4ea5f5",
   "metadata": {},
   "outputs": [
    {
     "data": {
      "text/plain": [
       "{('Curve',\n",
       "  'I'): CurvePlot(active_tools=None, align='start', apply_extents=True, apply_hard_bounds=False, apply_ranges=True, aspect=None, autorange=None, backend_opts={}, bgcolor=None, border=10, data_aspect=None, default_span=2.0, default_tools=['save', 'pan', 'wheel_zoom', 'box_zoom', 'reset'], fontscale=None, fontsize={'title': '12pt'}, frame_height=None, frame_width=None, gridstyle={}, height=300, hooks=[], hover_formatters=None, hover_mode='mouse', hover_tooltips=None, interpolation='linear', invert_axes=False, invert_xaxis=False, invert_yaxis=False, labelled=['x', 'y'], lod={'factor': 10, 'interval': 300, 'threshold': 2000, 'timeout': 500}, logx=False, logy=False, margin=None, max_height=None, max_width=None, min_height=None, min_width=None, multi_y=False, name='CurvePlot01397', normalize=True, padding=(0, 0.1), projection=None, responsive=False, scalebar=False, scalebar_label='@{value} @{unit}', scalebar_location='bottom_right', scalebar_opts={}, scalebar_range='x', scalebar_tool=True, scalebar_unit=None, shared_axes=True, shared_datasource=True, show_frame=True, show_grid=False, show_legend=True, show_title=True, subcoordinate_scale=1, subcoordinate_y=False, title='{label} {group} {dimensions}', title_format=None, toolbar='right', tools=[], width=300, xaxis='bottom', xformatter=None, xlabel=None, xlim=(nan, nan), xrotation=None, xticks=None, yaxis='left', yformatter=None, ylabel=None, ylim=(nan, nan), yrotation=None, yticks=None, zlim=(nan, nan)),\n",
       " ('Curve',\n",
       "  'II'): CurvePlot(active_tools=None, align='start', apply_extents=True, apply_hard_bounds=False, apply_ranges=True, aspect=None, autorange=None, backend_opts={}, bgcolor=None, border=10, data_aspect=None, default_span=2.0, default_tools=['save', 'pan', 'wheel_zoom', 'box_zoom', 'reset'], fontscale=None, fontsize={'title': '12pt'}, frame_height=None, frame_width=None, gridstyle={}, height=300, hooks=[], hover_formatters=None, hover_mode='mouse', hover_tooltips=None, interpolation='linear', invert_axes=False, invert_xaxis=False, invert_yaxis=False, labelled=['x', 'y'], lod={'factor': 10, 'interval': 300, 'threshold': 2000, 'timeout': 500}, logx=False, logy=False, margin=None, max_height=None, max_width=None, min_height=None, min_width=None, multi_y=False, name='CurvePlot01398', normalize=True, padding=(0, 0.1), projection=None, responsive=False, scalebar=False, scalebar_label='@{value} @{unit}', scalebar_location='bottom_right', scalebar_opts={}, scalebar_range='x', scalebar_tool=True, scalebar_unit=None, shared_axes=True, shared_datasource=True, show_frame=True, show_grid=False, show_legend=True, show_title=True, subcoordinate_scale=1, subcoordinate_y=False, title='{label} {group} {dimensions}', title_format=None, toolbar='right', tools=[], width=300, xaxis='bottom', xformatter=None, xlabel=None, xlim=(nan, nan), xrotation=None, xticks=None, yaxis='left', yformatter=None, ylabel=None, ylim=(nan, nan), yrotation=None, yticks=None, zlim=(nan, nan))}"
      ]
     },
     "execution_count": 126,
     "metadata": {},
     "output_type": "execute_result"
    }
   ],
   "source": [
    "oplot.subplots"
   ]
  },
  {
   "cell_type": "markdown",
   "id": "5e4b848f-1be5-4ac9-9089-2f5b6aa89e22",
   "metadata": {},
   "source": [
    "The plots themselves internally do two main things, translate the elements and options into backend specific figures and implement approaches for updating the plots inplace, e.g. if we have a DynamicMap that updates the `Curve`, changes in the data and the options are translated into (ideally minimal updates to the underlying figure object)."
   ]
  },
  {
   "cell_type": "code",
   "execution_count": 128,
   "id": "a94349d5-56b1-4f36-aa0d-d4ba315b3919",
   "metadata": {},
   "outputs": [
    {
     "data": {},
     "metadata": {},
     "output_type": "display_data"
    },
    {
     "data": {
      "application/vnd.holoviews_exec.v0+json": "",
      "text/html": [
       "<div id='9966e55e-673d-4d3d-978f-fea867bc0496'>\n",
       "  <div id=\"f9d46681-3f9c-49ca-b981-7aaca3d5b20e\" data-root-id=\"9966e55e-673d-4d3d-978f-fea867bc0496\" style=\"display: contents;\"></div>\n",
       "</div>\n",
       "<script type=\"application/javascript\">(function(root) {\n",
       "  var docs_json = {\"c1628ad8-ebe6-4095-a937-7223c4392af2\":{\"version\":\"3.6.0\",\"title\":\"Bokeh Application\",\"roots\":[{\"type\":\"object\",\"name\":\"Row\",\"id\":\"9966e55e-673d-4d3d-978f-fea867bc0496\",\"attributes\":{\"name\":\"Row01414\",\"tags\":[\"embedded\"],\"stylesheets\":[\"\\n:host(.pn-loading):before, .pn-loading:before {\\n  background-color: #c3c3c3;\\n  mask-size: auto calc(min(50%, 400px));\\n  -webkit-mask-size: auto calc(min(50%, 400px));\\n}\",{\"type\":\"object\",\"name\":\"ImportedStyleSheet\",\"id\":\"2a19c899-0894-4d02-975b-388ce9d8035c\",\"attributes\":{\"url\":\"https://cdn.holoviz.org/panel/1.5.2/dist/css/loading.css\"}},{\"type\":\"object\",\"name\":\"ImportedStyleSheet\",\"id\":\"4717363b-540d-49db-ae7e-e1eaa4b3823c\",\"attributes\":{\"url\":\"https://cdn.holoviz.org/panel/1.5.2/dist/css/listpanel.css\"}},{\"type\":\"object\",\"name\":\"ImportedStyleSheet\",\"id\":\"ce6b0b3e-11d0-4b35-b16b-7e520ddcff71\",\"attributes\":{\"url\":\"https://cdn.holoviz.org/panel/1.5.2/dist/bundled/theme/default.css\"}},{\"type\":\"object\",\"name\":\"ImportedStyleSheet\",\"id\":\"712904d1-9d78-4d15-a962-7127f27dc58c\",\"attributes\":{\"url\":\"https://cdn.holoviz.org/panel/1.5.2/dist/bundled/theme/native.css\"}}],\"min_width\":700,\"margin\":0,\"sizing_mode\":\"stretch_width\",\"align\":\"start\",\"children\":[{\"type\":\"object\",\"name\":\"Spacer\",\"id\":\"4c92f897-b498-4d16-81c9-24a5429aea32\",\"attributes\":{\"name\":\"HSpacer01418\",\"stylesheets\":[\"\\n:host(.pn-loading):before, .pn-loading:before {\\n  background-color: #c3c3c3;\\n  mask-size: auto calc(min(50%, 400px));\\n  -webkit-mask-size: auto calc(min(50%, 400px));\\n}\",{\"id\":\"2a19c899-0894-4d02-975b-388ce9d8035c\"},{\"id\":\"ce6b0b3e-11d0-4b35-b16b-7e520ddcff71\"},{\"id\":\"712904d1-9d78-4d15-a962-7127f27dc58c\"}],\"margin\":0,\"sizing_mode\":\"stretch_width\",\"align\":\"start\"}},{\"type\":\"object\",\"name\":\"Figure\",\"id\":\"715896d2-7476-4b44-8771-34aa7bbfdbb0\",\"attributes\":{\"width\":700,\"height\":300,\"margin\":[5,10],\"sizing_mode\":\"fixed\",\"align\":\"start\",\"x_range\":{\"type\":\"object\",\"name\":\"Range1d\",\"id\":\"970c9e01-f6cc-497f-a394-cd641a5b91ca\",\"attributes\":{\"name\":\"index\",\"tags\":[[[\"index\",null]],[]],\"end\":2.0,\"reset_start\":0.0,\"reset_end\":2.0}},\"y_range\":{\"type\":\"object\",\"name\":\"Range1d\",\"id\":\"e012cc1f-8eaa-4516-8f3d-394380855c37\",\"attributes\":{\"name\":\"0\",\"tags\":[[[\"0\",null]],{\"type\":\"map\",\"entries\":[[\"invert_yaxis\",false],[\"autorange\",false]]}],\"start\":0.8,\"end\":3.2,\"reset_start\":0.8,\"reset_end\":3.2}},\"x_scale\":{\"type\":\"object\",\"name\":\"LinearScale\",\"id\":\"1b198a50-c6c5-4f54-ba23-23939e19635d\"},\"y_scale\":{\"type\":\"object\",\"name\":\"LinearScale\",\"id\":\"1df19a89-8f45-4c2e-afd9-e068bfc24daf\"},\"title\":{\"type\":\"object\",\"name\":\"Title\",\"id\":\"0a35e110-d09b-486d-a46e-9c52ee1330a5\",\"attributes\":{\"text\":\"A Curve\",\"text_color\":\"black\",\"text_font_size\":\"12pt\"}},\"renderers\":[{\"type\":\"object\",\"name\":\"GlyphRenderer\",\"id\":\"deb3bfe1-84ca-419e-bf34-08d783c70d8d\",\"attributes\":{\"data_source\":{\"type\":\"object\",\"name\":\"ColumnDataSource\",\"id\":\"e545d670-dac4-48ba-8ab6-23aca92823f2\",\"attributes\":{\"selected\":{\"type\":\"object\",\"name\":\"Selection\",\"id\":\"87805f0b-dbc5-41e3-b2e8-50d2204aaa6f\",\"attributes\":{\"indices\":[],\"line_indices\":[]}},\"selection_policy\":{\"type\":\"object\",\"name\":\"UnionRenderers\",\"id\":\"9e97bf2c-f660-457a-9828-61c871546d8c\"},\"data\":{\"type\":\"map\",\"entries\":[[\"index\",{\"type\":\"ndarray\",\"array\":{\"type\":\"bytes\",\"data\":\"AAAAAAEAAAACAAAA\"},\"shape\":[3],\"dtype\":\"int32\",\"order\":\"little\"}],[\"0\",{\"type\":\"ndarray\",\"array\":{\"type\":\"bytes\",\"data\":\"AQAAAAIAAAADAAAA\"},\"shape\":[3],\"dtype\":\"int32\",\"order\":\"little\"}],[\"A_0\",{\"type\":\"ndarray\",\"array\":{\"type\":\"bytes\",\"data\":\"AQAAAAIAAAADAAAA\"},\"shape\":[3],\"dtype\":\"int32\",\"order\":\"little\"}]]}}},\"view\":{\"type\":\"object\",\"name\":\"CDSView\",\"id\":\"7be95439-fae2-4541-91a7-ca6a8bab71ea\",\"attributes\":{\"filter\":{\"type\":\"object\",\"name\":\"AllIndices\",\"id\":\"e5e870c5-ba5a-476a-b316-7aaf2b284360\"}}},\"glyph\":{\"type\":\"object\",\"name\":\"Line\",\"id\":\"5b6aad92-ca56-4ca1-852c-f063086f5ea4\",\"attributes\":{\"tags\":[\"apply_ranges\"],\"x\":{\"type\":\"field\",\"field\":\"index\"},\"y\":{\"type\":\"field\",\"field\":\"0\"},\"line_color\":\"#30a2da\",\"line_width\":2}},\"selection_glyph\":{\"type\":\"object\",\"name\":\"Line\",\"id\":\"2daf0bee-ab16-4af4-8632-272e0e116e4a\",\"attributes\":{\"tags\":[\"apply_ranges\"],\"x\":{\"type\":\"field\",\"field\":\"index\"},\"y\":{\"type\":\"field\",\"field\":\"0\"},\"line_color\":\"#30a2da\",\"line_width\":2}},\"nonselection_glyph\":{\"type\":\"object\",\"name\":\"Line\",\"id\":\"25387529-a75f-4ca6-ac82-a3b4fb4e64d7\",\"attributes\":{\"tags\":[\"apply_ranges\"],\"x\":{\"type\":\"field\",\"field\":\"index\"},\"y\":{\"type\":\"field\",\"field\":\"0\"},\"line_color\":\"#30a2da\",\"line_alpha\":0.1,\"line_width\":2}},\"muted_glyph\":{\"type\":\"object\",\"name\":\"Line\",\"id\":\"9a600258-3a68-4326-99d3-13f682d4520e\",\"attributes\":{\"tags\":[\"apply_ranges\"],\"x\":{\"type\":\"field\",\"field\":\"index\"},\"y\":{\"type\":\"field\",\"field\":\"0\"},\"line_color\":\"#30a2da\",\"line_alpha\":0.2,\"line_width\":2}}}}],\"toolbar\":{\"type\":\"object\",\"name\":\"Toolbar\",\"id\":\"815653db-d89c-4f89-8b4f-319e7f34f4d6\",\"attributes\":{\"tools\":[{\"type\":\"object\",\"name\":\"WheelZoomTool\",\"id\":\"e26b9b55-0236-4f73-991f-20501460f934\",\"attributes\":{\"tags\":[\"hv_created\"],\"renderers\":\"auto\",\"zoom_together\":\"none\"}},{\"type\":\"object\",\"name\":\"HoverTool\",\"id\":\"5c6f70f9-41a6-413e-a267-42ad70774862\",\"attributes\":{\"tags\":[\"hv_created\"],\"renderers\":[{\"id\":\"deb3bfe1-84ca-419e-bf34-08d783c70d8d\"}],\"tooltips\":[[\"index\",\"@{index}\"],[\"0\",\"@{A_0}\"]]}},{\"type\":\"object\",\"name\":\"SaveTool\",\"id\":\"43ce828f-335a-4be0-9507-d5dea7d37665\"},{\"type\":\"object\",\"name\":\"PanTool\",\"id\":\"0d2cd568-0d41-48c0-ad57-f82454a562f8\"},{\"type\":\"object\",\"name\":\"BoxZoomTool\",\"id\":\"fad36b3d-6d26-4968-8bd1-a2cf4cfc9e24\",\"attributes\":{\"overlay\":{\"type\":\"object\",\"name\":\"BoxAnnotation\",\"id\":\"79c2e74c-bd90-49f1-87ab-73b2e84ae233\",\"attributes\":{\"syncable\":false,\"line_color\":\"black\",\"line_alpha\":1.0,\"line_width\":2,\"line_dash\":[4,4],\"fill_color\":\"lightgrey\",\"fill_alpha\":0.5,\"level\":\"overlay\",\"visible\":false,\"left\":{\"type\":\"number\",\"value\":\"nan\"},\"right\":{\"type\":\"number\",\"value\":\"nan\"},\"top\":{\"type\":\"number\",\"value\":\"nan\"},\"bottom\":{\"type\":\"number\",\"value\":\"nan\"},\"left_units\":\"canvas\",\"right_units\":\"canvas\",\"top_units\":\"canvas\",\"bottom_units\":\"canvas\",\"handles\":{\"type\":\"object\",\"name\":\"BoxInteractionHandles\",\"id\":\"97c3b8cd-b022-4120-b73c-d7fbab319490\",\"attributes\":{\"all\":{\"type\":\"object\",\"name\":\"AreaVisuals\",\"id\":\"5548a940-9546-4af3-ae4e-02fb0504ae47\",\"attributes\":{\"fill_color\":\"white\",\"hover_fill_color\":\"lightgray\"}}}}}}}},{\"type\":\"object\",\"name\":\"ResetTool\",\"id\":\"0c3aa5f3-7a2d-4db4-861a-ff3d5415ea9a\"}],\"active_drag\":{\"id\":\"0d2cd568-0d41-48c0-ad57-f82454a562f8\"},\"active_scroll\":{\"id\":\"e26b9b55-0236-4f73-991f-20501460f934\"}}},\"left\":[{\"type\":\"object\",\"name\":\"LinearAxis\",\"id\":\"9c06ccea-6797-4c0b-ab57-b1d56cf139a3\",\"attributes\":{\"ticker\":{\"type\":\"object\",\"name\":\"BasicTicker\",\"id\":\"b9fba2d8-3717-4c92-b0be-e0324071d785\",\"attributes\":{\"mantissas\":[1,2,5]}},\"formatter\":{\"type\":\"object\",\"name\":\"BasicTickFormatter\",\"id\":\"21bfd6a6-3815-4eee-83e7-4bfea5a4e7b3\"},\"axis_label\":\"0\",\"major_label_policy\":{\"type\":\"object\",\"name\":\"AllLabels\",\"id\":\"a070a2d6-0729-4978-9784-526aaf041068\"}}}],\"below\":[{\"type\":\"object\",\"name\":\"LinearAxis\",\"id\":\"855e915d-2187-407e-a5a8-09fd6d0f3f2f\",\"attributes\":{\"ticker\":{\"type\":\"object\",\"name\":\"BasicTicker\",\"id\":\"4b4677f1-531d-4989-8cf0-621609f2b656\",\"attributes\":{\"mantissas\":[1,2,5]}},\"formatter\":{\"type\":\"object\",\"name\":\"BasicTickFormatter\",\"id\":\"b3b1c30f-b4ed-45ab-ab86-9b43268c4a4b\"},\"axis_label\":\"\",\"major_label_policy\":{\"type\":\"object\",\"name\":\"AllLabels\",\"id\":\"4586ae26-dc1e-448c-ad98-ec093d3de70a\"}}}],\"center\":[{\"type\":\"object\",\"name\":\"Grid\",\"id\":\"dfc18e5f-b802-4fe6-b862-8aa7bfce6d93\",\"attributes\":{\"axis\":{\"id\":\"855e915d-2187-407e-a5a8-09fd6d0f3f2f\"},\"grid_line_color\":null}},{\"type\":\"object\",\"name\":\"Grid\",\"id\":\"54fd0589-a203-4ff7-a997-9895d39250d4\",\"attributes\":{\"dimension\":1,\"axis\":{\"id\":\"9c06ccea-6797-4c0b-ab57-b1d56cf139a3\"},\"grid_line_color\":null}}],\"min_border_top\":10,\"min_border_bottom\":10,\"min_border_left\":10,\"min_border_right\":10,\"output_backend\":\"webgl\"}},{\"type\":\"object\",\"name\":\"Spacer\",\"id\":\"19c39476-ab8a-44cc-a0e2-3548a3800505\",\"attributes\":{\"name\":\"HSpacer01419\",\"stylesheets\":[\"\\n:host(.pn-loading):before, .pn-loading:before {\\n  background-color: #c3c3c3;\\n  mask-size: auto calc(min(50%, 400px));\\n  -webkit-mask-size: auto calc(min(50%, 400px));\\n}\",{\"id\":\"2a19c899-0894-4d02-975b-388ce9d8035c\"},{\"id\":\"ce6b0b3e-11d0-4b35-b16b-7e520ddcff71\"},{\"id\":\"712904d1-9d78-4d15-a962-7127f27dc58c\"}],\"margin\":0,\"sizing_mode\":\"stretch_width\",\"align\":\"start\"}}]}}],\"defs\":[{\"type\":\"model\",\"name\":\"ReactiveHTML1\"},{\"type\":\"model\",\"name\":\"FlexBox1\",\"properties\":[{\"name\":\"align_content\",\"kind\":\"Any\",\"default\":\"flex-start\"},{\"name\":\"align_items\",\"kind\":\"Any\",\"default\":\"flex-start\"},{\"name\":\"flex_direction\",\"kind\":\"Any\",\"default\":\"row\"},{\"name\":\"flex_wrap\",\"kind\":\"Any\",\"default\":\"wrap\"},{\"name\":\"gap\",\"kind\":\"Any\",\"default\":\"\"},{\"name\":\"justify_content\",\"kind\":\"Any\",\"default\":\"flex-start\"}]},{\"type\":\"model\",\"name\":\"FloatPanel1\",\"properties\":[{\"name\":\"config\",\"kind\":\"Any\",\"default\":{\"type\":\"map\"}},{\"name\":\"contained\",\"kind\":\"Any\",\"default\":true},{\"name\":\"position\",\"kind\":\"Any\",\"default\":\"right-top\"},{\"name\":\"offsetx\",\"kind\":\"Any\",\"default\":null},{\"name\":\"offsety\",\"kind\":\"Any\",\"default\":null},{\"name\":\"theme\",\"kind\":\"Any\",\"default\":\"primary\"},{\"name\":\"status\",\"kind\":\"Any\",\"default\":\"normalized\"}]},{\"type\":\"model\",\"name\":\"GridStack1\",\"properties\":[{\"name\":\"mode\",\"kind\":\"Any\",\"default\":\"warn\"},{\"name\":\"ncols\",\"kind\":\"Any\",\"default\":null},{\"name\":\"nrows\",\"kind\":\"Any\",\"default\":null},{\"name\":\"allow_resize\",\"kind\":\"Any\",\"default\":true},{\"name\":\"allow_drag\",\"kind\":\"Any\",\"default\":true},{\"name\":\"state\",\"kind\":\"Any\",\"default\":[]}]},{\"type\":\"model\",\"name\":\"drag1\",\"properties\":[{\"name\":\"slider_width\",\"kind\":\"Any\",\"default\":5},{\"name\":\"slider_color\",\"kind\":\"Any\",\"default\":\"black\"},{\"name\":\"value\",\"kind\":\"Any\",\"default\":50}]},{\"type\":\"model\",\"name\":\"click1\",\"properties\":[{\"name\":\"terminal_output\",\"kind\":\"Any\",\"default\":\"\"},{\"name\":\"debug_name\",\"kind\":\"Any\",\"default\":\"\"},{\"name\":\"clears\",\"kind\":\"Any\",\"default\":0}]},{\"type\":\"model\",\"name\":\"FastWrapper1\",\"properties\":[{\"name\":\"object\",\"kind\":\"Any\",\"default\":null},{\"name\":\"style\",\"kind\":\"Any\",\"default\":null}]},{\"type\":\"model\",\"name\":\"NotificationAreaBase1\",\"properties\":[{\"name\":\"js_events\",\"kind\":\"Any\",\"default\":{\"type\":\"map\"}},{\"name\":\"position\",\"kind\":\"Any\",\"default\":\"bottom-right\"},{\"name\":\"_clear\",\"kind\":\"Any\",\"default\":0}]},{\"type\":\"model\",\"name\":\"NotificationArea1\",\"properties\":[{\"name\":\"js_events\",\"kind\":\"Any\",\"default\":{\"type\":\"map\"}},{\"name\":\"notifications\",\"kind\":\"Any\",\"default\":[]},{\"name\":\"position\",\"kind\":\"Any\",\"default\":\"bottom-right\"},{\"name\":\"_clear\",\"kind\":\"Any\",\"default\":0},{\"name\":\"types\",\"kind\":\"Any\",\"default\":[{\"type\":\"map\",\"entries\":[[\"type\",\"warning\"],[\"background\",\"#ffc107\"],[\"icon\",{\"type\":\"map\",\"entries\":[[\"className\",\"fas fa-exclamation-triangle\"],[\"tagName\",\"i\"],[\"color\",\"white\"]]}]]},{\"type\":\"map\",\"entries\":[[\"type\",\"info\"],[\"background\",\"#007bff\"],[\"icon\",{\"type\":\"map\",\"entries\":[[\"className\",\"fas fa-info-circle\"],[\"tagName\",\"i\"],[\"color\",\"white\"]]}]]}]}]},{\"type\":\"model\",\"name\":\"Notification\",\"properties\":[{\"name\":\"background\",\"kind\":\"Any\",\"default\":null},{\"name\":\"duration\",\"kind\":\"Any\",\"default\":3000},{\"name\":\"icon\",\"kind\":\"Any\",\"default\":null},{\"name\":\"message\",\"kind\":\"Any\",\"default\":\"\"},{\"name\":\"notification_type\",\"kind\":\"Any\",\"default\":null},{\"name\":\"_destroyed\",\"kind\":\"Any\",\"default\":false}]},{\"type\":\"model\",\"name\":\"TemplateActions1\",\"properties\":[{\"name\":\"open_modal\",\"kind\":\"Any\",\"default\":0},{\"name\":\"close_modal\",\"kind\":\"Any\",\"default\":0}]},{\"type\":\"model\",\"name\":\"BootstrapTemplateActions1\",\"properties\":[{\"name\":\"open_modal\",\"kind\":\"Any\",\"default\":0},{\"name\":\"close_modal\",\"kind\":\"Any\",\"default\":0}]},{\"type\":\"model\",\"name\":\"TemplateEditor1\",\"properties\":[{\"name\":\"layout\",\"kind\":\"Any\",\"default\":[]}]},{\"type\":\"model\",\"name\":\"MaterialTemplateActions1\",\"properties\":[{\"name\":\"open_modal\",\"kind\":\"Any\",\"default\":0},{\"name\":\"close_modal\",\"kind\":\"Any\",\"default\":0}]},{\"type\":\"model\",\"name\":\"ReactiveESM1\"},{\"type\":\"model\",\"name\":\"JSComponent1\"},{\"type\":\"model\",\"name\":\"ReactComponent1\"},{\"type\":\"model\",\"name\":\"AnyWidgetComponent1\"},{\"type\":\"model\",\"name\":\"request_value1\",\"properties\":[{\"name\":\"fill\",\"kind\":\"Any\",\"default\":\"none\"},{\"name\":\"_synced\",\"kind\":\"Any\",\"default\":null},{\"name\":\"_request_sync\",\"kind\":\"Any\",\"default\":0}]}]}};\n",
       "  var render_items = [{\"docid\":\"c1628ad8-ebe6-4095-a937-7223c4392af2\",\"roots\":{\"9966e55e-673d-4d3d-978f-fea867bc0496\":\"f9d46681-3f9c-49ca-b981-7aaca3d5b20e\"},\"root_ids\":[\"9966e55e-673d-4d3d-978f-fea867bc0496\"]}];\n",
       "  var docs = Object.values(docs_json)\n",
       "  if (!docs) {\n",
       "    return\n",
       "  }\n",
       "  const py_version = docs[0].version.replace('rc', '-rc.').replace('.dev', '-dev.')\n",
       "  async function embed_document(root) {\n",
       "    var Bokeh = get_bokeh(root)\n",
       "    await Bokeh.embed.embed_items_notebook(docs_json, render_items);\n",
       "    for (const render_item of render_items) {\n",
       "      for (const root_id of render_item.root_ids) {\n",
       "\tconst id_el = document.getElementById(root_id)\n",
       "\tif (id_el.children.length && id_el.children[0].hasAttribute('data-root-id')) {\n",
       "\t  const root_el = id_el.children[0]\n",
       "\t  root_el.id = root_el.id + '-rendered'\n",
       "\t  for (const child of root_el.children) {\n",
       "            // Ensure JupyterLab does not capture keyboard shortcuts\n",
       "            // see: https://jupyterlab.readthedocs.io/en/4.1.x/extension/notebook.html#keyboard-interaction-model\n",
       "\t    child.setAttribute('data-lm-suppress-shortcuts', 'true')\n",
       "\t  }\n",
       "\t}\n",
       "      }\n",
       "    }\n",
       "  }\n",
       "  function get_bokeh(root) {\n",
       "    if (root.Bokeh === undefined) {\n",
       "      return null\n",
       "    } else if (root.Bokeh.version !== py_version) {\n",
       "      if (root.Bokeh.versions === undefined || !root.Bokeh.versions.has(py_version)) {\n",
       "\treturn null\n",
       "      }\n",
       "      return root.Bokeh.versions.get(py_version);\n",
       "    } else if (root.Bokeh.version === py_version) {\n",
       "      return root.Bokeh\n",
       "    }\n",
       "    return null\n",
       "  }\n",
       "  function is_loaded(root) {\n",
       "    var Bokeh = get_bokeh(root)\n",
       "    return (Bokeh != null && Bokeh.Panel !== undefined)\n",
       "  }\n",
       "  if (is_loaded(root)) {\n",
       "    embed_document(root);\n",
       "  } else {\n",
       "    var attempts = 0;\n",
       "    var timer = setInterval(function(root) {\n",
       "      if (is_loaded(root)) {\n",
       "        clearInterval(timer);\n",
       "        embed_document(root);\n",
       "      } else if (document.readyState == \"complete\") {\n",
       "        attempts++;\n",
       "        if (attempts > 200) {\n",
       "          clearInterval(timer);\n",
       "\t  var Bokeh = get_bokeh(root)\n",
       "\t  if (Bokeh == null || Bokeh.Panel == null) {\n",
       "            console.warn(\"Panel: ERROR: Unable to run Panel code because Bokeh or Panel library is missing\");\n",
       "\t  } else {\n",
       "\t    console.warn(\"Panel: WARNING: Attempting to render but not all required libraries could be resolved.\")\n",
       "\t    embed_document(root)\n",
       "\t  }\n",
       "        }\n",
       "      }\n",
       "    }, 25, root)\n",
       "  }\n",
       "})(window);</script>"
      ],
      "text/plain": [
       ":Curve   [index]   (0)"
      ]
     },
     "execution_count": 128,
     "metadata": {
      "application/vnd.holoviews_exec.v0+json": {
       "id": "9966e55e-673d-4d3d-978f-fea867bc0496"
      }
     },
     "output_type": "execute_result"
    }
   ],
   "source": [
    "hv_obj"
   ]
  },
  {
   "cell_type": "code",
   "execution_count": 132,
   "id": "93adc923-200e-4dbe-9f72-afae4a6756d4",
   "metadata": {},
   "outputs": [
    {
     "data": {},
     "metadata": {},
     "output_type": "display_data"
    },
    {
     "data": {
      "application/vnd.holoviews_exec.v0+json": "",
      "text/html": [
       "<div id='30902f7d-bba6-4464-a2d9-d59db7873a13'>\n",
       "  <div id=\"c40d1176-acf8-4ce1-a55c-8bf26342f0c4\" data-root-id=\"30902f7d-bba6-4464-a2d9-d59db7873a13\" style=\"display: contents;\"></div>\n",
       "</div>\n",
       "<script type=\"application/javascript\">(function(root) {\n",
       "  var docs_json = {\"46ec4270-abd7-4f72-b31f-f8726175ed91\":{\"version\":\"3.6.0\",\"title\":\"Bokeh Application\",\"roots\":[{\"type\":\"object\",\"name\":\"Row\",\"id\":\"30902f7d-bba6-4464-a2d9-d59db7873a13\",\"attributes\":{\"name\":\"Row01450\",\"tags\":[\"embedded\"],\"stylesheets\":[\"\\n:host(.pn-loading):before, .pn-loading:before {\\n  background-color: #c3c3c3;\\n  mask-size: auto calc(min(50%, 400px));\\n  -webkit-mask-size: auto calc(min(50%, 400px));\\n}\",{\"type\":\"object\",\"name\":\"ImportedStyleSheet\",\"id\":\"7dbedb6e-7eea-4e7a-81f7-22afa0e79f3e\",\"attributes\":{\"url\":\"https://cdn.holoviz.org/panel/1.5.2/dist/css/loading.css\"}},{\"type\":\"object\",\"name\":\"ImportedStyleSheet\",\"id\":\"137b8815-008d-4705-9fdd-2f72bc56a912\",\"attributes\":{\"url\":\"https://cdn.holoviz.org/panel/1.5.2/dist/css/listpanel.css\"}},{\"type\":\"object\",\"name\":\"ImportedStyleSheet\",\"id\":\"c4fe21d1-717f-46b8-b130-8c49ae8ab59e\",\"attributes\":{\"url\":\"https://cdn.holoviz.org/panel/1.5.2/dist/bundled/theme/default.css\"}},{\"type\":\"object\",\"name\":\"ImportedStyleSheet\",\"id\":\"d7dae9e6-1ee6-4ab2-a264-9e0263e9b57d\",\"attributes\":{\"url\":\"https://cdn.holoviz.org/panel/1.5.2/dist/bundled/theme/native.css\"}}],\"min_width\":300,\"margin\":0,\"sizing_mode\":\"stretch_width\",\"align\":\"start\",\"children\":[{\"type\":\"object\",\"name\":\"Spacer\",\"id\":\"8001012a-e9c5-4b08-a62b-8200541ed8ae\",\"attributes\":{\"name\":\"HSpacer01465\",\"stylesheets\":[\"\\n:host(.pn-loading):before, .pn-loading:before {\\n  background-color: #c3c3c3;\\n  mask-size: auto calc(min(50%, 400px));\\n  -webkit-mask-size: auto calc(min(50%, 400px));\\n}\",{\"id\":\"7dbedb6e-7eea-4e7a-81f7-22afa0e79f3e\"},{\"id\":\"c4fe21d1-717f-46b8-b130-8c49ae8ab59e\"},{\"id\":\"d7dae9e6-1ee6-4ab2-a264-9e0263e9b57d\"}],\"margin\":0,\"sizing_mode\":\"stretch_width\",\"align\":\"start\"}},{\"type\":\"object\",\"name\":\"Figure\",\"id\":\"947ab8ae-d3e3-44f5-830c-0e06f4433e75\",\"attributes\":{\"width\":300,\"height\":300,\"margin\":[5,10],\"sizing_mode\":\"fixed\",\"align\":\"start\",\"x_range\":{\"type\":\"object\",\"name\":\"Range1d\",\"id\":\"00a26603-5672-44c5-88c7-0a8f9e19ad79\",\"attributes\":{\"name\":\"x\",\"tags\":[[[\"x\",null]],[]],\"end\":2.0,\"reset_start\":0.0,\"reset_end\":2.0}},\"y_range\":{\"type\":\"object\",\"name\":\"Range1d\",\"id\":\"b41bd63f-78dd-4d93-b92f-b3c36d3171cf\",\"attributes\":{\"name\":\"y\",\"tags\":[[[\"y\",null]],{\"type\":\"map\",\"entries\":[[\"invert_yaxis\",false],[\"autorange\",false]]}],\"start\":-0.2,\"end\":2.2,\"reset_start\":-0.2,\"reset_end\":2.2}},\"x_scale\":{\"type\":\"object\",\"name\":\"LinearScale\",\"id\":\"6d13029f-bd65-4b1c-bcc8-a68ff15886ed\"},\"y_scale\":{\"type\":\"object\",\"name\":\"LinearScale\",\"id\":\"f6f038ff-b42b-463f-916f-e34f62a9a6dd\"},\"title\":{\"type\":\"object\",\"name\":\"Title\",\"id\":\"96261338-4d1f-42e5-98fa-8dac33de4d13\",\"attributes\":{\"text\":\"Default: 0\",\"text_color\":\"black\",\"text_font_size\":\"12pt\"}},\"renderers\":[{\"type\":\"object\",\"name\":\"GlyphRenderer\",\"id\":\"999ab3c2-f846-474e-a4f3-66f2721432ae\",\"attributes\":{\"data_source\":{\"type\":\"object\",\"name\":\"ColumnDataSource\",\"id\":\"f1563dd1-7f52-4c4e-b8a7-cd65887ea84c\",\"attributes\":{\"selected\":{\"type\":\"object\",\"name\":\"Selection\",\"id\":\"d27f1ee9-652b-47c1-9faf-f36c54b22e45\",\"attributes\":{\"indices\":[],\"line_indices\":[]}},\"selection_policy\":{\"type\":\"object\",\"name\":\"UnionRenderers\",\"id\":\"7bd01a60-3fcc-45f6-87cd-cd6734e42ed7\"},\"data\":{\"type\":\"map\",\"entries\":[[\"x\",{\"type\":\"ndarray\",\"array\":{\"type\":\"bytes\",\"data\":\"AAAAAAEAAAACAAAA\"},\"shape\":[3],\"dtype\":\"int32\",\"order\":\"little\"}],[\"y\",{\"type\":\"ndarray\",\"array\":{\"type\":\"bytes\",\"data\":\"AQAAAAIAAAAAAAAA\"},\"shape\":[3],\"dtype\":\"int32\",\"order\":\"little\"}]]}}},\"view\":{\"type\":\"object\",\"name\":\"CDSView\",\"id\":\"b06d566a-5db0-40d4-80d6-3bf387fc6c3a\",\"attributes\":{\"filter\":{\"type\":\"object\",\"name\":\"AllIndices\",\"id\":\"764e2dfa-5efb-4060-8f50-aa4f5ad0b866\"}}},\"glyph\":{\"type\":\"object\",\"name\":\"Line\",\"id\":\"16d6ad41-2c6c-4496-ae32-6e9f1567238f\",\"attributes\":{\"tags\":[\"apply_ranges\"],\"x\":{\"type\":\"field\",\"field\":\"x\"},\"y\":{\"type\":\"field\",\"field\":\"y\"},\"line_color\":\"#30a2da\",\"line_width\":2}},\"selection_glyph\":{\"type\":\"object\",\"name\":\"Line\",\"id\":\"0b93be29-3444-423a-8de3-656e9d63dad8\",\"attributes\":{\"tags\":[\"apply_ranges\"],\"x\":{\"type\":\"field\",\"field\":\"x\"},\"y\":{\"type\":\"field\",\"field\":\"y\"},\"line_color\":\"#30a2da\",\"line_width\":2}},\"nonselection_glyph\":{\"type\":\"object\",\"name\":\"Line\",\"id\":\"69312a07-eb16-42e3-b0e3-20a37aae21d5\",\"attributes\":{\"tags\":[\"apply_ranges\"],\"x\":{\"type\":\"field\",\"field\":\"x\"},\"y\":{\"type\":\"field\",\"field\":\"y\"},\"line_color\":\"#30a2da\",\"line_alpha\":0.1,\"line_width\":2}},\"muted_glyph\":{\"type\":\"object\",\"name\":\"Line\",\"id\":\"02102d2e-5410-43aa-b928-20da083b0fa3\",\"attributes\":{\"tags\":[\"apply_ranges\"],\"x\":{\"type\":\"field\",\"field\":\"x\"},\"y\":{\"type\":\"field\",\"field\":\"y\"},\"line_color\":\"#30a2da\",\"line_alpha\":0.2,\"line_width\":2}}}}],\"toolbar\":{\"type\":\"object\",\"name\":\"Toolbar\",\"id\":\"4d864002-b906-4ea0-95d6-2a7f8ea45cde\",\"attributes\":{\"tools\":[{\"type\":\"object\",\"name\":\"WheelZoomTool\",\"id\":\"491df023-d999-4cc9-94cd-9a517060d4ed\",\"attributes\":{\"tags\":[\"hv_created\"],\"renderers\":\"auto\",\"zoom_together\":\"none\"}},{\"type\":\"object\",\"name\":\"SaveTool\",\"id\":\"c629c012-f058-4d8d-a3b4-277d2962c5fb\"},{\"type\":\"object\",\"name\":\"PanTool\",\"id\":\"f27229eb-da23-4889-a03a-88ff37a63e9e\"},{\"type\":\"object\",\"name\":\"BoxZoomTool\",\"id\":\"ee804c13-0653-4efb-8f00-465c1504327a\",\"attributes\":{\"overlay\":{\"type\":\"object\",\"name\":\"BoxAnnotation\",\"id\":\"5310f136-79bf-4764-a5e7-723fa4d24c55\",\"attributes\":{\"syncable\":false,\"line_color\":\"black\",\"line_alpha\":1.0,\"line_width\":2,\"line_dash\":[4,4],\"fill_color\":\"lightgrey\",\"fill_alpha\":0.5,\"level\":\"overlay\",\"visible\":false,\"left\":{\"type\":\"number\",\"value\":\"nan\"},\"right\":{\"type\":\"number\",\"value\":\"nan\"},\"top\":{\"type\":\"number\",\"value\":\"nan\"},\"bottom\":{\"type\":\"number\",\"value\":\"nan\"},\"left_units\":\"canvas\",\"right_units\":\"canvas\",\"top_units\":\"canvas\",\"bottom_units\":\"canvas\",\"handles\":{\"type\":\"object\",\"name\":\"BoxInteractionHandles\",\"id\":\"109d377e-449b-4e2e-b8f5-04ea08c6ba30\",\"attributes\":{\"all\":{\"type\":\"object\",\"name\":\"AreaVisuals\",\"id\":\"8f2198d9-4fc5-40c3-83bb-cd1030c91059\",\"attributes\":{\"fill_color\":\"white\",\"hover_fill_color\":\"lightgray\"}}}}}}}},{\"type\":\"object\",\"name\":\"ResetTool\",\"id\":\"5c5ec1e7-7ff1-465a-a26e-1446a16b46b0\"}],\"active_drag\":{\"id\":\"f27229eb-da23-4889-a03a-88ff37a63e9e\"},\"active_scroll\":{\"id\":\"491df023-d999-4cc9-94cd-9a517060d4ed\"}}},\"left\":[{\"type\":\"object\",\"name\":\"LinearAxis\",\"id\":\"bed1dd69-a19c-4940-9ecf-5020f2a9e9b0\",\"attributes\":{\"ticker\":{\"type\":\"object\",\"name\":\"BasicTicker\",\"id\":\"ae3b4d08-e043-41d9-93a7-2bd9b05a3b92\",\"attributes\":{\"mantissas\":[1,2,5]}},\"formatter\":{\"type\":\"object\",\"name\":\"BasicTickFormatter\",\"id\":\"10bb57fe-3764-49fc-8a47-6719c1a2a6ad\"},\"axis_label\":\"y\",\"major_label_policy\":{\"type\":\"object\",\"name\":\"AllLabels\",\"id\":\"3ffa9019-7ccb-470e-913a-fb8d82dce205\"}}}],\"below\":[{\"type\":\"object\",\"name\":\"LinearAxis\",\"id\":\"2c08e50e-fba4-4984-ac79-cf49a87b8bf3\",\"attributes\":{\"ticker\":{\"type\":\"object\",\"name\":\"BasicTicker\",\"id\":\"e8f970d4-61dc-4afd-98ba-ce5e6cf7c149\",\"attributes\":{\"mantissas\":[1,2,5]}},\"formatter\":{\"type\":\"object\",\"name\":\"BasicTickFormatter\",\"id\":\"dc5d5316-7591-4674-abd5-492119fd72fc\"},\"axis_label\":\"x\",\"major_label_policy\":{\"type\":\"object\",\"name\":\"AllLabels\",\"id\":\"4e64f3bd-c6f2-49b7-b3a6-d40b82f0aadb\"}}}],\"center\":[{\"type\":\"object\",\"name\":\"Grid\",\"id\":\"5080d4f3-c0a8-4c57-ae1a-64ea83b33c08\",\"attributes\":{\"axis\":{\"id\":\"2c08e50e-fba4-4984-ac79-cf49a87b8bf3\"},\"grid_line_color\":null}},{\"type\":\"object\",\"name\":\"Grid\",\"id\":\"395bc8eb-8441-461b-8813-53a402999643\",\"attributes\":{\"dimension\":1,\"axis\":{\"id\":\"bed1dd69-a19c-4940-9ecf-5020f2a9e9b0\"},\"grid_line_color\":null}}],\"min_border_top\":10,\"min_border_bottom\":10,\"min_border_left\":10,\"min_border_right\":10,\"output_backend\":\"webgl\",\"hold_render\":false}},{\"type\":\"object\",\"name\":\"Spacer\",\"id\":\"f8003c09-847c-4e2c-a44b-794999888b4d\",\"attributes\":{\"name\":\"HSpacer01466\",\"stylesheets\":[\"\\n:host(.pn-loading):before, .pn-loading:before {\\n  background-color: #c3c3c3;\\n  mask-size: auto calc(min(50%, 400px));\\n  -webkit-mask-size: auto calc(min(50%, 400px));\\n}\",{\"id\":\"7dbedb6e-7eea-4e7a-81f7-22afa0e79f3e\"},{\"id\":\"c4fe21d1-717f-46b8-b130-8c49ae8ab59e\"},{\"id\":\"d7dae9e6-1ee6-4ab2-a264-9e0263e9b57d\"}],\"margin\":0,\"sizing_mode\":\"stretch_width\",\"align\":\"start\"}},{\"type\":\"object\",\"name\":\"panel.models.layout.Column\",\"id\":\"d7b4652e-cb6f-49aa-82ba-1327cfdffe45\",\"attributes\":{\"name\":\"WidgetBox01451\",\"css_classes\":[\"panel-widget-box\"],\"stylesheets\":[\"\\n:host(.pn-loading):before, .pn-loading:before {\\n  background-color: #c3c3c3;\\n  mask-size: auto calc(min(50%, 400px));\\n  -webkit-mask-size: auto calc(min(50%, 400px));\\n}\",{\"id\":\"7dbedb6e-7eea-4e7a-81f7-22afa0e79f3e\"},{\"type\":\"object\",\"name\":\"ImportedStyleSheet\",\"id\":\"4180ce4d-278c-4712-9a28-0184ef5cd4af\",\"attributes\":{\"url\":\"https://cdn.holoviz.org/panel/1.5.2/dist/css/widgetbox.css\"}},{\"id\":\"137b8815-008d-4705-9fdd-2f72bc56a912\"},{\"id\":\"c4fe21d1-717f-46b8-b130-8c49ae8ab59e\"},{\"id\":\"d7dae9e6-1ee6-4ab2-a264-9e0263e9b57d\"}],\"margin\":0,\"align\":[\"end\",\"center\"],\"children\":[{\"type\":\"object\",\"name\":\"panel.models.layout.Column\",\"id\":\"e6c05702-02db-4dc9-99c9-c134ef4393eb\",\"attributes\":{\"name\":\"Column01460\",\"stylesheets\":[\"\\n:host(.pn-loading):before, .pn-loading:before {\\n  background-color: #c3c3c3;\\n  mask-size: auto calc(min(50%, 400px));\\n  -webkit-mask-size: auto calc(min(50%, 400px));\\n}\",{\"id\":\"7dbedb6e-7eea-4e7a-81f7-22afa0e79f3e\"},{\"id\":\"137b8815-008d-4705-9fdd-2f72bc56a912\"},{\"id\":\"c4fe21d1-717f-46b8-b130-8c49ae8ab59e\"},{\"id\":\"d7dae9e6-1ee6-4ab2-a264-9e0263e9b57d\"}],\"margin\":0,\"align\":\"start\",\"children\":[{\"type\":\"object\",\"name\":\"Div\",\"id\":\"3a48190a-2aca-4d6f-b6bc-c1d05d66c930\",\"attributes\":{\"stylesheets\":[\"\\n:host(.pn-loading):before, .pn-loading:before {\\n  background-color: #c3c3c3;\\n  mask-size: auto calc(min(50%, 400px));\\n  -webkit-mask-size: auto calc(min(50%, 400px));\\n}\",{\"id\":\"7dbedb6e-7eea-4e7a-81f7-22afa0e79f3e\"},{\"id\":\"c4fe21d1-717f-46b8-b130-8c49ae8ab59e\"},{\"id\":\"d7dae9e6-1ee6-4ab2-a264-9e0263e9b57d\"}],\"margin\":[5,0,0,10],\"align\":\"start\",\"text\":\"Default: <b>0</b>\"}},{\"type\":\"object\",\"name\":\"Slider\",\"id\":\"d435fa83-05b5-4ddc-b8e7-0c23d6de630e\",\"attributes\":{\"js_property_callbacks\":{\"type\":\"map\",\"entries\":[[\"change:value\",[{\"type\":\"object\",\"name\":\"CustomJS\",\"id\":\"043146f1-99d8-42ed-b4bd-708ae2255512\",\"attributes\":{\"tags\":[[11505763600,[null,\"value\"],[null,null]]],\"args\":{\"type\":\"map\",\"entries\":[[\"bidirectional\",false],[\"properties\",{\"type\":\"map\"}],[\"source\",{\"id\":\"d435fa83-05b5-4ddc-b8e7-0c23d6de630e\"}],[\"target\",{\"id\":\"3a48190a-2aca-4d6f-b6bc-c1d05d66c930\"}]]},\"code\":\"try { \\n    var labels = ['Default: <b>0</b>', 'Default: <b>1</b>', 'Default: <b>2</b>']\\n    target.text = labels[source.value]\\n     } catch(err) { console.log(err) }\"}},{\"type\":\"object\",\"name\":\"CustomJS\",\"id\":\"48b3d743-a84c-46a7-a8a1-e4330b590a7a\",\"attributes\":{\"code\":\"\\nvar state = null\\nfor (var root of cb_obj.document.roots()) {\\n  if (root.id == 'dc488991-7967-4996-9464-f57a1a00428f') {\\n    state = root;\\n    break;\\n  }\\n}\\nif (!state) { return; }\\nstate.set_state(cb_obj, cb_obj.value)\\n\"}}]]]},\"stylesheets\":[\"\\n:host(.pn-loading):before, .pn-loading:before {\\n  background-color: #c3c3c3;\\n  mask-size: auto calc(min(50%, 400px));\\n  -webkit-mask-size: auto calc(min(50%, 400px));\\n}\",{\"id\":\"7dbedb6e-7eea-4e7a-81f7-22afa0e79f3e\"},{\"id\":\"c4fe21d1-717f-46b8-b130-8c49ae8ab59e\"},{\"id\":\"d7dae9e6-1ee6-4ab2-a264-9e0263e9b57d\"}],\"margin\":[0,10,5,10],\"align\":\"start\",\"show_value\":false,\"tooltips\":false,\"start\":0,\"end\":2,\"value\":0}}]}}]}}]}},{\"type\":\"object\",\"name\":\"panel.models.state.State\",\"id\":\"dc488991-7967-4996-9464-f57a1a00428f\",\"attributes\":{\"state\":{\"type\":\"map\",\"entries\":[[2,{\"type\":\"map\",\"entries\":[[\"header\",\"{\\\"msgid\\\": \\\"fa26f2ff-e710-4abd-abf1-435b02eff53b\\\", \\\"msgtype\\\": \\\"PATCH-DOC\\\"}\"],[\"metadata\",\"{\\\"use_buffers\\\": false}\"],[\"content\",\"{\\\"events\\\":[{\\\"kind\\\":\\\"ModelChanged\\\",\\\"model\\\":{\\\"id\\\":\\\"3a48190a-2aca-4d6f-b6bc-c1d05d66c930\\\"},\\\"attr\\\":\\\"text\\\",\\\"new\\\":\\\"Default: <b>2</b>\\\"},{\\\"kind\\\":\\\"ModelChanged\\\",\\\"model\\\":{\\\"id\\\":\\\"947ab8ae-d3e3-44f5-830c-0e06f4433e75\\\"},\\\"attr\\\":\\\"hold_render\\\",\\\"new\\\":false},{\\\"kind\\\":\\\"ModelChanged\\\",\\\"model\\\":{\\\"id\\\":\\\"96261338-4d1f-42e5-98fa-8dac33de4d13\\\"},\\\"attr\\\":\\\"text\\\",\\\"new\\\":\\\"Default: 2\\\"},{\\\"kind\\\":\\\"ColumnDataChanged\\\",\\\"model\\\":{\\\"id\\\":\\\"f1563dd1-7f52-4c4e-b8a7-cd65887ea84c\\\"},\\\"attr\\\":\\\"data\\\",\\\"data\\\":{\\\"type\\\":\\\"map\\\",\\\"entries\\\":[[\\\"y\\\",{\\\"type\\\":\\\"ndarray\\\",\\\"array\\\":{\\\"type\\\":\\\"bytes\\\",\\\"data\\\":\\\"AQAAAAIAAAACAAAA\\\"},\\\"shape\\\":[3],\\\"dtype\\\":\\\"int32\\\",\\\"order\\\":\\\"little\\\"}],[\\\"x\\\",{\\\"type\\\":\\\"ndarray\\\",\\\"array\\\":{\\\"type\\\":\\\"bytes\\\",\\\"data\\\":\\\"AAAAAAEAAAACAAAA\\\"},\\\"shape\\\":[3],\\\"dtype\\\":\\\"int32\\\",\\\"order\\\":\\\"little\\\"}]]},\\\"cols\\\":[\\\"y\\\",\\\"x\\\"]}]}\"]]}],[1,{\"type\":\"map\",\"entries\":[[\"header\",\"{\\\"msgid\\\": \\\"0ba1083e-848c-4a25-8077-cca5a9e9f12d\\\", \\\"msgtype\\\": \\\"PATCH-DOC\\\"}\"],[\"metadata\",\"{\\\"use_buffers\\\": false}\"],[\"content\",\"{\\\"events\\\":[{\\\"kind\\\":\\\"ModelChanged\\\",\\\"model\\\":{\\\"id\\\":\\\"3a48190a-2aca-4d6f-b6bc-c1d05d66c930\\\"},\\\"attr\\\":\\\"text\\\",\\\"new\\\":\\\"Default: <b>1</b>\\\"},{\\\"kind\\\":\\\"ModelChanged\\\",\\\"model\\\":{\\\"id\\\":\\\"947ab8ae-d3e3-44f5-830c-0e06f4433e75\\\"},\\\"attr\\\":\\\"hold_render\\\",\\\"new\\\":false},{\\\"kind\\\":\\\"ModelChanged\\\",\\\"model\\\":{\\\"id\\\":\\\"96261338-4d1f-42e5-98fa-8dac33de4d13\\\"},\\\"attr\\\":\\\"text\\\",\\\"new\\\":\\\"Default: 1\\\"},{\\\"kind\\\":\\\"ColumnDataChanged\\\",\\\"model\\\":{\\\"id\\\":\\\"f1563dd1-7f52-4c4e-b8a7-cd65887ea84c\\\"},\\\"attr\\\":\\\"data\\\",\\\"data\\\":{\\\"type\\\":\\\"map\\\",\\\"entries\\\":[[\\\"y\\\",{\\\"type\\\":\\\"ndarray\\\",\\\"array\\\":{\\\"type\\\":\\\"bytes\\\",\\\"data\\\":\\\"AQAAAAIAAAABAAAA\\\"},\\\"shape\\\":[3],\\\"dtype\\\":\\\"int32\\\",\\\"order\\\":\\\"little\\\"}],[\\\"x\\\",{\\\"type\\\":\\\"ndarray\\\",\\\"array\\\":{\\\"type\\\":\\\"bytes\\\",\\\"data\\\":\\\"AAAAAAEAAAACAAAA\\\"},\\\"shape\\\":[3],\\\"dtype\\\":\\\"int32\\\",\\\"order\\\":\\\"little\\\"}]]},\\\"cols\\\":[\\\"y\\\",\\\"x\\\"]}]}\"]]}],[0,{\"type\":\"map\",\"entries\":[[\"header\",\"{\\\"msgid\\\": \\\"cec88ec4-36a0-4dc0-aa05-bbc3cd872429\\\", \\\"msgtype\\\": \\\"PATCH-DOC\\\"}\"],[\"metadata\",\"{\\\"use_buffers\\\": false}\"],[\"content\",\"{\\\"events\\\":[{\\\"kind\\\":\\\"ModelChanged\\\",\\\"model\\\":{\\\"id\\\":\\\"3a48190a-2aca-4d6f-b6bc-c1d05d66c930\\\"},\\\"attr\\\":\\\"text\\\",\\\"new\\\":\\\"Default: <b>0</b>\\\"},{\\\"kind\\\":\\\"ModelChanged\\\",\\\"model\\\":{\\\"id\\\":\\\"947ab8ae-d3e3-44f5-830c-0e06f4433e75\\\"},\\\"attr\\\":\\\"hold_render\\\",\\\"new\\\":false},{\\\"kind\\\":\\\"ModelChanged\\\",\\\"model\\\":{\\\"id\\\":\\\"96261338-4d1f-42e5-98fa-8dac33de4d13\\\"},\\\"attr\\\":\\\"text\\\",\\\"new\\\":\\\"Default: 0\\\"},{\\\"kind\\\":\\\"ColumnDataChanged\\\",\\\"model\\\":{\\\"id\\\":\\\"f1563dd1-7f52-4c4e-b8a7-cd65887ea84c\\\"},\\\"attr\\\":\\\"data\\\",\\\"data\\\":{\\\"type\\\":\\\"map\\\",\\\"entries\\\":[[\\\"y\\\",{\\\"type\\\":\\\"ndarray\\\",\\\"array\\\":{\\\"type\\\":\\\"bytes\\\",\\\"data\\\":\\\"AQAAAAIAAAAAAAAA\\\"},\\\"shape\\\":[3],\\\"dtype\\\":\\\"int32\\\",\\\"order\\\":\\\"little\\\"}],[\\\"x\\\",{\\\"type\\\":\\\"ndarray\\\",\\\"array\\\":{\\\"type\\\":\\\"bytes\\\",\\\"data\\\":\\\"AAAAAAEAAAACAAAA\\\"},\\\"shape\\\":[3],\\\"dtype\\\":\\\"int32\\\",\\\"order\\\":\\\"little\\\"}]]},\\\"cols\\\":[\\\"y\\\",\\\"x\\\"]}]}\"]]}]]},\"widgets\":{\"type\":\"map\",\"entries\":[[\"d435fa83-05b5-4ddc-b8e7-0c23d6de630e\",0]]},\"values\":[0]}}],\"defs\":[{\"type\":\"model\",\"name\":\"ReactiveHTML1\"},{\"type\":\"model\",\"name\":\"FlexBox1\",\"properties\":[{\"name\":\"align_content\",\"kind\":\"Any\",\"default\":\"flex-start\"},{\"name\":\"align_items\",\"kind\":\"Any\",\"default\":\"flex-start\"},{\"name\":\"flex_direction\",\"kind\":\"Any\",\"default\":\"row\"},{\"name\":\"flex_wrap\",\"kind\":\"Any\",\"default\":\"wrap\"},{\"name\":\"gap\",\"kind\":\"Any\",\"default\":\"\"},{\"name\":\"justify_content\",\"kind\":\"Any\",\"default\":\"flex-start\"}]},{\"type\":\"model\",\"name\":\"FloatPanel1\",\"properties\":[{\"name\":\"config\",\"kind\":\"Any\",\"default\":{\"type\":\"map\"}},{\"name\":\"contained\",\"kind\":\"Any\",\"default\":true},{\"name\":\"position\",\"kind\":\"Any\",\"default\":\"right-top\"},{\"name\":\"offsetx\",\"kind\":\"Any\",\"default\":null},{\"name\":\"offsety\",\"kind\":\"Any\",\"default\":null},{\"name\":\"theme\",\"kind\":\"Any\",\"default\":\"primary\"},{\"name\":\"status\",\"kind\":\"Any\",\"default\":\"normalized\"}]},{\"type\":\"model\",\"name\":\"GridStack1\",\"properties\":[{\"name\":\"mode\",\"kind\":\"Any\",\"default\":\"warn\"},{\"name\":\"ncols\",\"kind\":\"Any\",\"default\":null},{\"name\":\"nrows\",\"kind\":\"Any\",\"default\":null},{\"name\":\"allow_resize\",\"kind\":\"Any\",\"default\":true},{\"name\":\"allow_drag\",\"kind\":\"Any\",\"default\":true},{\"name\":\"state\",\"kind\":\"Any\",\"default\":[]}]},{\"type\":\"model\",\"name\":\"drag1\",\"properties\":[{\"name\":\"slider_width\",\"kind\":\"Any\",\"default\":5},{\"name\":\"slider_color\",\"kind\":\"Any\",\"default\":\"black\"},{\"name\":\"value\",\"kind\":\"Any\",\"default\":50}]},{\"type\":\"model\",\"name\":\"click1\",\"properties\":[{\"name\":\"terminal_output\",\"kind\":\"Any\",\"default\":\"\"},{\"name\":\"debug_name\",\"kind\":\"Any\",\"default\":\"\"},{\"name\":\"clears\",\"kind\":\"Any\",\"default\":0}]},{\"type\":\"model\",\"name\":\"FastWrapper1\",\"properties\":[{\"name\":\"object\",\"kind\":\"Any\",\"default\":null},{\"name\":\"style\",\"kind\":\"Any\",\"default\":null}]},{\"type\":\"model\",\"name\":\"NotificationAreaBase1\",\"properties\":[{\"name\":\"js_events\",\"kind\":\"Any\",\"default\":{\"type\":\"map\"}},{\"name\":\"position\",\"kind\":\"Any\",\"default\":\"bottom-right\"},{\"name\":\"_clear\",\"kind\":\"Any\",\"default\":0}]},{\"type\":\"model\",\"name\":\"NotificationArea1\",\"properties\":[{\"name\":\"js_events\",\"kind\":\"Any\",\"default\":{\"type\":\"map\"}},{\"name\":\"notifications\",\"kind\":\"Any\",\"default\":[]},{\"name\":\"position\",\"kind\":\"Any\",\"default\":\"bottom-right\"},{\"name\":\"_clear\",\"kind\":\"Any\",\"default\":0},{\"name\":\"types\",\"kind\":\"Any\",\"default\":[{\"type\":\"map\",\"entries\":[[\"type\",\"warning\"],[\"background\",\"#ffc107\"],[\"icon\",{\"type\":\"map\",\"entries\":[[\"className\",\"fas fa-exclamation-triangle\"],[\"tagName\",\"i\"],[\"color\",\"white\"]]}]]},{\"type\":\"map\",\"entries\":[[\"type\",\"info\"],[\"background\",\"#007bff\"],[\"icon\",{\"type\":\"map\",\"entries\":[[\"className\",\"fas fa-info-circle\"],[\"tagName\",\"i\"],[\"color\",\"white\"]]}]]}]}]},{\"type\":\"model\",\"name\":\"Notification\",\"properties\":[{\"name\":\"background\",\"kind\":\"Any\",\"default\":null},{\"name\":\"duration\",\"kind\":\"Any\",\"default\":3000},{\"name\":\"icon\",\"kind\":\"Any\",\"default\":null},{\"name\":\"message\",\"kind\":\"Any\",\"default\":\"\"},{\"name\":\"notification_type\",\"kind\":\"Any\",\"default\":null},{\"name\":\"_destroyed\",\"kind\":\"Any\",\"default\":false}]},{\"type\":\"model\",\"name\":\"TemplateActions1\",\"properties\":[{\"name\":\"open_modal\",\"kind\":\"Any\",\"default\":0},{\"name\":\"close_modal\",\"kind\":\"Any\",\"default\":0}]},{\"type\":\"model\",\"name\":\"BootstrapTemplateActions1\",\"properties\":[{\"name\":\"open_modal\",\"kind\":\"Any\",\"default\":0},{\"name\":\"close_modal\",\"kind\":\"Any\",\"default\":0}]},{\"type\":\"model\",\"name\":\"TemplateEditor1\",\"properties\":[{\"name\":\"layout\",\"kind\":\"Any\",\"default\":[]}]},{\"type\":\"model\",\"name\":\"MaterialTemplateActions1\",\"properties\":[{\"name\":\"open_modal\",\"kind\":\"Any\",\"default\":0},{\"name\":\"close_modal\",\"kind\":\"Any\",\"default\":0}]},{\"type\":\"model\",\"name\":\"ReactiveESM1\"},{\"type\":\"model\",\"name\":\"JSComponent1\"},{\"type\":\"model\",\"name\":\"ReactComponent1\"},{\"type\":\"model\",\"name\":\"AnyWidgetComponent1\"},{\"type\":\"model\",\"name\":\"request_value1\",\"properties\":[{\"name\":\"fill\",\"kind\":\"Any\",\"default\":\"none\"},{\"name\":\"_synced\",\"kind\":\"Any\",\"default\":null},{\"name\":\"_request_sync\",\"kind\":\"Any\",\"default\":0}]}]}};\n",
       "  var render_items = [{\"docid\":\"46ec4270-abd7-4f72-b31f-f8726175ed91\",\"roots\":{\"30902f7d-bba6-4464-a2d9-d59db7873a13\":\"c40d1176-acf8-4ce1-a55c-8bf26342f0c4\"},\"root_ids\":[\"30902f7d-bba6-4464-a2d9-d59db7873a13\"]}];\n",
       "  var docs = Object.values(docs_json)\n",
       "  if (!docs) {\n",
       "    return\n",
       "  }\n",
       "  const py_version = docs[0].version.replace('rc', '-rc.').replace('.dev', '-dev.')\n",
       "  async function embed_document(root) {\n",
       "    var Bokeh = get_bokeh(root)\n",
       "    await Bokeh.embed.embed_items_notebook(docs_json, render_items);\n",
       "    for (const render_item of render_items) {\n",
       "      for (const root_id of render_item.root_ids) {\n",
       "\tconst id_el = document.getElementById(root_id)\n",
       "\tif (id_el.children.length && id_el.children[0].hasAttribute('data-root-id')) {\n",
       "\t  const root_el = id_el.children[0]\n",
       "\t  root_el.id = root_el.id + '-rendered'\n",
       "\t  for (const child of root_el.children) {\n",
       "            // Ensure JupyterLab does not capture keyboard shortcuts\n",
       "            // see: https://jupyterlab.readthedocs.io/en/4.1.x/extension/notebook.html#keyboard-interaction-model\n",
       "\t    child.setAttribute('data-lm-suppress-shortcuts', 'true')\n",
       "\t  }\n",
       "\t}\n",
       "      }\n",
       "    }\n",
       "  }\n",
       "  function get_bokeh(root) {\n",
       "    if (root.Bokeh === undefined) {\n",
       "      return null\n",
       "    } else if (root.Bokeh.version !== py_version) {\n",
       "      if (root.Bokeh.versions === undefined || !root.Bokeh.versions.has(py_version)) {\n",
       "\treturn null\n",
       "      }\n",
       "      return root.Bokeh.versions.get(py_version);\n",
       "    } else if (root.Bokeh.version === py_version) {\n",
       "      return root.Bokeh\n",
       "    }\n",
       "    return null\n",
       "  }\n",
       "  function is_loaded(root) {\n",
       "    var Bokeh = get_bokeh(root)\n",
       "    return (Bokeh != null && Bokeh.Panel !== undefined)\n",
       "  }\n",
       "  if (is_loaded(root)) {\n",
       "    embed_document(root);\n",
       "  } else {\n",
       "    var attempts = 0;\n",
       "    var timer = setInterval(function(root) {\n",
       "      if (is_loaded(root)) {\n",
       "        clearInterval(timer);\n",
       "        embed_document(root);\n",
       "      } else if (document.readyState == \"complete\") {\n",
       "        attempts++;\n",
       "        if (attempts > 200) {\n",
       "          clearInterval(timer);\n",
       "\t  var Bokeh = get_bokeh(root)\n",
       "\t  if (Bokeh == null || Bokeh.Panel == null) {\n",
       "            console.warn(\"Panel: ERROR: Unable to run Panel code because Bokeh or Panel library is missing\");\n",
       "\t  } else {\n",
       "\t    console.warn(\"Panel: WARNING: Attempting to render but not all required libraries could be resolved.\")\n",
       "\t    embed_document(root)\n",
       "\t  }\n",
       "        }\n",
       "      }\n",
       "    }, 25, root)\n",
       "  }\n",
       "})(window);</script>"
      ],
      "text/plain": [
       ":HoloMap   [Default]\n",
       "   :Curve   [x]   (y)"
      ]
     },
     "execution_count": 132,
     "metadata": {
      "application/vnd.holoviews_exec.v0+json": {
       "id": "30902f7d-bba6-4464-a2d9-d59db7873a13"
      }
     },
     "output_type": "execute_result"
    }
   ],
   "source": [
    "hv.HoloMap({i: hv.Curve([(0, 1), (1, 2), (2, i)]) for i in range(3)})"
   ]
  },
  {
   "cell_type": "code",
   "execution_count": 131,
   "id": "da24aed3-aa80-4ad5-aa12-8b0c53d47da8",
   "metadata": {},
   "outputs": [
    {
     "data": {
      "text/plain": [
       "defaultdict(dict,\n",
       "            {'html+js': {holoviews.core.dimension.LabelledData: <function holoviews.ipython.display_hooks.pprint_display(obj)>},\n",
       "             'png': {holoviews.core.dimension.LabelledData: <function holoviews.ipython.display_hooks.png_display(element, max_frames)>},\n",
       "             'svg': {holoviews.core.dimension.LabelledData: <function holoviews.ipython.display_hooks.svg_display(element, max_frames)>}})"
      ]
     },
     "execution_count": 131,
     "metadata": {},
     "output_type": "execute_result"
    }
   ],
   "source": [
    "hv.Store._display_hooks"
   ]
  },
  {
   "cell_type": "code",
   "execution_count": 130,
   "id": "ce8f644a-3bfc-41cd-b930-e4213d1754ab",
   "metadata": {},
   "outputs": [
    {
     "data": {
      "text/plain": [
       "\u001b[0;31mSignature:\u001b[0m \u001b[0mhv\u001b[0m\u001b[0;34m.\u001b[0m\u001b[0mStore\u001b[0m\u001b[0;34m.\u001b[0m\u001b[0mrender\u001b[0m\u001b[0;34m(\u001b[0m\u001b[0mobj\u001b[0m\u001b[0;34m)\u001b[0m\u001b[0;34m\u001b[0m\u001b[0;34m\u001b[0m\u001b[0m\n",
       "\u001b[0;31mSource:\u001b[0m   \n",
       "    \u001b[0;34m@\u001b[0m\u001b[0mclassmethod\u001b[0m\u001b[0;34m\u001b[0m\n",
       "\u001b[0;34m\u001b[0m    \u001b[0;32mdef\u001b[0m \u001b[0mrender\u001b[0m\u001b[0;34m(\u001b[0m\u001b[0mcls\u001b[0m\u001b[0;34m,\u001b[0m \u001b[0mobj\u001b[0m\u001b[0;34m)\u001b[0m\u001b[0;34m:\u001b[0m\u001b[0;34m\u001b[0m\n",
       "\u001b[0;34m\u001b[0m        \u001b[0;34m\"\"\"\u001b[0m\n",
       "\u001b[0;34m        Using any display hooks that have been registered, render the\u001b[0m\n",
       "\u001b[0;34m        object to a dictionary of MIME types and metadata information.\u001b[0m\n",
       "\u001b[0;34m        \"\"\"\u001b[0m\u001b[0;34m\u001b[0m\n",
       "\u001b[0;34m\u001b[0m        \u001b[0mclass_hierarchy\u001b[0m \u001b[0;34m=\u001b[0m \u001b[0minspect\u001b[0m\u001b[0;34m.\u001b[0m\u001b[0mgetmro\u001b[0m\u001b[0;34m(\u001b[0m\u001b[0mtype\u001b[0m\u001b[0;34m(\u001b[0m\u001b[0mobj\u001b[0m\u001b[0;34m)\u001b[0m\u001b[0;34m)\u001b[0m\u001b[0;34m\u001b[0m\n",
       "\u001b[0;34m\u001b[0m        \u001b[0mhooks\u001b[0m \u001b[0;34m=\u001b[0m \u001b[0;34m[\u001b[0m\u001b[0;34m]\u001b[0m\u001b[0;34m\u001b[0m\n",
       "\u001b[0;34m\u001b[0m        \u001b[0;32mfor\u001b[0m \u001b[0m_\u001b[0m\u001b[0;34m,\u001b[0m \u001b[0mtype_hooks\u001b[0m \u001b[0;32min\u001b[0m \u001b[0mcls\u001b[0m\u001b[0;34m.\u001b[0m\u001b[0m_display_hooks\u001b[0m\u001b[0;34m.\u001b[0m\u001b[0mitems\u001b[0m\u001b[0;34m(\u001b[0m\u001b[0;34m)\u001b[0m\u001b[0;34m:\u001b[0m\u001b[0;34m\u001b[0m\n",
       "\u001b[0;34m\u001b[0m            \u001b[0;32mfor\u001b[0m \u001b[0msubcls\u001b[0m \u001b[0;32min\u001b[0m \u001b[0mclass_hierarchy\u001b[0m\u001b[0;34m:\u001b[0m\u001b[0;34m\u001b[0m\n",
       "\u001b[0;34m\u001b[0m                \u001b[0;32mif\u001b[0m \u001b[0msubcls\u001b[0m \u001b[0;32min\u001b[0m \u001b[0mtype_hooks\u001b[0m\u001b[0;34m:\u001b[0m\u001b[0;34m\u001b[0m\n",
       "\u001b[0;34m\u001b[0m                    \u001b[0mhooks\u001b[0m\u001b[0;34m.\u001b[0m\u001b[0mappend\u001b[0m\u001b[0;34m(\u001b[0m\u001b[0mtype_hooks\u001b[0m\u001b[0;34m[\u001b[0m\u001b[0msubcls\u001b[0m\u001b[0;34m]\u001b[0m\u001b[0;34m)\u001b[0m\u001b[0;34m\u001b[0m\n",
       "\u001b[0;34m\u001b[0m                    \u001b[0;32mbreak\u001b[0m\u001b[0;34m\u001b[0m\n",
       "\u001b[0;34m\u001b[0m\u001b[0;34m\u001b[0m\n",
       "\u001b[0;34m\u001b[0m        \u001b[0mdata\u001b[0m\u001b[0;34m,\u001b[0m \u001b[0mmetadata\u001b[0m \u001b[0;34m=\u001b[0m \u001b[0;34m{\u001b[0m\u001b[0;34m}\u001b[0m\u001b[0;34m,\u001b[0m \u001b[0;34m{\u001b[0m\u001b[0;34m}\u001b[0m\u001b[0;34m\u001b[0m\n",
       "\u001b[0;34m\u001b[0m        \u001b[0;32mfor\u001b[0m \u001b[0mhook\u001b[0m \u001b[0;32min\u001b[0m \u001b[0mhooks\u001b[0m\u001b[0;34m:\u001b[0m\u001b[0;34m\u001b[0m\n",
       "\u001b[0;34m\u001b[0m            \u001b[0mret\u001b[0m \u001b[0;34m=\u001b[0m \u001b[0mhook\u001b[0m\u001b[0;34m(\u001b[0m\u001b[0mobj\u001b[0m\u001b[0;34m)\u001b[0m\u001b[0;34m\u001b[0m\n",
       "\u001b[0;34m\u001b[0m            \u001b[0;32mif\u001b[0m \u001b[0mret\u001b[0m \u001b[0;32mis\u001b[0m \u001b[0;32mNone\u001b[0m\u001b[0;34m:\u001b[0m\u001b[0;34m\u001b[0m\n",
       "\u001b[0;34m\u001b[0m                \u001b[0;32mcontinue\u001b[0m\u001b[0;34m\u001b[0m\n",
       "\u001b[0;34m\u001b[0m            \u001b[0md\u001b[0m\u001b[0;34m,\u001b[0m \u001b[0mmd\u001b[0m \u001b[0;34m=\u001b[0m \u001b[0mret\u001b[0m\u001b[0;34m\u001b[0m\n",
       "\u001b[0;34m\u001b[0m            \u001b[0mdata\u001b[0m\u001b[0;34m.\u001b[0m\u001b[0mupdate\u001b[0m\u001b[0;34m(\u001b[0m\u001b[0md\u001b[0m\u001b[0;34m)\u001b[0m\u001b[0;34m\u001b[0m\n",
       "\u001b[0;34m\u001b[0m            \u001b[0mmetadata\u001b[0m\u001b[0;34m.\u001b[0m\u001b[0mupdate\u001b[0m\u001b[0;34m(\u001b[0m\u001b[0mmd\u001b[0m\u001b[0;34m)\u001b[0m\u001b[0;34m\u001b[0m\n",
       "\u001b[0;34m\u001b[0m        \u001b[0;32mreturn\u001b[0m \u001b[0mdata\u001b[0m\u001b[0;34m,\u001b[0m \u001b[0mmetadata\u001b[0m\u001b[0;34m\u001b[0m\u001b[0;34m\u001b[0m\u001b[0m\n",
       "\u001b[0;31mFile:\u001b[0m      ~/development/holoviews/holoviews/core/options.py\n",
       "\u001b[0;31mType:\u001b[0m      method"
      ]
     },
     "metadata": {},
     "output_type": "display_data"
    }
   ],
   "source": [
    "hv.Store.render??"
   ]
  },
  {
   "cell_type": "code",
   "execution_count": 129,
   "id": "d2a417ec-c483-4d0c-85c6-cfbc03f653b2",
   "metadata": {},
   "outputs": [
    {
     "data": {
      "text/plain": [
       "\u001b[0;31mSignature:\u001b[0m \u001b[0mhv_obj\u001b[0m\u001b[0;34m.\u001b[0m\u001b[0m_repr_mimebundle_\u001b[0m\u001b[0;34m(\u001b[0m\u001b[0minclude\u001b[0m\u001b[0;34m=\u001b[0m\u001b[0;32mNone\u001b[0m\u001b[0;34m,\u001b[0m \u001b[0mexclude\u001b[0m\u001b[0;34m=\u001b[0m\u001b[0;32mNone\u001b[0m\u001b[0;34m)\u001b[0m\u001b[0;34m\u001b[0m\u001b[0;34m\u001b[0m\u001b[0m\n",
       "\u001b[0;31mSource:\u001b[0m   \n",
       "    \u001b[0;32mdef\u001b[0m \u001b[0m_repr_mimebundle_\u001b[0m\u001b[0;34m(\u001b[0m\u001b[0mself\u001b[0m\u001b[0;34m,\u001b[0m \u001b[0minclude\u001b[0m\u001b[0;34m=\u001b[0m\u001b[0;32mNone\u001b[0m\u001b[0;34m,\u001b[0m \u001b[0mexclude\u001b[0m\u001b[0;34m=\u001b[0m\u001b[0;32mNone\u001b[0m\u001b[0;34m)\u001b[0m\u001b[0;34m:\u001b[0m\u001b[0;34m\u001b[0m\n",
       "\u001b[0;34m\u001b[0m        \u001b[0;34m\"\"\"\u001b[0m\n",
       "\u001b[0;34m        Resolves the class hierarchy for the class rendering the\u001b[0m\n",
       "\u001b[0;34m        object using any display hooks registered on Store.display\u001b[0m\n",
       "\u001b[0;34m        hooks.  The output of all registered display_hooks is then\u001b[0m\n",
       "\u001b[0;34m        combined and returned.\u001b[0m\n",
       "\u001b[0;34m        \"\"\"\u001b[0m\u001b[0;34m\u001b[0m\n",
       "\u001b[0;34m\u001b[0m        \u001b[0;32mreturn\u001b[0m \u001b[0mStore\u001b[0m\u001b[0;34m.\u001b[0m\u001b[0mrender\u001b[0m\u001b[0;34m(\u001b[0m\u001b[0mself\u001b[0m\u001b[0;34m)\u001b[0m\u001b[0;34m\u001b[0m\u001b[0;34m\u001b[0m\u001b[0m\n",
       "\u001b[0;31mFile:\u001b[0m      ~/development/holoviews/holoviews/core/dimension.py\n",
       "\u001b[0;31mType:\u001b[0m      method"
      ]
     },
     "metadata": {},
     "output_type": "display_data"
    }
   ],
   "source": [
    "hv_obj._repr_mimebundle_"
   ]
  },
  {
   "cell_type": "markdown",
   "id": "4476fb91-efe5-4ac0-b764-5c99801bd9e0",
   "metadata": {},
   "source": [
    "## 4. Panel\n",
    "\n",
    "Panel is the final layer and is responsible for taking the underlying figure objects and rendering them in the browser.\n",
    "\n",
    "How precisely this works is backend dependent but effectively the `HoloViews` pane in Panel dispatches to the appropriate Pane type depending on the backend, specifically:\n",
    "\n",
    "- The Bokeh backend is rendered with the `Bokeh`\n",
    "- The Matplotlib backend is rendered with the `Matplotlib` pane.\n",
    "- The Plotly backend is rendered with the `Plotly` pane."
   ]
  },
  {
   "cell_type": "code",
   "execution_count": 144,
   "id": "e4d26094-3132-4b17-8f6a-8cab8272e521",
   "metadata": {},
   "outputs": [
    {
     "data": {},
     "metadata": {},
     "output_type": "display_data"
    },
    {
     "data": {},
     "metadata": {},
     "output_type": "display_data"
    },
    {
     "data": {
      "application/vnd.holoviews_exec.v0+json": "",
      "text/html": [
       "<div id='2485ccdb-1112-4ff6-aa91-729b4ac08522'>\n",
       "  <div id=\"b5a2e58e-2107-4f49-949d-ef310ab8fc1c\" data-root-id=\"2485ccdb-1112-4ff6-aa91-729b4ac08522\" style=\"display: contents;\"></div>\n",
       "</div>\n",
       "<script type=\"application/javascript\">(function(root) {\n",
       "  var docs_json = {\"83b979aa-f280-41c9-a4b2-6006b3af32d8\":{\"version\":\"3.6.0\",\"title\":\"Bokeh Application\",\"roots\":[{\"type\":\"object\",\"name\":\"Row\",\"id\":\"2485ccdb-1112-4ff6-aa91-729b4ac08522\",\"attributes\":{\"name\":\"Row01680\",\"stylesheets\":[\"\\n:host(.pn-loading):before, .pn-loading:before {\\n  background-color: #c3c3c3;\\n  mask-size: auto calc(min(50%, 400px));\\n  -webkit-mask-size: auto calc(min(50%, 400px));\\n}\",{\"type\":\"object\",\"name\":\"ImportedStyleSheet\",\"id\":\"1b4f78a4-af70-48d7-bd78-b55f1c848f53\",\"attributes\":{\"url\":\"https://cdn.holoviz.org/panel/1.5.2/dist/css/loading.css\"}},{\"type\":\"object\",\"name\":\"ImportedStyleSheet\",\"id\":\"c839c2e8-8c08-4f01-8b6a-ef3ab7c53763\",\"attributes\":{\"url\":\"https://cdn.holoviz.org/panel/1.5.2/dist/css/listpanel.css\"}},{\"type\":\"object\",\"name\":\"ImportedStyleSheet\",\"id\":\"4de3c595-0b26-4846-8f30-8dab7ffde4ea\",\"attributes\":{\"url\":\"https://cdn.holoviz.org/panel/1.5.2/dist/bundled/theme/default.css\"}},{\"type\":\"object\",\"name\":\"ImportedStyleSheet\",\"id\":\"1d29ec06-ef0f-4c06-bf09-10e3f9b569a2\",\"attributes\":{\"url\":\"https://cdn.holoviz.org/panel/1.5.2/dist/bundled/theme/native.css\"}}],\"margin\":0,\"align\":\"start\",\"children\":[{\"type\":\"object\",\"name\":\"Figure\",\"id\":\"6774c64b-f223-429d-a531-bf0efc96d16e\",\"attributes\":{\"width\":300,\"height\":300,\"margin\":[5,10],\"sizing_mode\":\"fixed\",\"align\":\"start\",\"x_range\":{\"type\":\"object\",\"name\":\"Range1d\",\"id\":\"1bf1c07e-b508-42b0-a6df-14c6b2cc7b84\",\"attributes\":{\"name\":\"x\",\"tags\":[[[\"x\",null]],[]],\"end\":2.0,\"reset_start\":0.0,\"reset_end\":2.0}},\"y_range\":{\"type\":\"object\",\"name\":\"Range1d\",\"id\":\"cecdcb5c-6066-4c85-a329-0a661ef44edd\",\"attributes\":{\"name\":\"y\",\"tags\":[[[\"y\",null]],{\"type\":\"map\",\"entries\":[[\"invert_yaxis\",false],[\"autorange\",false]]}],\"start\":-0.2,\"end\":2.2,\"reset_start\":-0.2,\"reset_end\":2.2}},\"x_scale\":{\"type\":\"object\",\"name\":\"LinearScale\",\"id\":\"a25cb6ad-dc7f-4f73-b53a-eacd5b626c32\"},\"y_scale\":{\"type\":\"object\",\"name\":\"LinearScale\",\"id\":\"ba0771ed-9d67-4295-8cf9-36cb252b3cf1\"},\"title\":{\"type\":\"object\",\"name\":\"Title\",\"id\":\"d7676637-3b18-401c-8eeb-ca3e138a25df\",\"attributes\":{\"text\":\"Default: 0\",\"text_color\":\"black\",\"text_font_size\":\"12pt\"}},\"renderers\":[{\"type\":\"object\",\"name\":\"GlyphRenderer\",\"id\":\"49c3a1d3-4d87-4073-91cf-c5667b995e22\",\"attributes\":{\"data_source\":{\"type\":\"object\",\"name\":\"ColumnDataSource\",\"id\":\"46420ba1-fc5c-484a-b05f-2a220c915822\",\"attributes\":{\"selected\":{\"type\":\"object\",\"name\":\"Selection\",\"id\":\"b89e3d67-3835-4f71-a68e-1a5af700d2b3\",\"attributes\":{\"indices\":[],\"line_indices\":[]}},\"selection_policy\":{\"type\":\"object\",\"name\":\"UnionRenderers\",\"id\":\"30b4b747-e69d-42bd-b3ab-535cd11ecc97\"},\"data\":{\"type\":\"map\",\"entries\":[[\"x\",{\"type\":\"ndarray\",\"array\":{\"type\":\"bytes\",\"data\":\"AAAAAAEAAAACAAAA\"},\"shape\":[3],\"dtype\":\"int32\",\"order\":\"little\"}],[\"y\",{\"type\":\"ndarray\",\"array\":{\"type\":\"bytes\",\"data\":\"AQAAAAIAAAAAAAAA\"},\"shape\":[3],\"dtype\":\"int32\",\"order\":\"little\"}]]}}},\"view\":{\"type\":\"object\",\"name\":\"CDSView\",\"id\":\"301e3432-a9ff-45f6-829c-f063cd7eb9cc\",\"attributes\":{\"filter\":{\"type\":\"object\",\"name\":\"AllIndices\",\"id\":\"65b4d989-d80b-47b4-9002-6d37e5089c74\"}}},\"glyph\":{\"type\":\"object\",\"name\":\"Line\",\"id\":\"64df8707-a934-4316-882b-9bd2c4c33b5f\",\"attributes\":{\"tags\":[\"apply_ranges\"],\"x\":{\"type\":\"field\",\"field\":\"x\"},\"y\":{\"type\":\"field\",\"field\":\"y\"},\"line_color\":\"#30a2da\",\"line_width\":2}},\"selection_glyph\":{\"type\":\"object\",\"name\":\"Line\",\"id\":\"f02b94a9-7fda-442d-9b5f-9aba969f10b2\",\"attributes\":{\"tags\":[\"apply_ranges\"],\"x\":{\"type\":\"field\",\"field\":\"x\"},\"y\":{\"type\":\"field\",\"field\":\"y\"},\"line_color\":\"#30a2da\",\"line_width\":2}},\"nonselection_glyph\":{\"type\":\"object\",\"name\":\"Line\",\"id\":\"3ec220d8-e7b5-4b8a-bbd7-9cf699a9b218\",\"attributes\":{\"tags\":[\"apply_ranges\"],\"x\":{\"type\":\"field\",\"field\":\"x\"},\"y\":{\"type\":\"field\",\"field\":\"y\"},\"line_color\":\"#30a2da\",\"line_alpha\":0.1,\"line_width\":2}},\"muted_glyph\":{\"type\":\"object\",\"name\":\"Line\",\"id\":\"0ca1e055-f641-4097-a112-3680463807a9\",\"attributes\":{\"tags\":[\"apply_ranges\"],\"x\":{\"type\":\"field\",\"field\":\"x\"},\"y\":{\"type\":\"field\",\"field\":\"y\"},\"line_color\":\"#30a2da\",\"line_alpha\":0.2,\"line_width\":2}}}}],\"toolbar\":{\"type\":\"object\",\"name\":\"Toolbar\",\"id\":\"66ed3a7b-8b0a-42b0-9e39-6941c39b1ba8\",\"attributes\":{\"tools\":[{\"type\":\"object\",\"name\":\"WheelZoomTool\",\"id\":\"37b51ef2-59f0-4a6a-8aba-ecfb7bb81626\",\"attributes\":{\"tags\":[\"hv_created\"],\"renderers\":\"auto\",\"zoom_together\":\"none\"}},{\"type\":\"object\",\"name\":\"SaveTool\",\"id\":\"32949d59-0932-439a-ac8e-e54284279006\"},{\"type\":\"object\",\"name\":\"PanTool\",\"id\":\"fe7923de-7bf4-461c-9f79-01afa2ea2654\"},{\"type\":\"object\",\"name\":\"BoxZoomTool\",\"id\":\"c50e2769-adc6-411a-9bd5-49e22c8e6c4d\",\"attributes\":{\"overlay\":{\"type\":\"object\",\"name\":\"BoxAnnotation\",\"id\":\"98a951eb-1b48-4f7d-8bb5-98be97e07037\",\"attributes\":{\"syncable\":false,\"line_color\":\"black\",\"line_alpha\":1.0,\"line_width\":2,\"line_dash\":[4,4],\"fill_color\":\"lightgrey\",\"fill_alpha\":0.5,\"level\":\"overlay\",\"visible\":false,\"left\":{\"type\":\"number\",\"value\":\"nan\"},\"right\":{\"type\":\"number\",\"value\":\"nan\"},\"top\":{\"type\":\"number\",\"value\":\"nan\"},\"bottom\":{\"type\":\"number\",\"value\":\"nan\"},\"left_units\":\"canvas\",\"right_units\":\"canvas\",\"top_units\":\"canvas\",\"bottom_units\":\"canvas\",\"handles\":{\"type\":\"object\",\"name\":\"BoxInteractionHandles\",\"id\":\"92964c3d-0105-4400-9f5c-9f6f1ec42c92\",\"attributes\":{\"all\":{\"type\":\"object\",\"name\":\"AreaVisuals\",\"id\":\"2a20f8f5-6474-4729-a8e8-d788c4e105d4\",\"attributes\":{\"fill_color\":\"white\",\"hover_fill_color\":\"lightgray\"}}}}}}}},{\"type\":\"object\",\"name\":\"ResetTool\",\"id\":\"fb04bba7-8b23-4bf8-9711-a5d78ea99ccb\"}],\"active_drag\":{\"id\":\"fe7923de-7bf4-461c-9f79-01afa2ea2654\"},\"active_scroll\":{\"id\":\"37b51ef2-59f0-4a6a-8aba-ecfb7bb81626\"}}},\"left\":[{\"type\":\"object\",\"name\":\"LinearAxis\",\"id\":\"4f9bc28c-9d33-4052-bb69-7e1a8321fec8\",\"attributes\":{\"ticker\":{\"type\":\"object\",\"name\":\"BasicTicker\",\"id\":\"06a77f41-7a91-435c-a805-1096d0741a79\",\"attributes\":{\"mantissas\":[1,2,5]}},\"formatter\":{\"type\":\"object\",\"name\":\"BasicTickFormatter\",\"id\":\"f18fb83a-60fc-4ef9-b743-f245b550b91b\"},\"axis_label\":\"y\",\"major_label_policy\":{\"type\":\"object\",\"name\":\"AllLabels\",\"id\":\"8642989d-403f-4f05-b5a1-ac016f3fcb8e\"}}}],\"below\":[{\"type\":\"object\",\"name\":\"LinearAxis\",\"id\":\"d6837860-a9b8-466d-9b3f-21b870a0dade\",\"attributes\":{\"ticker\":{\"type\":\"object\",\"name\":\"BasicTicker\",\"id\":\"99b93af4-b739-42fe-9162-0fc9b9deb6f7\",\"attributes\":{\"mantissas\":[1,2,5]}},\"formatter\":{\"type\":\"object\",\"name\":\"BasicTickFormatter\",\"id\":\"a0ac33c5-887e-4a2c-96c5-1ca2cda4a54f\"},\"axis_label\":\"x\",\"major_label_policy\":{\"type\":\"object\",\"name\":\"AllLabels\",\"id\":\"e3e1247c-e87f-43af-adbc-a6c70a89d9dc\"}}}],\"center\":[{\"type\":\"object\",\"name\":\"Grid\",\"id\":\"746cb359-c187-4b58-a1c1-ab2623ead5d3\",\"attributes\":{\"axis\":{\"id\":\"d6837860-a9b8-466d-9b3f-21b870a0dade\"},\"grid_line_color\":null}},{\"type\":\"object\",\"name\":\"Grid\",\"id\":\"fabdf24d-54b9-4469-a213-bc767350adf3\",\"attributes\":{\"dimension\":1,\"axis\":{\"id\":\"4f9bc28c-9d33-4052-bb69-7e1a8321fec8\"},\"grid_line_color\":null}}],\"min_border_top\":10,\"min_border_bottom\":10,\"min_border_left\":10,\"min_border_right\":10,\"output_backend\":\"webgl\",\"hold_render\":false}},{\"type\":\"object\",\"name\":\"panel.models.layout.Column\",\"id\":\"a9018b63-fba6-4f4a-a5c8-9e0351fa2394\",\"attributes\":{\"name\":\"WidgetBox01681\",\"css_classes\":[\"panel-widget-box\"],\"stylesheets\":[\"\\n:host(.pn-loading):before, .pn-loading:before {\\n  background-color: #c3c3c3;\\n  mask-size: auto calc(min(50%, 400px));\\n  -webkit-mask-size: auto calc(min(50%, 400px));\\n}\",{\"id\":\"1b4f78a4-af70-48d7-bd78-b55f1c848f53\"},{\"type\":\"object\",\"name\":\"ImportedStyleSheet\",\"id\":\"207203aa-d4d3-45ea-ad37-158ff91f6d04\",\"attributes\":{\"url\":\"https://cdn.holoviz.org/panel/1.5.2/dist/css/widgetbox.css\"}},{\"id\":\"c839c2e8-8c08-4f01-8b6a-ef3ab7c53763\"},{\"id\":\"4de3c595-0b26-4846-8f30-8dab7ffde4ea\"},{\"id\":\"1d29ec06-ef0f-4c06-bf09-10e3f9b569a2\"}],\"margin\":0,\"align\":[\"end\",\"start\"],\"children\":[{\"type\":\"object\",\"name\":\"panel.models.layout.Column\",\"id\":\"9bc1f5c1-eabb-43d6-bce8-5c67fc89cbd0\",\"attributes\":{\"name\":\"Column01690\",\"stylesheets\":[\"\\n:host(.pn-loading):before, .pn-loading:before {\\n  background-color: #c3c3c3;\\n  mask-size: auto calc(min(50%, 400px));\\n  -webkit-mask-size: auto calc(min(50%, 400px));\\n}\",{\"id\":\"1b4f78a4-af70-48d7-bd78-b55f1c848f53\"},{\"id\":\"c839c2e8-8c08-4f01-8b6a-ef3ab7c53763\"},{\"id\":\"4de3c595-0b26-4846-8f30-8dab7ffde4ea\"},{\"id\":\"1d29ec06-ef0f-4c06-bf09-10e3f9b569a2\"}],\"margin\":0,\"align\":\"start\",\"children\":[{\"type\":\"object\",\"name\":\"Div\",\"id\":\"d619e3c9-3e33-44d1-acee-2fbda2c563e8\",\"attributes\":{\"stylesheets\":[\"\\n:host(.pn-loading):before, .pn-loading:before {\\n  background-color: #c3c3c3;\\n  mask-size: auto calc(min(50%, 400px));\\n  -webkit-mask-size: auto calc(min(50%, 400px));\\n}\",{\"id\":\"1b4f78a4-af70-48d7-bd78-b55f1c848f53\"},{\"id\":\"4de3c595-0b26-4846-8f30-8dab7ffde4ea\"},{\"id\":\"1d29ec06-ef0f-4c06-bf09-10e3f9b569a2\"}],\"margin\":[5,0,0,10],\"align\":\"start\",\"text\":\"Default: <b>0</b>\"}},{\"type\":\"object\",\"name\":\"Slider\",\"id\":\"93f8b9bb-99de-4490-afda-e9aa832974c1\",\"attributes\":{\"stylesheets\":[\"\\n:host(.pn-loading):before, .pn-loading:before {\\n  background-color: #c3c3c3;\\n  mask-size: auto calc(min(50%, 400px));\\n  -webkit-mask-size: auto calc(min(50%, 400px));\\n}\",{\"id\":\"1b4f78a4-af70-48d7-bd78-b55f1c848f53\"},{\"id\":\"4de3c595-0b26-4846-8f30-8dab7ffde4ea\"},{\"id\":\"1d29ec06-ef0f-4c06-bf09-10e3f9b569a2\"}],\"margin\":[0,10,5,10],\"align\":\"start\",\"show_value\":false,\"tooltips\":false,\"start\":0,\"end\":2,\"value\":0}}]}}]}}]}},{\"type\":\"object\",\"name\":\"panel.models.comm_manager.CommManager\",\"id\":\"e8f379e1-8590-4e1f-a22d-d70e33f30dc7\",\"attributes\":{\"plot_id\":\"2485ccdb-1112-4ff6-aa91-729b4ac08522\",\"comm_id\":\"f73dbffd04a44c3c84249cde8ccd9509\",\"client_comm_id\":\"c33de7ccc4bc45049b9d81680334bb0b\"}}],\"defs\":[{\"type\":\"model\",\"name\":\"ReactiveHTML1\"},{\"type\":\"model\",\"name\":\"FlexBox1\",\"properties\":[{\"name\":\"align_content\",\"kind\":\"Any\",\"default\":\"flex-start\"},{\"name\":\"align_items\",\"kind\":\"Any\",\"default\":\"flex-start\"},{\"name\":\"flex_direction\",\"kind\":\"Any\",\"default\":\"row\"},{\"name\":\"flex_wrap\",\"kind\":\"Any\",\"default\":\"wrap\"},{\"name\":\"gap\",\"kind\":\"Any\",\"default\":\"\"},{\"name\":\"justify_content\",\"kind\":\"Any\",\"default\":\"flex-start\"}]},{\"type\":\"model\",\"name\":\"FloatPanel1\",\"properties\":[{\"name\":\"config\",\"kind\":\"Any\",\"default\":{\"type\":\"map\"}},{\"name\":\"contained\",\"kind\":\"Any\",\"default\":true},{\"name\":\"position\",\"kind\":\"Any\",\"default\":\"right-top\"},{\"name\":\"offsetx\",\"kind\":\"Any\",\"default\":null},{\"name\":\"offsety\",\"kind\":\"Any\",\"default\":null},{\"name\":\"theme\",\"kind\":\"Any\",\"default\":\"primary\"},{\"name\":\"status\",\"kind\":\"Any\",\"default\":\"normalized\"}]},{\"type\":\"model\",\"name\":\"GridStack1\",\"properties\":[{\"name\":\"mode\",\"kind\":\"Any\",\"default\":\"warn\"},{\"name\":\"ncols\",\"kind\":\"Any\",\"default\":null},{\"name\":\"nrows\",\"kind\":\"Any\",\"default\":null},{\"name\":\"allow_resize\",\"kind\":\"Any\",\"default\":true},{\"name\":\"allow_drag\",\"kind\":\"Any\",\"default\":true},{\"name\":\"state\",\"kind\":\"Any\",\"default\":[]}]},{\"type\":\"model\",\"name\":\"drag1\",\"properties\":[{\"name\":\"slider_width\",\"kind\":\"Any\",\"default\":5},{\"name\":\"slider_color\",\"kind\":\"Any\",\"default\":\"black\"},{\"name\":\"value\",\"kind\":\"Any\",\"default\":50}]},{\"type\":\"model\",\"name\":\"click1\",\"properties\":[{\"name\":\"terminal_output\",\"kind\":\"Any\",\"default\":\"\"},{\"name\":\"debug_name\",\"kind\":\"Any\",\"default\":\"\"},{\"name\":\"clears\",\"kind\":\"Any\",\"default\":0}]},{\"type\":\"model\",\"name\":\"FastWrapper1\",\"properties\":[{\"name\":\"object\",\"kind\":\"Any\",\"default\":null},{\"name\":\"style\",\"kind\":\"Any\",\"default\":null}]},{\"type\":\"model\",\"name\":\"NotificationAreaBase1\",\"properties\":[{\"name\":\"js_events\",\"kind\":\"Any\",\"default\":{\"type\":\"map\"}},{\"name\":\"position\",\"kind\":\"Any\",\"default\":\"bottom-right\"},{\"name\":\"_clear\",\"kind\":\"Any\",\"default\":0}]},{\"type\":\"model\",\"name\":\"NotificationArea1\",\"properties\":[{\"name\":\"js_events\",\"kind\":\"Any\",\"default\":{\"type\":\"map\"}},{\"name\":\"notifications\",\"kind\":\"Any\",\"default\":[]},{\"name\":\"position\",\"kind\":\"Any\",\"default\":\"bottom-right\"},{\"name\":\"_clear\",\"kind\":\"Any\",\"default\":0},{\"name\":\"types\",\"kind\":\"Any\",\"default\":[{\"type\":\"map\",\"entries\":[[\"type\",\"warning\"],[\"background\",\"#ffc107\"],[\"icon\",{\"type\":\"map\",\"entries\":[[\"className\",\"fas fa-exclamation-triangle\"],[\"tagName\",\"i\"],[\"color\",\"white\"]]}]]},{\"type\":\"map\",\"entries\":[[\"type\",\"info\"],[\"background\",\"#007bff\"],[\"icon\",{\"type\":\"map\",\"entries\":[[\"className\",\"fas fa-info-circle\"],[\"tagName\",\"i\"],[\"color\",\"white\"]]}]]}]}]},{\"type\":\"model\",\"name\":\"Notification\",\"properties\":[{\"name\":\"background\",\"kind\":\"Any\",\"default\":null},{\"name\":\"duration\",\"kind\":\"Any\",\"default\":3000},{\"name\":\"icon\",\"kind\":\"Any\",\"default\":null},{\"name\":\"message\",\"kind\":\"Any\",\"default\":\"\"},{\"name\":\"notification_type\",\"kind\":\"Any\",\"default\":null},{\"name\":\"_destroyed\",\"kind\":\"Any\",\"default\":false}]},{\"type\":\"model\",\"name\":\"TemplateActions1\",\"properties\":[{\"name\":\"open_modal\",\"kind\":\"Any\",\"default\":0},{\"name\":\"close_modal\",\"kind\":\"Any\",\"default\":0}]},{\"type\":\"model\",\"name\":\"BootstrapTemplateActions1\",\"properties\":[{\"name\":\"open_modal\",\"kind\":\"Any\",\"default\":0},{\"name\":\"close_modal\",\"kind\":\"Any\",\"default\":0}]},{\"type\":\"model\",\"name\":\"TemplateEditor1\",\"properties\":[{\"name\":\"layout\",\"kind\":\"Any\",\"default\":[]}]},{\"type\":\"model\",\"name\":\"MaterialTemplateActions1\",\"properties\":[{\"name\":\"open_modal\",\"kind\":\"Any\",\"default\":0},{\"name\":\"close_modal\",\"kind\":\"Any\",\"default\":0}]},{\"type\":\"model\",\"name\":\"ReactiveESM1\"},{\"type\":\"model\",\"name\":\"JSComponent1\"},{\"type\":\"model\",\"name\":\"ReactComponent1\"},{\"type\":\"model\",\"name\":\"AnyWidgetComponent1\"},{\"type\":\"model\",\"name\":\"request_value1\",\"properties\":[{\"name\":\"fill\",\"kind\":\"Any\",\"default\":\"none\"},{\"name\":\"_synced\",\"kind\":\"Any\",\"default\":null},{\"name\":\"_request_sync\",\"kind\":\"Any\",\"default\":0}]}]}};\n",
       "  var render_items = [{\"docid\":\"83b979aa-f280-41c9-a4b2-6006b3af32d8\",\"roots\":{\"2485ccdb-1112-4ff6-aa91-729b4ac08522\":\"b5a2e58e-2107-4f49-949d-ef310ab8fc1c\"},\"root_ids\":[\"2485ccdb-1112-4ff6-aa91-729b4ac08522\"]}];\n",
       "  var docs = Object.values(docs_json)\n",
       "  if (!docs) {\n",
       "    return\n",
       "  }\n",
       "  const py_version = docs[0].version.replace('rc', '-rc.').replace('.dev', '-dev.')\n",
       "  async function embed_document(root) {\n",
       "    var Bokeh = get_bokeh(root)\n",
       "    await Bokeh.embed.embed_items_notebook(docs_json, render_items);\n",
       "    for (const render_item of render_items) {\n",
       "      for (const root_id of render_item.root_ids) {\n",
       "\tconst id_el = document.getElementById(root_id)\n",
       "\tif (id_el.children.length && id_el.children[0].hasAttribute('data-root-id')) {\n",
       "\t  const root_el = id_el.children[0]\n",
       "\t  root_el.id = root_el.id + '-rendered'\n",
       "\t  for (const child of root_el.children) {\n",
       "            // Ensure JupyterLab does not capture keyboard shortcuts\n",
       "            // see: https://jupyterlab.readthedocs.io/en/4.1.x/extension/notebook.html#keyboard-interaction-model\n",
       "\t    child.setAttribute('data-lm-suppress-shortcuts', 'true')\n",
       "\t  }\n",
       "\t}\n",
       "      }\n",
       "    }\n",
       "  }\n",
       "  function get_bokeh(root) {\n",
       "    if (root.Bokeh === undefined) {\n",
       "      return null\n",
       "    } else if (root.Bokeh.version !== py_version) {\n",
       "      if (root.Bokeh.versions === undefined || !root.Bokeh.versions.has(py_version)) {\n",
       "\treturn null\n",
       "      }\n",
       "      return root.Bokeh.versions.get(py_version);\n",
       "    } else if (root.Bokeh.version === py_version) {\n",
       "      return root.Bokeh\n",
       "    }\n",
       "    return null\n",
       "  }\n",
       "  function is_loaded(root) {\n",
       "    var Bokeh = get_bokeh(root)\n",
       "    return (Bokeh != null && Bokeh.Panel !== undefined)\n",
       "  }\n",
       "  if (is_loaded(root)) {\n",
       "    embed_document(root);\n",
       "  } else {\n",
       "    var attempts = 0;\n",
       "    var timer = setInterval(function(root) {\n",
       "      if (is_loaded(root)) {\n",
       "        clearInterval(timer);\n",
       "        embed_document(root);\n",
       "      } else if (document.readyState == \"complete\") {\n",
       "        attempts++;\n",
       "        if (attempts > 200) {\n",
       "          clearInterval(timer);\n",
       "\t  var Bokeh = get_bokeh(root)\n",
       "\t  if (Bokeh == null || Bokeh.Panel == null) {\n",
       "            console.warn(\"Panel: ERROR: Unable to run Panel code because Bokeh or Panel library is missing\");\n",
       "\t  } else {\n",
       "\t    console.warn(\"Panel: WARNING: Attempting to render but not all required libraries could be resolved.\")\n",
       "\t    embed_document(root)\n",
       "\t  }\n",
       "        }\n",
       "      }\n",
       "    }, 25, root)\n",
       "  }\n",
       "})(window);</script>"
      ],
      "text/plain": [
       "HoloViews(HoloMap, height=300, sizing_mode='fixed', width=300)"
      ]
     },
     "execution_count": 144,
     "metadata": {
      "application/vnd.holoviews_exec.v0+json": {
       "id": "2485ccdb-1112-4ff6-aa91-729b4ac08522"
      }
     },
     "output_type": "execute_result"
    }
   ],
   "source": [
    "import panel as pn\n",
    "\n",
    "hv_pane = pn.pane.HoloViews(hv.HoloMap({i: hv.Curve([(0, 1), (1, 2), (2, i)]) for i in range(3)}))\n",
    "\n",
    "hv_pane"
   ]
  },
  {
   "cell_type": "markdown",
   "id": "ea5a687b-89cd-4b31-848d-a077144635d4",
   "metadata": {},
   "source": [
    "Internally the `HoloViews` pane creates a layout that respects the centered option and optionally renders widgets originating from the `HoloMap` / `DynamicMap` dimensions:"
   ]
  },
  {
   "cell_type": "code",
   "execution_count": 138,
   "id": "4a2394fb-3809-4cd2-be7e-cd164d826d37",
   "metadata": {},
   "outputs": [
    {
     "name": "stdout",
     "output_type": "stream",
     "text": [
      "Row\n",
      "    [0] HoloViews(HoloMap, height=300, sizing_mode='fixed', width=300)\n",
      "    [1] WidgetBox(align=('end', 'start'))\n",
      "        [0] DiscreteSlider(formatter='%d', name='Default', options={'0': 0, '1': 1, '2': 2}, value=0)\n"
     ]
    }
   ],
   "source": [
    "print(hv_pane.layout)"
   ]
  },
  {
   "cell_type": "markdown",
   "id": "e9e38a0e-946d-4a65-8169-810413a133fa",
   "metadata": {},
   "source": [
    "It then invokes the `renderer` to create a HoloViews `Plot`:"
   ]
  },
  {
   "cell_type": "code",
   "execution_count": null,
   "id": "524f73b7-ff74-406b-87c5-1653f13a2186",
   "metadata": {},
   "outputs": [],
   "source": []
  },
  {
   "cell_type": "code",
   "execution_count": 145,
   "id": "222dc85f-7fe0-465c-99e4-d1dae0edb2c9",
   "metadata": {},
   "outputs": [
    {
     "data": {
      "text/plain": [
       "CurvePlot(active_tools=None, align='start', apply_extents=True, apply_hard_bounds=False, apply_ranges=True, aspect=None, autorange=None, backend_opts={}, bgcolor=None, border=10, data_aspect=None, default_span=2.0, default_tools=['save', 'pan', 'wheel_zoom', 'box_zoom', 'reset'], fontscale=None, fontsize={'title': '12pt'}, frame_height=None, frame_width=None, gridstyle={}, height=300, hooks=[], hover_formatters=None, hover_mode='mouse', hover_tooltips=None, interpolation='linear', invert_axes=False, invert_xaxis=False, invert_yaxis=False, labelled=['x', 'y'], lod={'factor': 10, 'interval': 300, 'threshold': 2000, 'timeout': 500}, logx=False, logy=False, margin=(5, 10), max_height=None, max_width=None, min_height=None, min_width=None, multi_y=False, name='CurvePlot01696', normalize=True, padding=(0, 0.1), projection=None, responsive=False, scalebar=False, scalebar_label='@{value} @{unit}', scalebar_location='bottom_right', scalebar_opts={}, scalebar_range='x', scalebar_tool=True, scalebar_unit=None, shared_axes=True, shared_datasource=True, show_frame=True, show_grid=False, show_legend=True, show_title=True, subcoordinate_scale=1, subcoordinate_y=False, title='{label} {group} {dimensions}', title_format=None, toolbar='right', tools=[], width=300, xaxis='bottom', xformatter=None, xlabel=None, xlim=(nan, nan), xrotation=None, xticks=None, yaxis='left', yformatter=None, ylabel=None, ylim=(nan, nan), yrotation=None, yticks=None, zlim=(nan, nan))"
      ]
     },
     "execution_count": 145,
     "metadata": {},
     "output_type": "execute_result"
    }
   ],
   "source": [
    "plot, pane = list(hv_pane._plots.values())[0]\n",
    "\n",
    "plot"
   ]
  },
  {
   "cell_type": "markdown",
   "id": "e46eadf5-ea2f-4d21-b64e-fdb55944fd27",
   "metadata": {},
   "source": [
    "and finally renders the resulting plot output into the corresponding `Pane`:\n"
   ]
  },
  {
   "cell_type": "code",
   "execution_count": 150,
   "id": "23d7dec6-941a-4845-b737-6906d52f6114",
   "metadata": {},
   "outputs": [
    {
     "name": "stdout",
     "output_type": "stream",
     "text": [
      "Bokeh(figure, autodispatch=False, height=300, sizing_mode='fixed', width=300)\n"
     ]
    }
   ],
   "source": [
    "print(pane)"
   ]
  },
  {
   "cell_type": "code",
   "execution_count": null,
   "id": "93971541-b296-4dd4-baf5-067a59cfe0bb",
   "metadata": {},
   "outputs": [],
   "source": []
  }
 ],
 "metadata": {
  "kernelspec": {
   "display_name": "Python 3 (ipykernel)",
   "language": "python",
   "name": "python3"
  },
  "language_info": {
   "codemirror_mode": {
    "name": "ipython",
    "version": 3
   },
   "file_extension": ".py",
   "mimetype": "text/x-python",
   "name": "python",
   "nbconvert_exporter": "python",
   "pygments_lexer": "ipython3",
   "version": "3.11.8"
  }
 },
 "nbformat": 4,
 "nbformat_minor": 5
}
