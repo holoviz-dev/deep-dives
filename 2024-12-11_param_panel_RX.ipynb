{
 "cells": [
  {
   "cell_type": "code",
   "execution_count": null,
   "id": "ecc86a67-2b2d-46bc-92a4-e5b3f0b0abc2",
   "metadata": {},
   "outputs": [],
   "source": [
    "import param\n",
    "import panel as pn\n",
    "\n",
    "pn.extension('tabulator')"
   ]
  },
  {
   "cell_type": "markdown",
   "id": "ebd5f6bf-1c9f-4b58-9a8c-d56bb755f8a5",
   "metadata": {},
   "source": [
    "# HoloViz Dev Deep Dive (.rx)"
   ]
  },
  {
   "cell_type": "markdown",
   "id": "48b7fdd8-1143-4726-b641-0bf921455fdf",
   "metadata": {},
   "source": [
    "The addition of `.rx` in Param has made certain operation a lot easier, particularly when working with data pipelines, to others they are still quite mysterious. In this deep dive we will discover why they were added, how they fit into the HoloViz reactivity model and then unpack how they work internally. \n",
    "\n",
    "## What are the benefits of reactivity?\n",
    "\n",
    "1. It is **data-driven**, i.e. the UI updates automatically in response to changes in the data model. In Excel the data model is represented by value of a cell, while React uses state hooks. In Panel the data model is defined by \"Parameters\". Each component and user class defines some parameters, and changes in the parameter values drive changes in the UI. In all these frameworks, automatic updates are achieved by what we will call **data binding**, how precisely this works will be the primary focus of this section.\n",
    "\n",
    "2. It is **declarative**, which means that the user defines what should be rendered, while the reactive framework figures out how to efficiently make the required updates. In Excel this process is relatively simple; Excel simply has to re-evaluate any formulas that depend on the changed inputs, and then update those cells' output. In React this involves something called the virtual DOM and involves \"diffing\" of the document model and then figuring out the most efficient updates to reflect the latest changes. In Panel the update process works either by defining a function whose output is diffed, or by binding references to a declarative component (if you don't know what that means yet, don't worry, that's what this guide is for!).\n",
    "\n",
    "This data-driven and declarative nature allows succinct expression of how a change in some input value should be reflected in the output.\n",
    "\n",
    "## How is Reactivity implemented in Param?\n",
    "\n",
    "Reactivity in Param is achieved through so called \"references\". A reference binds some state uni-directionally to a parameter on another object, i.e. we can bind the `value` parameter of a widget to some other widget:"
   ]
  },
  {
   "cell_type": "code",
   "execution_count": null,
   "id": "91e4d081-84ca-475d-85ea-e9745ff04dee",
   "metadata": {},
   "outputs": [],
   "source": [
    "visible = pn.widgets.Checkbox(name='visible', value=True)\n",
    "\n",
    "pn.Row(visible, pn.widgets.FloatSlider(visible=visible))"
   ]
  },
  {
   "cell_type": "markdown",
   "id": "e78e1daa-4384-43d1-b7d2-465648d1cc3b",
   "metadata": {},
   "source": [
    "This form of reactivity is concise, readable and easy to understand, but it also has a clear limitation. What happens if there isn't a straightforward 1-to-1 mapping between the input parameter and the parameter we are binding to?\n",
    "\n",
    "In the past we would have recommended bound functions for this, i.e. you would bind the parameter value to a function, which would transform the value and we could then bind the function to the parameter:"
   ]
  },
  {
   "cell_type": "code",
   "execution_count": null,
   "id": "7acc9588-8e5b-4dd1-a8aa-50f72158e901",
   "metadata": {},
   "outputs": [],
   "source": [
    "text = pn.widgets.TextInput(value='world')\n",
    "\n",
    "def format(text):\n",
    "    return f'Hello {text}!'\n",
    "\n",
    "pn.Column(\n",
    "    text,\n",
    "    pn.pane.Markdown(object=pn.bind(format, text))\n",
    ")"
   ]
  },
  {
   "cell_type": "markdown",
   "id": "0347a761-ae1f-4baa-95ac-1b81c70052ee",
   "metadata": {},
   "source": [
    "This still has a lot of the benefits, but functions have a few drawbacks:\n",
    "\n",
    "- `Verbosity`: Functions add boilerplate which obscures the purpose of what we are doing.\n",
    "- `Locality`: The function definition may not be co-located with the code that calls it, making it more difficult to trace what's happening."
   ]
  },
  {
   "cell_type": "markdown",
   "id": "f61cf71f-bc44-4a8c-8bec-eb390316a21d",
   "metadata": {},
   "source": [
    "### How is it implemented?"
   ]
  },
  {
   "cell_type": "markdown",
   "id": "b1cbd57c-749f-40d6-aee1-ccddc87e8a50",
   "metadata": {},
   "source": [
    "Reactive references in Param build on lower level primitives. Internally in Param each `Parameter.__set__` call tries to detect if the provided value is a real value or if it's a reference, but only if `allow_refs=True` is enabled."
   ]
  },
  {
   "cell_type": "code",
   "execution_count": null,
   "id": "1a7f6096-a529-40f2-9b2c-cb2b91a2485c",
   "metadata": {},
   "outputs": [],
   "source": [
    "class ParamRefExample(param.Parameterized):\n",
    "\n",
    "    a = param.List(default=0, allow_refs=True, nested_refs=True)\n",
    "\n",
    "    b = param.Integer(default=0, allow_refs=False)"
   ]
  },
  {
   "cell_type": "markdown",
   "id": "58153c8b-bb5e-4744-bd3b-5a9aac8b6ccd",
   "metadata": {},
   "source": [
    "So we can bind a reference to a parameter:"
   ]
  },
  {
   "cell_type": "code",
   "execution_count": null,
   "id": "345f5f60-4095-40b8-a81a-b8225502fd76",
   "metadata": {},
   "outputs": [],
   "source": [
    "int_input = pn.widgets.IntInput(value=5)\n",
    "\n",
    "ref_example = ParamRefExample(a=int_input)\n",
    "\n",
    "ref_example"
   ]
  },
  {
   "cell_type": "markdown",
   "id": "95d86d46-ae5a-4b43-afcf-e2c7fbf13cf1",
   "metadata": {},
   "source": [
    "and have it reflect the changes in the parameter value:"
   ]
  },
  {
   "cell_type": "code",
   "execution_count": null,
   "id": "707b1f03-3b29-4962-811a-95a5a73b5a52",
   "metadata": {},
   "outputs": [],
   "source": [
    "int_input.value = 10\n",
    "\n",
    "ref_example"
   ]
  },
  {
   "cell_type": "markdown",
   "id": "ce0be18e-9ec6-49cb-8cca-c438718f4723",
   "metadata": {},
   "source": [
    "but cannot bind it if it's not allowed:"
   ]
  },
  {
   "cell_type": "code",
   "execution_count": null,
   "id": "f6fc4405-189d-4144-b6e0-ffc71db2e104",
   "metadata": {},
   "outputs": [],
   "source": [
    "with param.exceptions_summarized():    \n",
    "    ParamRefExample(b=int_input)"
   ]
  },
  {
   "cell_type": "markdown",
   "id": "c0c33562-0076-41cb-96dc-c8c85835a9b6",
   "metadata": {},
   "source": [
    "Internally this is implemented through a number of helper functions and a dictionary of references:\n",
    "\n",
    "`resolve_ref` resolves the references given some value:"
   ]
  },
  {
   "cell_type": "code",
   "execution_count": null,
   "id": "25e03258-9d7a-40b6-9049-ca8b272daefa",
   "metadata": {},
   "outputs": [],
   "source": [
    "param.parameterized.resolve_ref(int_input)"
   ]
  },
  {
   "cell_type": "markdown",
   "id": "680e3013-6149-41de-8aa3-c3c87489d575",
   "metadata": {},
   "source": [
    "`resolve_value` resolves the current value of the reference:"
   ]
  },
  {
   "cell_type": "code",
   "execution_count": null,
   "id": "29d9f642-99f3-4292-8c2c-9c84486801c0",
   "metadata": {},
   "outputs": [],
   "source": [
    "param.parameterized.resolve_value(int_input)"
   ]
  },
  {
   "cell_type": "markdown",
   "id": "5842632c-5d35-4ef7-af37-5ed8ff26513e",
   "metadata": {},
   "source": [
    "And references are stored on the `_param__private` namespace object:"
   ]
  },
  {
   "cell_type": "code",
   "execution_count": null,
   "id": "28eb0a62-2eeb-49f5-b6b6-b64f62ab63d1",
   "metadata": {},
   "outputs": [],
   "source": [
    "ref_example.a = 2"
   ]
  },
  {
   "cell_type": "markdown",
   "id": "f5f0ac5a-22fd-48b6-876b-0411adc18b36",
   "metadata": {},
   "source": [
    "## Reactive Expressions\n",
    "\n",
    "Until now we covered parameter references and function references and highlighted the drawbacks of each, `.rx` is designed as another tool in your toolbox to succinctly express data transformations.\n",
    "\n",
    "In other languages and frameworks the concept of bound reactive functions and expressions is generally referred to as \"derived state\" or \"computed properties\". The main benefits of this approach includes:\n",
    "\n",
    "- Automatically recalculates values only when dependencies change, reducing unnecessary recomputations.\n",
    "- Clearly defines the relationship between state and derived values, making the code easier to read and understand.\n",
    "- Guarantees that computed values are always in sync with their dependencies, reducing potential bugs.\n",
    "- Optimized caching prevents redundant calculations (only applicable for `.rx`)\n",
    "\n",
    "In Python, unlike in JS based reactive frameworks, operator overloading makes a reactive expression language like `.rx` implements, especially appealing. Standard operations such as basic arithmetic, boolean logic, and operations like `__getitem__` can be transparently wrapped to allow a reactive value to behave just like the underlying value that is wrapped."
   ]
  },
  {
   "cell_type": "markdown",
   "id": "270853d5-fb72-45fd-9595-4a86d1b61d13",
   "metadata": {},
   "source": [
    "### Constructing reactive expressions\n",
    "\n",
    "Reactive expressions in Param can be constructed around a constant value or derived from an existing reference, i.e. we can wrap an existing value like an int:"
   ]
  },
  {
   "cell_type": "code",
   "execution_count": null,
   "id": "94a9a39b-bbe4-4ea7-b7e5-ae3ea79902f3",
   "metadata": {},
   "outputs": [],
   "source": [
    "rx_int = pn.rx(1)\n",
    "\n",
    "rx_int"
   ]
  },
  {
   "cell_type": "markdown",
   "id": "974b2e57-56f6-41d3-9b0c-08c741ba674d",
   "metadata": {},
   "source": [
    "and then update it manually:"
   ]
  },
  {
   "cell_type": "code",
   "execution_count": null,
   "id": "1bb55da4-102d-4e08-976c-9a7a31267459",
   "metadata": {},
   "outputs": [],
   "source": [
    "rx_int.rx.value = 2"
   ]
  },
  {
   "cell_type": "markdown",
   "id": "fc887ccb-7f17-4d97-a06d-31537bf99904",
   "metadata": {},
   "source": [
    "Or we can create one from an existing reference:"
   ]
  },
  {
   "cell_type": "code",
   "execution_count": null,
   "id": "2b5e2bd2-5a91-4b64-a468-25e1e311e254",
   "metadata": {},
   "outputs": [],
   "source": [
    "int_input = pn.widgets.IntInput(value=5)\n",
    "\n",
    "rx_int_input = pn.rx(int_input)\n",
    "\n",
    "rx_int_input"
   ]
  },
  {
   "cell_type": "markdown",
   "id": "7e531aaf-f608-485e-8bcb-c0b2ed535524",
   "metadata": {},
   "source": [
    "Since `rx` expression are only uni-directional we cannot modify the underlying value of a derived expression:"
   ]
  },
  {
   "cell_type": "code",
   "execution_count": null,
   "id": "57810979-03dd-4877-a750-5f48d98cbb6c",
   "metadata": {},
   "outputs": [],
   "source": [
    "with param.exceptions_summarized():    \n",
    "    rx_int_input.rx.value = 2"
   ]
  },
  {
   "cell_type": "markdown",
   "id": "4705b09f-aef8-4952-a262-f7c808c2bdf3",
   "metadata": {},
   "source": [
    "#### How do reactive expressions store the input?\n",
    "\n",
    "Internally reactive expressions use a mutable type to store the current input value:"
   ]
  },
  {
   "cell_type": "code",
   "execution_count": null,
   "id": "028a55cd-dc0b-4ec2-ae64-58a8698670b7",
   "metadata": {},
   "outputs": [],
   "source": [
    "print(rx_int._shared_obj)\n",
    "\n",
    "rx_int.rx.value = 3\n",
    "\n",
    "print(rx_int._shared_obj)"
   ]
  },
  {
   "cell_type": "markdown",
   "id": "c3acf3fe-9e31-404e-a99b-f7a0180ae408",
   "metadata": {},
   "source": [
    "and uses a `Wrapper` class to set up the signaling when the value is updated: "
   ]
  },
  {
   "cell_type": "code",
   "execution_count": null,
   "id": "68b79eba-60a1-4942-b249-7eda5a2ec235",
   "metadata": {},
   "outputs": [],
   "source": [
    "rx_int._wrapper"
   ]
  },
  {
   "cell_type": "markdown",
   "id": "8f84a7e2-9711-427f-85b0-fe63d1770bac",
   "metadata": {},
   "source": [
    "If the expression is derived from another reference however, it is wrapped in a bound function:"
   ]
  },
  {
   "cell_type": "code",
   "execution_count": null,
   "id": "8fcd00de-3673-4c3f-b0b0-df428c98fb0f",
   "metadata": {},
   "outputs": [],
   "source": [
    "print(rx_int_input._fn)"
   ]
  },
  {
   "cell_type": "markdown",
   "id": "bad61a8d-dee8-44eb-9c5d-487e6055675e",
   "metadata": {},
   "source": [
    "### Chaining\n",
    "\n",
    "Now we've arrived at the interesting part, how does the chaining of operations work? For operations that work via operator overloading the approach is quite simple:"
   ]
  },
  {
   "cell_type": "code",
   "execution_count": null,
   "id": "19a9353a-d6ad-4a77-aa09-3333563ef4df",
   "metadata": {},
   "outputs": [],
   "source": [
    "rx_int_add = rx_int + 1\n",
    "\n",
    "rx_int_add"
   ]
  },
  {
   "cell_type": "markdown",
   "id": "9dbbbc20-5941-4c98-b42f-1c1271021688",
   "metadata": {},
   "source": [
    "Internally this will call the `__radd__` dunder method, and then it's just a matter of recording the operation:"
   ]
  },
  {
   "cell_type": "code",
   "execution_count": null,
   "id": "3f512773-bda9-40ab-a02f-bedd8e8b04dc",
   "metadata": {},
   "outputs": [],
   "source": [
    "rx_int_add._operation"
   ]
  },
  {
   "cell_type": "markdown",
   "id": "4c76e028-53ee-4528-b51c-458dcc5a26bd",
   "metadata": {},
   "source": [
    "and recording the input expression:"
   ]
  },
  {
   "cell_type": "code",
   "execution_count": null,
   "id": "2ef3c63b-8b78-49ab-929f-2d82fb2c94f7",
   "metadata": {},
   "outputs": [],
   "source": [
    "print(rx_int_add._prev)"
   ]
  },
  {
   "cell_type": "code",
   "execution_count": null,
   "id": "209341d8-3454-46bf-b57b-02e6720f74a6",
   "metadata": {},
   "outputs": [],
   "source": [
    "text = pn.widgets.TextInput(value='world')\n",
    "\n",
    "pn.Column(\n",
    "    text,\n",
    "    pn.pane.Markdown(object=pn.rx(\"Hello {}!\").format(text))\n",
    ")"
   ]
  },
  {
   "cell_type": "markdown",
   "id": "7fcf7370-985a-48ab-b319-12f69674d8c8",
   "metadata": {},
   "source": [
    "We can now build a graph capturing the full expression and should any of the input references change we can re-run the expression to obtain the result. Before we unpack that further, let's dig into how this works for arbitrary method calls.\n",
    "\n",
    "In order for tab-completion to work we also implement `__dir__`. This makes it behave like the underlying wrapped object.\n",
    "\n",
    "Additionally the `__getattr__` implementation will check if a method is present on the underlying object and record it. A method call can be broken down into two steps:\n",
    "\n",
    "1. Accessing the method records the current method:"
   ]
  },
  {
   "cell_type": "code",
   "execution_count": null,
   "id": "d7bbc3dd-4373-4d29-aabc-785def533698",
   "metadata": {},
   "outputs": [],
   "source": [
    "method_access = rx_int_add.to_bytes\n",
    "\n",
    "method_access._method"
   ]
  },
  {
   "cell_type": "markdown",
   "id": "25b3d0a2-43f9-4ee5-9576-c8ddb3863e31",
   "metadata": {},
   "source": [
    "and 2. calling the method will record it as an operation:"
   ]
  },
  {
   "cell_type": "code",
   "execution_count": null,
   "id": "a783cb59-6854-4ab3-a4bf-f4339eb77cf1",
   "metadata": {},
   "outputs": [],
   "source": [
    "rx_bytes = method_access()\n",
    "\n",
    "print(rx_bytes._operation)\n",
    "\n",
    "rx_bytes"
   ]
  },
  {
   "cell_type": "markdown",
   "id": "997dbd14-ef7b-442d-aaa3-8d89b630de2a",
   "metadata": {},
   "source": [
    "## Updates\n",
    "\n",
    "So how do the updates work? What happens if I now update the input value:"
   ]
  },
  {
   "cell_type": "code",
   "execution_count": null,
   "id": "a6441fcc-5185-4618-944d-4f07a0504ab9",
   "metadata": {},
   "outputs": [],
   "source": [
    "rx_int.rx.value = 7"
   ]
  },
  {
   "cell_type": "markdown",
   "id": "d31e25db-45e7-4c08-b411-f57a3b4660eb",
   "metadata": {},
   "source": [
    "By default the answer is - not much. However because we are in an interactive environment the answer is quite a lot. Let's therefore create a non-interactive `rx` variable:"
   ]
  },
  {
   "cell_type": "code",
   "execution_count": null,
   "id": "b9492213-8030-4f5e-9cde-e2b5df6d34db",
   "metadata": {},
   "outputs": [],
   "source": [
    "rx_input = pn.rx(5)\n",
    "\n",
    "rx_result = rx_input + 5\n",
    "\n",
    "rx_input.rx.value = 5"
   ]
  },
  {
   "cell_type": "markdown",
   "id": "6437e9c5-27cb-46cd-a84d-43ff542cadf8",
   "metadata": {},
   "source": [
    "Accessing `rx_result` we now expect a value of 10, but in fact the addition hasn't happened yet. Instead all setting a new input value did was set a flag on `rx_result` saying it is dirty:"
   ]
  },
  {
   "cell_type": "code",
   "execution_count": null,
   "id": "55c61738-f721-4383-a060-ef7dd7035252",
   "metadata": {},
   "outputs": [],
   "source": [
    "rx_result._dirty"
   ]
  },
  {
   "cell_type": "markdown",
   "id": "42e069ac-9644-41d4-8117-a0016dbb2ef7",
   "metadata": {},
   "source": [
    "Only when something now tries to resolve the value, e.g. by accessing `rx_result.rx.value` does the actual computation get triggered:"
   ]
  },
  {
   "cell_type": "code",
   "execution_count": null,
   "id": "23a892b5-d345-4f7a-b11f-c6e156507403",
   "metadata": {},
   "outputs": [],
   "source": [
    "rx_result.rx.value"
   ]
  },
  {
   "cell_type": "markdown",
   "id": "646dd5cc-a137-4c37-95fb-72e265ed7918",
   "metadata": {},
   "source": [
    "As we can see the `rx_result` is now no longer dirty:"
   ]
  },
  {
   "cell_type": "code",
   "execution_count": null,
   "id": "98f20f15-cc9a-4253-81f6-5e6fc03f093e",
   "metadata": {},
   "outputs": [],
   "source": [
    "rx_result._dirty"
   ]
  },
  {
   "cell_type": "markdown",
   "id": "ce97f1af-3f16-4425-8924-136b9b28b13f",
   "metadata": {},
   "source": [
    "In this way the expression is kept up-to-date but also stays lazy, avoiding unnecessary calculation until they are actually needed.\n",
    "\n",
    "However, as soon as the reference is bound to something it is no longer lazy and it will update immediately:"
   ]
  },
  {
   "cell_type": "code",
   "execution_count": null,
   "id": "0f9cf085-d468-460c-a4a3-3dbb949e3ad1",
   "metadata": {},
   "outputs": [],
   "source": [
    "pn.indicators.Number(value=rx_result)"
   ]
  },
  {
   "cell_type": "code",
   "execution_count": null,
   "id": "eb9cbcba-da7e-4ebc-8275-ef1220b05a93",
   "metadata": {},
   "outputs": [],
   "source": [
    "rx_input.rx.value = 7"
   ]
  },
  {
   "cell_type": "markdown",
   "id": "f302d199-b4ff-41df-a082-963228849507",
   "metadata": {},
   "source": [
    "## When (not) to use .rx expressions?\n",
    "\n",
    "Now that we understand a lot of the internals of `rx` it's time to discuss when to use them, and when not to use them.\n",
    "\n",
    "### When to use them:\n",
    "\n",
    "- Simple, inline transformations: This is where they shine, you have a boolean value and just need to negate it before binding it as a reference? Perfect and simple.\n",
    "- Data Transformation: Pandas and other data libraries are arguably best used using method-chaining approaches and `rx` is a natural extension of that. Need to filter some data, multiply some columns and then compute the mean? Again, perfect, simple and clean and you can reuse the result thanks to the automatic caching.\n",
    "- Branching workflows: Say you have a dataset, want to transform or filter it dynamically, and then compute a bunch of different statistics from the same subset of the data. Thanks to caching of the intermediate values it is simple, clear and efficient to compute the derived statistics. \n",
    "\n",
    "### Examples"
   ]
  },
  {
   "cell_type": "markdown",
   "id": "de004928-ce18-48f0-89ae-add6ffdf0d0b",
   "metadata": {},
   "source": [
    "#### Inline Transforms"
   ]
  },
  {
   "cell_type": "code",
   "execution_count": null,
   "id": "c3073f76-d052-463b-9ee3-1329ce4b84c4",
   "metadata": {},
   "outputs": [],
   "source": [
    "slider = pn.widgets.IntSlider(start=0, end=11)\n",
    "\n",
    "pn.Column(\n",
    "    slider,\n",
    "    pn.pane.Alert(\n",
    "        \"Warning: Are you sure you want to turn this up to eleven?\",\n",
    "        alert_type='warning',\n",
    "        visible=slider.rx()>10\n",
    "    )\n",
    ")"
   ]
  },
  {
   "cell_type": "markdown",
   "id": "6e0ab70b-fcfd-498e-bf69-74dbead6465e",
   "metadata": {},
   "source": [
    "#### Data Transforms"
   ]
  },
  {
   "cell_type": "code",
   "execution_count": null,
   "id": "5faaf621-1796-4f30-908b-203c33058b53",
   "metadata": {},
   "outputs": [],
   "source": [
    "import pandas as pd\n",
    "\n",
    "df = pd.read_parquet(\"/Users/philippjfr/development/lumen/windturbines.parquet\")\n",
    "\n",
    "rx_df = pn.rx(df)\n",
    "\n",
    "states = pn.widgets.MultiChoice(options=list(df.t_state.unique()))\n",
    "filtered = rx_df[rx_df.t_state.isin(states)]\n",
    "capacity = filtered.t_cap.sum()\n",
    "count = filtered.rx.len()\n",
    "\n",
    "pn.Row(\n",
    "    states,\n",
    "    pn.indicators.Number(value=count, name='Count'),\n",
    "    pn.indicators.Number(value=capacity / 1000, name=\"Capacity (kWh)\")\n",
    ")"
   ]
  },
  {
   "cell_type": "markdown",
   "id": "95fa64d1-cf85-4550-859e-c207853d17c3",
   "metadata": {},
   "source": [
    "#### Branching"
   ]
  },
  {
   "cell_type": "markdown",
   "id": "76f7e562-5b04-49a1-906a-d9f5d1a8b5e9",
   "metadata": {},
   "source": [
    "### When not to use them?\n",
    "\n",
    "- Complex conditionals: One of the biggest drawbacks of `.rx` expressions is that you have to re-learn a lot of the programming patterns. Helpers like `.rx.when` or `.rx.where` can help with simple conditional cases but as soon as you have some complex chain of these it becomes very difficult to reason about.\n",
    "- Large Data: One of the biggest strengths of expressions is that they automatically perform caching, particularly useful for branching workflows, but for large data this can start working against you. Since intermediate results are cached, and Pandas is not always transparent about when it makes a copy of your data, you can end up with multiple copies of your large dataset in memory."
   ]
  }
 ],
 "metadata": {
  "kernelspec": {
   "display_name": "Python 3 (ipykernel)",
   "language": "python",
   "name": "python3"
  },
  "language_info": {
   "codemirror_mode": {
    "name": "ipython",
    "version": 3
   },
   "file_extension": ".py",
   "mimetype": "text/x-python",
   "name": "python",
   "nbconvert_exporter": "python",
   "pygments_lexer": "ipython3",
   "version": "3.11.8"
  }
 },
 "nbformat": 4,
 "nbformat_minor": 5
}
